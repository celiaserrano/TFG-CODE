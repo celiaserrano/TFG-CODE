{
 "cells": [
  {
   "cell_type": "markdown",
   "id": "ffb2c42c-3cd6-4ab5-9a87-6079d0a6817a",
   "metadata": {},
   "source": [
    "Each measure obtained before and during has been separated into the groups that have obtained good and bad performance and has been compared between them for each state of each measure. "
   ]
  },
  {
   "cell_type": "markdown",
   "id": "8cf5a3ec-6909-4271-868f-304e92d35707",
   "metadata": {},
   "source": [
    "## Subject indixes according to outcome"
   ]
  },
  {
   "cell_type": "code",
   "execution_count": 1,
   "id": "00277874-2476-4506-ba0d-21d03c80298f",
   "metadata": {},
   "outputs": [
    {
     "name": "stdout",
     "output_type": "stream",
     "text": [
      "[0, 4, 6, 9, 10, 14, 19, 21, 22, 30]\n",
      "[1, 2, 3, 5, 7, 8, 11, 12, 13, 15, 16, 17, 18, 20, 23, 24, 25, 26, 27, 28, 29, 31, 32, 33, 34, 35]\n"
     ]
    }
   ],
   "source": [
    "import pandas as pd\n",
    "\n",
    "info = pd.read_csv(\"subject-info.csv\")\n",
    "\n",
    "results = info[['Subject', 'Count quality']]\n",
    "\n",
    "df_quality_0 = results[results['Count quality'] == 0]\n",
    "df_quality_1 = results[results['Count quality'] == 1]\n",
    "\n",
    "indices0 = df_quality_0.index.tolist()\n",
    "\n",
    "indices1 = df_quality_1.index.tolist()\n",
    "\n",
    "print(indices0)\n",
    "print(indices1)"
   ]
  },
  {
   "cell_type": "markdown",
   "id": "07c31180-398f-4a56-ba8d-658fe161d456",
   "metadata": {},
   "source": [
    "# Sample Entropy BEFORE"
   ]
  },
  {
   "cell_type": "code",
   "execution_count": 7,
   "id": "3cab1f70-05ba-4c01-b55b-802974c30682",
   "metadata": {},
   "outputs": [
    {
     "name": "stdout",
     "output_type": "stream",
     "text": [
      "Values corresponding to the indexes of quality 0: [0.5285571057250944, 0.42654398622218515, 0.35721288007384067, 0.37305775569973454, 0.24637047838887294, 0.4032789702593528, 0.4333859530636326, 0.46574381833655476, 0.5917266849402294, 0.37019024974441084]\n",
      "Values corresponding to the indexes of quality 1: [0.46859174521100033, 0.5018749137689182, 0.46606379691025923, 0.4840823845770735, 0.427868264255631, 0.4470579580991745, 0.23407646358554435, 0.4450027204850394, 0.17666475550733557, 0.5031409363372029, 0.3977105280272048, 0.3757072683551125, 0.3986848392833504, 0.43905673708930637, 0.5098021927230386, 0.41313134907352095, 0.49010188174703456, 0.41879626332130115, 0.37573876190529043, 0.5153687622450677, 0.5954654480708415, 0.31858525551399675, 0.4884197853805168, 0.4493545262706201, 0.51231419343592, 0.37745178442159033]\n"
     ]
    }
   ],
   "source": [
    "import pickle\n",
    "\n",
    "file_path = \"sample_before_results.pkl\"  \n",
    "\n",
    "with open(file_path, \"rb\") as f:\n",
    "    data_before = pickle.load(f)\n",
    "\n",
    "# Extract the values corresponding to those indexes\n",
    "sample_before0 = [data_before[i] for i in indices0]\n",
    "sample_before1 = [data_before[i] for i in indices1]\n",
    "\n",
    "print(\"Values corresponding to the indexes of quality 0:\", sample_before0)\n",
    "print(\"Values corresponding to the indexes of quality 1:\", sample_before1)\n",
    "df_sample_before0 = pd.DataFrame(sample_before0, columns=['sample_before0'])\n",
    "df_sample_before1 = pd.DataFrame(sample_before1, columns=['sample_before1'])"
   ]
  },
  {
   "cell_type": "markdown",
   "id": "761bd3fe-a2e1-4fa2-b4c9-6cf73353032e",
   "metadata": {},
   "source": [
    "## Shapiro-Wilk test"
   ]
  },
  {
   "cell_type": "code",
   "execution_count": 10,
   "id": "0ecd1c06-a57d-41c4-92dc-d77816c627c5",
   "metadata": {},
   "outputs": [
    {
     "name": "stdout",
     "output_type": "stream",
     "text": [
      "The data follows a normal distribution: 0.9030303449998636\n"
     ]
    }
   ],
   "source": [
    "import pickle\n",
    "from scipy.stats import shapiro\n",
    "\n",
    "stat, p = shapiro(sample_before0) \n",
    "if p > 0.05:\n",
    "    print(\"The data follows a normal distribution:\", p)\n",
    "else:\n",
    "    print(\"The data does NOT follow a normal distribution:\", p)\n"
   ]
  },
  {
   "cell_type": "code",
   "execution_count": 12,
   "id": "153be5d1-8902-43ad-975e-635a0b21b2aa",
   "metadata": {},
   "outputs": [
    {
     "name": "stdout",
     "output_type": "stream",
     "text": [
      "The data does NOT follow a normal distribution: 0.02577824847791945\n"
     ]
    }
   ],
   "source": [
    "import pickle\n",
    "from scipy.stats import shapiro\n",
    "\n",
    "stat, p = shapiro(sample_before1) \n",
    "if p > 0.05:\n",
    "    print(\"The data follows a normal distribution:\", p)\n",
    "else:\n",
    "    print(\"The data does NOT follow a normal distribution:\", p)"
   ]
  },
  {
   "cell_type": "markdown",
   "id": "a982954d-8d4d-4458-9b22-1e6de4cd7156",
   "metadata": {},
   "source": [
    "## Mann-Whitney U test"
   ]
  },
  {
   "cell_type": "code",
   "execution_count": 15,
   "id": "70fd2b5c-3d2b-4c51-8b82-6961282e5c8b",
   "metadata": {},
   "outputs": [
    {
     "name": "stdout",
     "output_type": "stream",
     "text": [
      "There is NOT enough evidence of a significant difference, p-value:  0.3868714529706392 stat:  105.0\n"
     ]
    }
   ],
   "source": [
    "from scipy.stats import mannwhitneyu\n",
    "\n",
    "stat, p = mannwhitneyu(sample_before0, sample_before1)\n",
    "\n",
    "if p < 0.05:\n",
    "    print(\"There is a significant difference between the groups, p-value: \", p, \"stat: \", stat)\n",
    "else:\n",
    "    print(\"There is NOT enough evidence of a significant difference, p-value: \", p, \"stat: \", stat)\n"
   ]
  },
  {
   "cell_type": "markdown",
   "id": "dbc77e3e-cc84-4f0a-9fa3-81879e86094e",
   "metadata": {},
   "source": [
    "# Sample Entropy DURING"
   ]
  },
  {
   "cell_type": "code",
   "execution_count": 17,
   "id": "781ba0ba-a476-4acf-9a08-4e8ec0add3a2",
   "metadata": {},
   "outputs": [
    {
     "name": "stdout",
     "output_type": "stream",
     "text": [
      "Values corresponding to the indexes of quality 0: [0.48733844902699197, 0.4482686206717731, 0.29539757396380373, 0.2754795142282982, 0.3569311340580418, 0.35359108892752755, 0.34484789563507523, 0.35091863884707264, 0.3944583586132906, 0.30651078425464306]\n",
      "Values corresponding to the indexes of quality 1: [0.4550410262411696, 0.5105565238361804, 0.3655290181390165, 0.494807827760675, 0.3317148057446899, 0.34048776077974496, 0.20996901018626274, 0.5045353198479013, 0.17195162283358298, 0.4266477461945907, 0.32404505612899426, 0.3279465807388241, 0.3066950436893343, 0.34212682005298733, 0.44018018949632, 0.4333500775671455, 0.49514362093173525, 0.30017891909685424, 0.2467031862800439, 0.42387577327944936, 0.5750872232701889, 0.28053937794312384, 0.5397918710244988, 0.28852589670508844, 0.4891874486583998, 0.3890024976009231]\n"
     ]
    }
   ],
   "source": [
    "import pickle\n",
    "\n",
    "file_path = \"sample_during_results.pkl\"  \n",
    "\n",
    "with open(file_path, \"rb\") as f:\n",
    "    data_during = pickle.load(f)\n",
    "\n",
    "# Extract the values corresponding to those indexes\n",
    "sample_during0 = [data_during[i] for i in indices0]\n",
    "sample_during1 = [data_during[i] for i in indices1]\n",
    "\n",
    "print(\"Values corresponding to the indexes of quality 0:\", sample_during0)\n",
    "print(\"Values corresponding to the indexes of quality 1:\", sample_during1)\n",
    "df_sample_during0 = pd.DataFrame(sample_during0, columns=['sample_during0'])\n",
    "df_sample_during1 = pd.DataFrame(sample_during1, columns=['sample_during1'])"
   ]
  },
  {
   "cell_type": "markdown",
   "id": "5d8a53fa-b270-422f-bf50-b6076103736c",
   "metadata": {},
   "source": [
    "## Shapiro-Wilk test"
   ]
  },
  {
   "cell_type": "code",
   "execution_count": 20,
   "id": "9255e41e-ab7b-49c0-978a-97791d6a4e8a",
   "metadata": {},
   "outputs": [
    {
     "name": "stdout",
     "output_type": "stream",
     "text": [
      "The data follows a normal distribution: 0.45674747060359444\n"
     ]
    }
   ],
   "source": [
    "import pickle\n",
    "from scipy.stats import shapiro\n",
    "\n",
    "# Shapiro-Wilk test for normality\n",
    "stat, p = shapiro(sample_during0) \n",
    "if p > 0.05:\n",
    "    print(\"The data follows a normal distribution:\", p)\n",
    "else:\n",
    "    print(\"The data DOES NOT follow a normal distribution:\", p)\n"
   ]
  },
  {
   "cell_type": "code",
   "execution_count": 22,
   "id": "ad5360e4-8b2a-4433-83ea-02dbfc5bff33",
   "metadata": {},
   "outputs": [
    {
     "name": "stdout",
     "output_type": "stream",
     "text": [
      "The data follows a normal distribution: 0.7104742147577041\n"
     ]
    }
   ],
   "source": [
    "import pickle\n",
    "from scipy.stats import shapiro\n",
    "\n",
    "# Shapiro-Wilk test for normality\n",
    "stat, p = shapiro(sample_during1) \n",
    "if p > 0.05:\n",
    "    print(\"The data follows a normal distribution:\", p)\n",
    "else:\n",
    "    print(\"The data DOES NOT follow a normal distribution:\", p)\n"
   ]
  },
  {
   "cell_type": "markdown",
   "id": "ea9f0a84-f572-463e-a18a-b5af1a180815",
   "metadata": {},
   "source": [
    "## Independent t-test"
   ]
  },
  {
   "cell_type": "code",
   "execution_count": 25,
   "id": "b3e200f5-36cb-4e64-a3ef-b073832bec92",
   "metadata": {},
   "outputs": [
    {
     "name": "stdout",
     "output_type": "stream",
     "text": [
      "There is NOT enough evidence of a significant difference, p-value:  0.5155214711675458 stat:  -0.6571297588487754\n"
     ]
    }
   ],
   "source": [
    "from scipy.stats import ttest_ind\n",
    "\n",
    "stat, p = ttest_ind(sample_during0, sample_during1)\n",
    "\n",
    "if p < 0.05:\n",
    "    print(\"There is a significant difference between the groups, p-value: \", p, \"stat: \", stat)\n",
    "else:\n",
    "    print(\"There is NOT enough evidence of a significant difference, p-value: \", p, \"stat: \", stat)\n"
   ]
  },
  {
   "cell_type": "markdown",
   "id": "9dfaf65a-1a27-4101-bf2b-539b456df3ea",
   "metadata": {},
   "source": [
    "# Relative Power BEFORE"
   ]
  },
  {
   "cell_type": "code",
   "execution_count": 61,
   "id": "12ddd936-636e-4f2f-8bb5-f9bc75d416f1",
   "metadata": {
    "scrolled": true
   },
   "outputs": [
    {
     "name": "stdout",
     "output_type": "stream",
     "text": [
      "Power before para pacientes en indices_sumados0\n",
      "\n",
      "Band: delta\n",
      "   Power Before\n",
      "0     16.539006\n",
      "1     40.950820\n",
      "2     32.040661\n",
      "3     32.920746\n",
      "4     54.204759\n",
      "5     31.249698\n",
      "6     25.001850\n",
      "7     36.417991\n",
      "8     27.162981\n",
      "9     19.817120\n",
      "\n",
      "Band: theta\n",
      "   Power Before\n",
      "0      5.573255\n",
      "1     11.675281\n",
      "2      9.964603\n",
      "3     11.362842\n",
      "4     22.830548\n",
      "5      8.725931\n",
      "6      5.786735\n",
      "7     10.582994\n",
      "8      4.308364\n",
      "9     10.053966\n",
      "\n",
      "Band: alpha\n",
      "   Power Before\n",
      "0     67.085880\n",
      "1     35.221479\n",
      "2     47.237395\n",
      "3     48.201649\n",
      "4     15.582296\n",
      "5     44.560336\n",
      "6     60.455968\n",
      "7     38.462126\n",
      "8     60.627777\n",
      "9     61.169587\n",
      "\n",
      "Band: beta\n",
      "   Power Before\n",
      "0     10.217711\n",
      "1     11.472998\n",
      "2      8.994665\n",
      "3      6.784914\n",
      "4      6.347583\n",
      "5     14.028977\n",
      "6      7.423522\n",
      "7     13.660469\n",
      "8      7.276483\n",
      "9      8.213614\n",
      "\n",
      "Band: gamma\n",
      "   Power Before\n",
      "0      0.584148\n",
      "1      0.679421\n",
      "2      1.762675\n",
      "3      0.729849\n",
      "4      1.034815\n",
      "5      1.435058\n",
      "6      1.331924\n",
      "7      0.876421\n",
      "8      0.624395\n",
      "9      0.745713\n",
      "\n",
      "Power before para pacientes en indices_sumados1\n",
      "\n",
      "Band: delta\n",
      "    Power Before\n",
      "0      37.717432\n",
      "1      33.920699\n",
      "2      25.074880\n",
      "3      13.669411\n",
      "4      31.216150\n",
      "5      37.497345\n",
      "6      61.161873\n",
      "7      36.599420\n",
      "8      69.552982\n",
      "9      14.597107\n",
      "10     45.594301\n",
      "11     47.697889\n",
      "12     37.367233\n",
      "13     41.229961\n",
      "14     16.829661\n",
      "15     36.460053\n",
      "16     20.254966\n",
      "17     23.165081\n",
      "18     28.101601\n",
      "19     19.000521\n",
      "20     11.700745\n",
      "21     29.924307\n",
      "22     24.431928\n",
      "23     20.637862\n",
      "24     41.143631\n",
      "25     59.696198\n",
      "\n",
      "Band: theta\n",
      "    Power Before\n",
      "0       7.058383\n",
      "1       8.425827\n",
      "2      12.086988\n",
      "3       5.215067\n",
      "4      16.596999\n",
      "5       6.541181\n",
      "6      11.636240\n",
      "7      13.480606\n",
      "8      13.317485\n",
      "9       5.998387\n",
      "10     12.687529\n",
      "11     14.944776\n",
      "12     13.870777\n",
      "13      7.932356\n",
      "14      9.743265\n",
      "15      4.957606\n",
      "16     14.108205\n",
      "17     11.225715\n",
      "18      7.071971\n",
      "19     10.033113\n",
      "20      4.339496\n",
      "21     10.850137\n",
      "22     15.249198\n",
      "23      9.026303\n",
      "24      7.481115\n",
      "25      7.629060\n",
      "\n",
      "Band: alpha\n",
      "    Power Before\n",
      "0      36.201181\n",
      "1      42.682292\n",
      "2      51.306723\n",
      "3      75.560595\n",
      "4      41.479973\n",
      "5      47.858010\n",
      "6      15.184664\n",
      "7      42.166809\n",
      "8       9.081753\n",
      "9      71.359299\n",
      "10     32.939702\n",
      "11     27.409645\n",
      "12     38.986027\n",
      "13     37.664822\n",
      "14     66.963080\n",
      "15     47.911517\n",
      "16     56.314687\n",
      "17     59.202134\n",
      "18     55.216222\n",
      "19     55.977897\n",
      "20     74.260400\n",
      "21     48.913195\n",
      "22     42.613431\n",
      "23     63.583787\n",
      "24     33.186255\n",
      "25     20.186411\n",
      "\n",
      "Band: beta\n",
      "    Power Before\n",
      "0      17.780124\n",
      "1      13.417670\n",
      "2      10.691358\n",
      "3       5.096747\n",
      "4       9.499243\n",
      "5       7.157389\n",
      "6      10.049865\n",
      "7       6.892664\n",
      "8       6.435382\n",
      "9       7.441055\n",
      "10      7.903514\n",
      "11      8.809671\n",
      "12      8.554368\n",
      "13     12.460880\n",
      "14      6.110665\n",
      "15      9.717319\n",
      "16      8.854926\n",
      "17      5.922941\n",
      "18      8.826789\n",
      "19     14.451160\n",
      "20      9.352334\n",
      "21      9.201354\n",
      "22     13.945864\n",
      "23      6.279346\n",
      "24     14.579378\n",
      "25     11.089726\n",
      "\n",
      "Band: gamma\n",
      "    Power Before\n",
      "0       1.242880\n",
      "1       1.553511\n",
      "2       0.840050\n",
      "3       0.458180\n",
      "4       1.207635\n",
      "5       0.946075\n",
      "6       1.967357\n",
      "7       0.860501\n",
      "8       1.612397\n",
      "9       0.604152\n",
      "10      0.874954\n",
      "11      1.138019\n",
      "12      1.221594\n",
      "13      0.711982\n",
      "14      0.353330\n",
      "15      0.953505\n",
      "16      0.467214\n",
      "17      0.484129\n",
      "18      0.783417\n",
      "19      0.537309\n",
      "20      0.347024\n",
      "21      1.111007\n",
      "22      3.759580\n",
      "23      0.472701\n",
      "24      3.609622\n",
      "25      1.398606\n"
     ]
    }
   ],
   "source": [
    "import pandas as pd\n",
    "\n",
    "info = pd.read_csv(\"power_O2_before.csv\")\n",
    "\n",
    "\n",
    "indices_sumados0 = [i + 1 for i in indices0]\n",
    "indices_sumados1 = [i + 1 for i in indices1]\n",
    "\n",
    "bands = ['delta', 'theta', 'alpha', 'beta', 'gamma']\n",
    "\n",
    "# Function to extract Power before for each band and save it in a DataFrame\n",
    "def get_power_for_band(indices, bands):\n",
    "    selected_data = info[info['Patient'].isin(indices)]\n",
    "    power_by_band = {}\n",
    "    \n",
    "    for band in bands:\n",
    "        selected_data_band = selected_data[selected_data['Band'] == band]\n",
    "        power_by_band[band] = selected_data_band[['Power Before']]\n",
    "    \n",
    "    return power_by_band\n",
    "\n",
    "# Get the data for the two sets of patients \n",
    "power_before0 = get_power_for_band(indices_sumados0, bands)\n",
    "power_before1 = get_power_for_band(indices_sumados1, bands)\n",
    "\n",
    "# Save the results in separate DataFrames\n",
    "df_power_before0 = {}\n",
    "df_power_before1 = {}\n",
    "\n",
    "for band in bands:\n",
    "    df_power_before0[band] = power_before0[band].reset_index(drop=True)\n",
    "    \n",
    "for band in bands:\n",
    "    df_power_before1[band] = power_before1[band].reset_index(drop=True)\n",
    "\n",
    "print(\"Power before para pacientes en indices_sumados0\")\n",
    "for band in bands:\n",
    "    print(f\"\\nBand: {band}\")\n",
    "    print(df_power_before0[band])\n",
    "\n",
    "print(\"\\nPower before para pacientes en indices_sumados1\")\n",
    "for band in bands:\n",
    "    print(f\"\\nBand: {band}\")\n",
    "    print(df_power_before1[band])\n"
   ]
  },
  {
   "cell_type": "markdown",
   "id": "e15162c7-5e1a-4122-bf71-4b0dd7fb920f",
   "metadata": {},
   "source": [
    "## Delta band"
   ]
  },
  {
   "cell_type": "markdown",
   "id": "9ef8f611-ad34-4005-9e37-b39599aa9a6d",
   "metadata": {},
   "source": [
    "## Shapiro-Wilk test"
   ]
  },
  {
   "cell_type": "code",
   "execution_count": 63,
   "id": "a731e297-75f1-4c2d-830f-fbfaae696e26",
   "metadata": {},
   "outputs": [
    {
     "name": "stdout",
     "output_type": "stream",
     "text": [
      "The data follows a normal distribution: 0.7577796771360514\n"
     ]
    }
   ],
   "source": [
    "from scipy.stats import shapiro\n",
    "\n",
    "delta_before0 = df_power_before0['delta']\n",
    "\n",
    "# Shapiro-Wilk test\n",
    "stat, p = shapiro(delta_before0)\n",
    "if p > 0.05:\n",
    "    print(\"The data follows a normal distribution:\", p)\n",
    "else:\n",
    "    print(\"The data DOES NOT follow a normal distribution:\", p)"
   ]
  },
  {
   "cell_type": "code",
   "execution_count": 65,
   "id": "9568a641-2ba1-4660-a6cc-e8f4a2efc502",
   "metadata": {},
   "outputs": [
    {
     "name": "stdout",
     "output_type": "stream",
     "text": [
      "The data follows a normal distribution: 0.19094410631747244\n"
     ]
    }
   ],
   "source": [
    "from scipy.stats import shapiro\n",
    "\n",
    "delta_before1 = df_power_before1['delta']\n",
    "\n",
    "# Shapiro-Wilk test\n",
    "stat, p = shapiro(delta_before1)\n",
    "if p > 0.05:\n",
    "    print(\"The data follows a normal distribution:\", p)\n",
    "else:\n",
    "    print(\"The data DOES NOT follow a normal distribution:\", p)"
   ]
  },
  {
   "cell_type": "markdown",
   "id": "a7422452-f0e9-47cc-9fa2-91f2f1227196",
   "metadata": {},
   "source": [
    "## Independent t-test"
   ]
  },
  {
   "cell_type": "code",
   "execution_count": 68,
   "id": "809122be-4e37-4323-a80d-013591d56f63",
   "metadata": {},
   "outputs": [
    {
     "name": "stdout",
     "output_type": "stream",
     "text": [
      "There is NOT enough evidence of a significant difference, p-value:  [0.75981049] stat:  [-0.30820003]\n"
     ]
    }
   ],
   "source": [
    "from scipy.stats import ttest_ind\n",
    "\n",
    "stat, p = ttest_ind(delta_before0, delta_before1)\n",
    "\n",
    "if p < 0.05:\n",
    "    print(\"There is a significant difference between the groups, p-value: \", p, \"stat: \", stat)\n",
    "else:\n",
    "    print(\"There is NOT enough evidence of a significant difference, p-value: \", p, \"stat: \", stat)\n"
   ]
  },
  {
   "cell_type": "markdown",
   "id": "0da43d43-c06e-41d5-a4f5-9714c9010225",
   "metadata": {},
   "source": [
    "## Theta band"
   ]
  },
  {
   "cell_type": "markdown",
   "id": "387aca65-80de-418e-81cb-a9f235815390",
   "metadata": {},
   "source": [
    "## Shapiro-Wilk test"
   ]
  },
  {
   "cell_type": "code",
   "execution_count": 70,
   "id": "23e9196f-4483-423b-97ba-8e51a91ce60b",
   "metadata": {},
   "outputs": [
    {
     "name": "stdout",
     "output_type": "stream",
     "text": [
      "The data DOES NOT follow a normal distribution: 0.025775589985871664\n"
     ]
    }
   ],
   "source": [
    "from scipy.stats import shapiro\n",
    "\n",
    "theta_before0 = df_power_before0['theta']\n",
    "\n",
    "# Shapiro-Wilk test\n",
    "stat, p = shapiro(theta_before0)\n",
    "\n",
    "if p > 0.05:\n",
    "    print(\"The data follows a normal distribution:\", p)\n",
    "else:\n",
    "    print(\"The data DOES NOT follow a normal distribution:\", p)"
   ]
  },
  {
   "cell_type": "code",
   "execution_count": 72,
   "id": "ea8906d0-0300-4702-ade5-f78abdfabb09",
   "metadata": {},
   "outputs": [
    {
     "name": "stdout",
     "output_type": "stream",
     "text": [
      "The data follows a normal distribution: 0.4216062462695964\n"
     ]
    }
   ],
   "source": [
    "from scipy.stats import shapiro\n",
    "\n",
    "theta_before1 = df_power_before1['theta']\n",
    "\n",
    "# Shapiro-Wilk test\n",
    "stat, p = shapiro(theta_before1)\n",
    "\n",
    "if p > 0.05:\n",
    "    print(\"The data follows a normal distribution:\", p)\n",
    "else:\n",
    "    print(\"The data DOES NOT follow a normal distribution:\", p)"
   ]
  },
  {
   "cell_type": "markdown",
   "id": "d1e4c801-adf7-4f50-88f5-8174d74e6ce5",
   "metadata": {},
   "source": [
    "## Mann-Whitney U test"
   ]
  },
  {
   "cell_type": "code",
   "execution_count": 74,
   "id": "9fc3c7b5-bb97-4a71-8cdd-c3dac88f4ead",
   "metadata": {},
   "outputs": [
    {
     "name": "stdout",
     "output_type": "stream",
     "text": [
      "There is NOT enough evidence of a significant difference, p-value:  [0.65886402] stat:  [117.]\n"
     ]
    }
   ],
   "source": [
    "from scipy.stats import mannwhitneyu\n",
    "\n",
    "stat, p = mannwhitneyu(theta_before0, theta_before1)\n",
    "\n",
    "if p < 0.05:\n",
    "    print(\"There is a significant difference between the groups, p-value: \", p, \"stat: \", stat)\n",
    "else:\n",
    "    print(\"There is NOT enough evidence of a significant difference, p-value: \", p, \"stat: \", stat)\n"
   ]
  },
  {
   "cell_type": "markdown",
   "id": "5707e0b2-b412-49eb-ae4e-5e3261978ae1",
   "metadata": {},
   "source": [
    "## Alpha band"
   ]
  },
  {
   "cell_type": "markdown",
   "id": "d1b0d2e4-82f9-4e0e-b4d5-82e8b0756b29",
   "metadata": {},
   "source": [
    "## Shapiro-Wilk test"
   ]
  },
  {
   "cell_type": "code",
   "execution_count": 76,
   "id": "094f62c5-659e-4caa-82cc-a22d632713e3",
   "metadata": {},
   "outputs": [
    {
     "name": "stdout",
     "output_type": "stream",
     "text": [
      "The data follows a normal distribution: 0.4105724923236161\n"
     ]
    }
   ],
   "source": [
    "from scipy.stats import shapiro\n",
    "\n",
    "alpha_before0 = df_power_before0['alpha']\n",
    "\n",
    "# Shapiro-Wilk test\n",
    "stat, p = shapiro(alpha_before0)\n",
    "\n",
    "if p > 0.05:\n",
    "    print(\"The data follows a normal distribution:\", p)\n",
    "else:\n",
    "    print(\"The data DOES NOT follow a normal distribution:\", p)"
   ]
  },
  {
   "cell_type": "code",
   "execution_count": 78,
   "id": "3c4afde8-2597-48b7-aca8-a8118ab41438",
   "metadata": {},
   "outputs": [
    {
     "name": "stdout",
     "output_type": "stream",
     "text": [
      "The data follows a normal distribution: 0.8735520812528734\n"
     ]
    }
   ],
   "source": [
    "from scipy.stats import shapiro\n",
    "\n",
    "alpha_before1 = df_power_before1['alpha']\n",
    "\n",
    "# Shapiro-Wilk test\n",
    "stat, p = shapiro(alpha_before1)\n",
    "\n",
    "if p > 0.05:\n",
    "    print(\"The data follows a normal distribution:\", p)\n",
    "else:\n",
    "    print(\"The data DOES NOT follow a normal distribution:\", p)"
   ]
  },
  {
   "cell_type": "markdown",
   "id": "4e1be622-91b1-4365-a0f9-7f102a0ff8c7",
   "metadata": {},
   "source": [
    "## Independent t-test"
   ]
  },
  {
   "cell_type": "code",
   "execution_count": 81,
   "id": "f2108f57-973c-4719-8c8e-7b3c81f5e09b",
   "metadata": {},
   "outputs": [
    {
     "name": "stdout",
     "output_type": "stream",
     "text": [
      "There is NOT enough evidence of a significant difference, p-value:  [0.76043794] stat:  [0.30736831]\n"
     ]
    }
   ],
   "source": [
    "from scipy.stats import ttest_ind\n",
    "\n",
    "stat, p = ttest_ind(alpha_before0, alpha_before1)\n",
    "\n",
    "if p < 0.05:\n",
    "    print(\"There is a significant difference between the groups, p-value: \", p, \"stat: \", stat)\n",
    "else:\n",
    "    print(\"There is NOT enough evidence of a significant difference, p-value: \", p, \"stat: \", stat)\n"
   ]
  },
  {
   "cell_type": "markdown",
   "id": "4ebaada0-b32e-47df-9b07-9679e8f501e3",
   "metadata": {},
   "source": [
    "## Beta band"
   ]
  },
  {
   "cell_type": "markdown",
   "id": "d4660c76-7232-450f-9475-f88953afa15a",
   "metadata": {},
   "source": [
    "## Shapiro-Wilk test"
   ]
  },
  {
   "cell_type": "code",
   "execution_count": 85,
   "id": "58c47e39-efcf-4865-a31c-ab53094089e6",
   "metadata": {},
   "outputs": [
    {
     "name": "stdout",
     "output_type": "stream",
     "text": [
      "The data follows a normal distribution: 0.18175942599887152\n"
     ]
    }
   ],
   "source": [
    "from scipy.stats import shapiro\n",
    "\n",
    "beta_before0 = df_power_before0['beta']\n",
    "\n",
    "# Shapiro-Wilk test\n",
    "stat, p = shapiro(beta_before0)\n",
    "if p > 0.05:\n",
    "    print(\"The data follows a normal distribution:\", p)\n",
    "else:\n",
    "    print(\"The data DOES NOT follow a normal distribution:\", p)"
   ]
  },
  {
   "cell_type": "code",
   "execution_count": 87,
   "id": "0fb9a6b5-4621-4593-9788-37af085f51dd",
   "metadata": {},
   "outputs": [
    {
     "name": "stdout",
     "output_type": "stream",
     "text": [
      "The data follows a normal distribution: 0.09962728484667016\n"
     ]
    }
   ],
   "source": [
    "from scipy.stats import shapiro\n",
    "\n",
    "beta_before1 = df_power_before1['beta']\n",
    "\n",
    "# Shapiro-Wilk test\n",
    "stat, p = shapiro(beta_before1)\n",
    "if p > 0.05:\n",
    "    print(\"The data follows a normal distribution:\", p)\n",
    "else:\n",
    "    print(\"The data DOES NOT follow a normal distribution:\", p)"
   ]
  },
  {
   "cell_type": "markdown",
   "id": "9e149bf1-ed8b-4da4-8677-f004ee78305e",
   "metadata": {},
   "source": [
    "## Independent t-test"
   ]
  },
  {
   "cell_type": "code",
   "execution_count": 89,
   "id": "57ce52e5-ccff-48a3-ab74-83199f586c41",
   "metadata": {},
   "outputs": [
    {
     "name": "stdout",
     "output_type": "stream",
     "text": [
      "There is NOT enough evidence of a significant difference, p-value:  [0.86693466] stat:  [-0.16882502]\n"
     ]
    }
   ],
   "source": [
    "from scipy.stats import ttest_ind\n",
    "\n",
    "stat, p = ttest_ind(beta_before0, beta_before1)\n",
    "\n",
    "if p < 0.05:\n",
    "    print(\"There is a significant difference between the groups, p-value: \", p, \"stat: \", stat)\n",
    "else:\n",
    "    print(\"There is NOT enough evidence of a significant difference, p-value: \", p, \"stat: \", stat)"
   ]
  },
  {
   "cell_type": "markdown",
   "id": "ba97dc20-a97b-4f0b-a6ab-1abeb91ea527",
   "metadata": {},
   "source": [
    "## Gamma band"
   ]
  },
  {
   "cell_type": "markdown",
   "id": "b5068e84-16b2-4757-a27c-4049bd014afa",
   "metadata": {},
   "source": [
    "## Shapiro-Wilk test"
   ]
  },
  {
   "cell_type": "code",
   "execution_count": 94,
   "id": "1f25969d-1548-4cf6-83de-14c5777c54d9",
   "metadata": {},
   "outputs": [
    {
     "name": "stdout",
     "output_type": "stream",
     "text": [
      "The data follows a normal distribution: 0.11276930517571243\n"
     ]
    }
   ],
   "source": [
    "from scipy.stats import shapiro\n",
    "\n",
    "gamma_before0 = df_power_before0['gamma']\n",
    "\n",
    "# Shapiro-Wilk test\n",
    "stat, p = shapiro(gamma_before0)\n",
    "\n",
    "if p > 0.05:\n",
    "    print(\"The data follows a normal distribution:\", p)\n",
    "else:\n",
    "    print(\"The data DOES NOT follow a normal distribution:\", p)"
   ]
  },
  {
   "cell_type": "code",
   "execution_count": 96,
   "id": "5601acdd-70ff-4c61-8146-0715b2671bfe",
   "metadata": {},
   "outputs": [
    {
     "name": "stdout",
     "output_type": "stream",
     "text": [
      "The data DOES NOT follow a normal distribution: 2.4918160847206455e-05\n"
     ]
    }
   ],
   "source": [
    "from scipy.stats import shapiro\n",
    "\n",
    "gamma_before1 = df_power_before1['gamma']\n",
    "\n",
    "# Shapiro-Wilk test\n",
    "stat, p = shapiro(gamma_before1)\n",
    "\n",
    "if p > 0.05:\n",
    "    print(\"The data follows a normal distribution:\", p)\n",
    "else:\n",
    "    print(\"The data DOES NOT follow a normal distribution:\", p)"
   ]
  },
  {
   "cell_type": "markdown",
   "id": "a3d97fdc-25fa-4390-a7c9-c869425191b0",
   "metadata": {},
   "source": [
    "## Mann-Whitney U test"
   ]
  },
  {
   "cell_type": "code",
   "execution_count": 98,
   "id": "e1c25f7c-79d4-4a2e-984c-8c9fe5b0694a",
   "metadata": {},
   "outputs": [
    {
     "name": "stdout",
     "output_type": "stream",
     "text": [
      "There is NOT enough evidence of a significant difference, p-value:  [0.92964108] stat:  [133.]\n"
     ]
    }
   ],
   "source": [
    "from scipy.stats import mannwhitneyu\n",
    "\n",
    "stat, p = mannwhitneyu(gamma_before0, gamma_before1)\n",
    "\n",
    "if p < 0.05:\n",
    "    print(\"There is a significant difference between the groups, p-value: \", p, \"stat: \", stat)\n",
    "else:\n",
    "    print(\"There is NOT enough evidence of a significant difference, p-value: \", p, \"stat: \", stat)"
   ]
  },
  {
   "cell_type": "markdown",
   "id": "5ee9cdea-54ed-49d7-8aba-4477dc327703",
   "metadata": {},
   "source": [
    "# Relative Power DURING"
   ]
  },
  {
   "cell_type": "code",
   "execution_count": 104,
   "id": "84e94cde-53e3-405f-86e5-4e03ad00ad1a",
   "metadata": {
    "scrolled": true
   },
   "outputs": [
    {
     "name": "stdout",
     "output_type": "stream",
     "text": [
      "Power During for patients in indices_sumados0\n",
      "\n",
      "Band: delta\n",
      "   Power During\n",
      "0     15.879090\n",
      "1     42.465827\n",
      "2     51.777569\n",
      "3     48.453726\n",
      "4     27.562640\n",
      "5     57.165117\n",
      "6     46.022167\n",
      "7     35.157726\n",
      "8     47.630342\n",
      "9     25.088847\n",
      "\n",
      "Band: theta\n",
      "   Power During\n",
      "0      5.539176\n",
      "1     11.480360\n",
      "2      9.303343\n",
      "3     12.638801\n",
      "4      4.300374\n",
      "5      7.443972\n",
      "6     10.336559\n",
      "7     15.389205\n",
      "8     10.738044\n",
      "9     10.112794\n",
      "\n",
      "Band: alpha\n",
      "   Power During\n",
      "0     66.092667\n",
      "1     26.410610\n",
      "2     22.657491\n",
      "3     29.888312\n",
      "4     62.823730\n",
      "5     20.445487\n",
      "6     31.031252\n",
      "7     36.983910\n",
      "8     27.566967\n",
      "9     54.378412\n",
      "\n",
      "Band: beta\n",
      "   Power During\n",
      "0     11.586037\n",
      "1     18.887349\n",
      "2     12.019963\n",
      "3      7.566274\n",
      "4      4.794841\n",
      "5     13.441218\n",
      "6     10.089736\n",
      "7     11.510041\n",
      "8     13.206485\n",
      "9      9.390087\n",
      "\n",
      "Band: gamma\n",
      "   Power During\n",
      "0      0.903031\n",
      "1      0.755853\n",
      "2      4.241634\n",
      "3      1.452887\n",
      "4      0.518416\n",
      "5      1.504206\n",
      "6      2.520285\n",
      "7      0.959118\n",
      "8      0.858162\n",
      "9      1.029860\n",
      "\n",
      "Power During for patients in indices_sumados1\n",
      "\n",
      "Band: delta\n",
      "    Power During\n",
      "0      93.734385\n",
      "1      27.969408\n",
      "2      39.818555\n",
      "3      14.349245\n",
      "4      38.694851\n",
      "5      50.684662\n",
      "6      71.396155\n",
      "7      17.073783\n",
      "8      63.538615\n",
      "9      21.558296\n",
      "10     51.073164\n",
      "11     50.183165\n",
      "12     54.709876\n",
      "13     69.630641\n",
      "14     21.151330\n",
      "15     27.032074\n",
      "16     36.544034\n",
      "17     33.385204\n",
      "18     46.427673\n",
      "19     34.309081\n",
      "20     11.423848\n",
      "21     40.557165\n",
      "22     21.860809\n",
      "23     40.425578\n",
      "24     36.336454\n",
      "25     56.059661\n",
      "\n",
      "Band: theta\n",
      "    Power During\n",
      "0       2.413264\n",
      "1       5.227559\n",
      "2      12.842784\n",
      "3       3.720862\n",
      "4      14.606685\n",
      "5      10.065703\n",
      "6       6.965837\n",
      "7       6.217971\n",
      "8      15.981040\n",
      "9       7.182612\n",
      "10     15.306459\n",
      "11     11.402234\n",
      "12     10.397247\n",
      "13      8.057782\n",
      "14      6.741152\n",
      "15      4.888229\n",
      "16      9.108953\n",
      "17      9.347097\n",
      "18     14.706339\n",
      "19      9.081811\n",
      "20      3.003335\n",
      "21      8.508176\n",
      "22     11.271482\n",
      "23     12.819321\n",
      "24      7.618743\n",
      "25     15.522945\n",
      "\n",
      "Band: alpha\n",
      "    Power During\n",
      "0       2.268351\n",
      "1      42.051027\n",
      "2      32.019499\n",
      "3      76.629875\n",
      "4      35.314975\n",
      "5      24.995112\n",
      "6      10.691834\n",
      "7      72.193419\n",
      "8      11.401393\n",
      "9      61.399091\n",
      "10     19.951300\n",
      "11     26.294284\n",
      "12     20.144565\n",
      "13     10.104071\n",
      "14     65.180629\n",
      "15     56.698332\n",
      "16     47.314911\n",
      "17     51.393792\n",
      "18     26.203864\n",
      "19     36.568569\n",
      "20     73.732779\n",
      "21     40.478048\n",
      "22     48.652354\n",
      "23     35.371815\n",
      "24     28.142448\n",
      "25     11.747337\n",
      "\n",
      "Band: beta\n",
      "    Power During\n",
      "0       1.355363\n",
      "1      22.262783\n",
      "2      14.156692\n",
      "3       4.664136\n",
      "4      10.101219\n",
      "5      13.092081\n",
      "6       8.067307\n",
      "7       3.959970\n",
      "8       7.592398\n",
      "9       9.038470\n",
      "10     12.012653\n",
      "11     10.341250\n",
      "12     12.459138\n",
      "13     11.401452\n",
      "14      6.440821\n",
      "15     10.103839\n",
      "16      6.683958\n",
      "17      5.202852\n",
      "18     10.750025\n",
      "19     19.131252\n",
      "20     11.310149\n",
      "21      8.180049\n",
      "22     12.854622\n",
      "23     10.079327\n",
      "24     21.756004\n",
      "25     13.678315\n",
      "\n",
      "Band: gamma\n",
      "    Power During\n",
      "0       0.228636\n",
      "1       2.489223\n",
      "2       1.162470\n",
      "3       0.635882\n",
      "4       1.282270\n",
      "5       1.162442\n",
      "6       2.878867\n",
      "7       0.554858\n",
      "8       1.486553\n",
      "9       0.821530\n",
      "10      1.656425\n",
      "11      1.779067\n",
      "12      2.289174\n",
      "13      0.806054\n",
      "14      0.486068\n",
      "15      1.277526\n",
      "16      0.348144\n",
      "17      0.671055\n",
      "18      1.912099\n",
      "19      0.909287\n",
      "20      0.529889\n",
      "21      2.276562\n",
      "22      5.360734\n",
      "23      1.303958\n",
      "24      6.146350\n",
      "25      2.991743\n"
     ]
    }
   ],
   "source": [
    "import pandas as pd\n",
    "\n",
    "info = pd.read_csv(\"power_O2_during.csv\")\n",
    "\n",
    "indices_sumados0 = [i + 1 for i in indices0]\n",
    "indices_sumados1 = [i + 1 for i in indices1]\n",
    "\n",
    "bands = ['delta', 'theta', 'alpha', 'beta', 'gamma']\n",
    "\n",
    "# Function to extract Power During for each band and save it in a DataFrame\n",
    "def get_power_for_band(indices, bands):\n",
    "    selected_data = info[info['Patient'].isin(indices)]\n",
    "    power_by_band = {}\n",
    "    \n",
    "    for band in bands:\n",
    "        selected_data_band = selected_data[selected_data['Band'] == band]\n",
    "        power_by_band[band] = selected_data_band[['Power During']]\n",
    "    \n",
    "    return power_by_band\n",
    "\n",
    "# Get the data for both sets of patients\n",
    "power_during0 = get_power_for_band(indices_sumados0, bands)\n",
    "power_during1 = get_power_for_band(indices_sumados1, bands)\n",
    "\n",
    "# Save the results in separate DataFrames\n",
    "df_power_during0 = {}\n",
    "df_power_during1 = {}\n",
    "\n",
    "for band in bands:\n",
    "    df_power_during0[band] = power_during0[band].reset_index(drop=True)\n",
    "\n",
    "for band in bands:\n",
    "    df_power_during1[band] = power_during1[band].reset_index(drop=True)\n",
    "\n",
    "\n",
    "print(\"Power During for patients in indices_sumados0\")\n",
    "for band in bands:\n",
    "    print(f\"\\nBand: {band}\")\n",
    "    print(df_power_during0[band])\n",
    "\n",
    "print(\"\\nPower During for patients in indices_sumados1\")\n",
    "for band in bands:\n",
    "    print(f\"\\nBand: {band}\")\n",
    "    print(df_power_during1[band])\n"
   ]
  },
  {
   "cell_type": "markdown",
   "id": "10a34b4c-ca42-4170-9cfe-39cc1bc5cfd9",
   "metadata": {},
   "source": [
    "## Delta band"
   ]
  },
  {
   "cell_type": "markdown",
   "id": "57d6c26c-205a-4eff-9437-f741c4cea45a",
   "metadata": {},
   "source": [
    "## Shapiro-Wilk test"
   ]
  },
  {
   "cell_type": "code",
   "execution_count": 106,
   "id": "c3aa06a4-42db-4fa3-9ddf-1eed3632d4a8",
   "metadata": {},
   "outputs": [
    {
     "name": "stdout",
     "output_type": "stream",
     "text": [
      "The data follows a normal distribution: 0.5507966844545173\n"
     ]
    }
   ],
   "source": [
    "from scipy.stats import shapiro\n",
    "\n",
    "delta_during0 = df_power_during0['delta']\n",
    "\n",
    "# Shapiro-Wilk test\n",
    "stat, p = shapiro(delta_during0)\n",
    "\n",
    "if p > 0.05:\n",
    "    print(\"The data follows a normal distribution:\", p)\n",
    "else:\n",
    "    print(\"The data DOES NOT follow a normal distribution:\", p)"
   ]
  },
  {
   "cell_type": "code",
   "execution_count": 108,
   "id": "141f8935-8fed-4728-8abd-d9f91e53a61a",
   "metadata": {},
   "outputs": [
    {
     "name": "stdout",
     "output_type": "stream",
     "text": [
      "The data follows a normal distribution: 0.37196330565936897\n"
     ]
    }
   ],
   "source": [
    "from scipy.stats import shapiro\n",
    "\n",
    "delta_during1 = df_power_during1['delta']\n",
    "\n",
    "# Shapiro-Wilk test\n",
    "stat, p = shapiro(delta_during1)\n",
    "\n",
    "if p > 0.05:\n",
    "    print(\"The data follows a normal distribution:\", p)\n",
    "else:\n",
    "    print(\"The data DOES NOT follow a normal distribution:\", p)"
   ]
  },
  {
   "cell_type": "markdown",
   "id": "afcbfa65-05e8-4bbb-910e-818bcece11b1",
   "metadata": {},
   "source": [
    "## Indpendent t-test"
   ]
  },
  {
   "cell_type": "code",
   "execution_count": 113,
   "id": "345b32ab-df09-46bd-92fe-cbf13d24fe64",
   "metadata": {},
   "outputs": [
    {
     "name": "stdout",
     "output_type": "stream",
     "text": [
      "There is NOT enough evidence of a significant difference, p-value:  [0.83315602] stat:  [-0.21228014]\n"
     ]
    }
   ],
   "source": [
    "from scipy.stats import ttest_ind\n",
    "\n",
    "stat, p = ttest_ind(delta_during0, delta_during1)\n",
    "\n",
    "if p < 0.05:\n",
    "    print(\"There is a significant difference between the groups, p-value: \", p, \"stat: \", stat)\n",
    "else:\n",
    "    print(\"There is NOT enough evidence of a significant difference, p-value: \", p, \"stat: \", stat)"
   ]
  },
  {
   "cell_type": "markdown",
   "id": "f7b885b8-d6f0-47ce-8ab1-2614a11866af",
   "metadata": {},
   "source": [
    "## Theta band"
   ]
  },
  {
   "cell_type": "markdown",
   "id": "392a7c0a-088e-4108-a3e7-bd1836e7a095",
   "metadata": {},
   "source": [
    "## Shapiro-Wilk test"
   ]
  },
  {
   "cell_type": "code",
   "execution_count": 117,
   "id": "e2606869-6b15-48e8-936b-ef14bafabbf7",
   "metadata": {},
   "outputs": [
    {
     "name": "stdout",
     "output_type": "stream",
     "text": [
      "The data follows a normal distribution: 0.9268728291255587\n"
     ]
    }
   ],
   "source": [
    "from scipy.stats import shapiro\n",
    "\n",
    "theta_during0 = df_power_during0['theta']\n",
    "\n",
    "# Shapiro-Wilk test\n",
    "stat, p = shapiro(theta_during0)\n",
    "\n",
    "if p > 0.05:\n",
    "    print(\"The data follows a normal distribution:\", p)\n",
    "else:\n",
    "    print(\"The data DOES NOT follow a normal distribution:\", p)"
   ]
  },
  {
   "cell_type": "code",
   "execution_count": 119,
   "id": "4e01f2f8-94c2-4702-8468-cbd72f1c1c89",
   "metadata": {},
   "outputs": [
    {
     "name": "stdout",
     "output_type": "stream",
     "text": [
      "The data follows a normal distribution: 0.47291153640421063\n"
     ]
    }
   ],
   "source": [
    "from scipy.stats import shapiro\n",
    "\n",
    "theta_during1 = df_power_during1['theta']\n",
    "\n",
    "# Shapiro-Wilk test\n",
    "stat, p = shapiro(theta_during1)\n",
    "\n",
    "if p > 0.05:\n",
    "    print(\"The data follows a normal distribution:\", p)\n",
    "else:\n",
    "    print(\"The data DOES NOT follow a normal distribution:\", p)"
   ]
  },
  {
   "cell_type": "markdown",
   "id": "942fb0b2-9393-41bf-8ee8-855a9414759b",
   "metadata": {},
   "source": [
    "## Independent t-test"
   ]
  },
  {
   "cell_type": "code",
   "execution_count": 121,
   "id": "9674f187-bf02-41ec-9b3c-4ea5c5d8c633",
   "metadata": {},
   "outputs": [
    {
     "name": "stdout",
     "output_type": "stream",
     "text": [
      "There is NOT enough evidence of a significant difference, p-value:  [0.78950128] stat:  [0.26907089]\n"
     ]
    }
   ],
   "source": [
    "from scipy.stats import ttest_ind\n",
    "\n",
    "stat, p = ttest_ind(theta_during0, theta_during1)\n",
    "\n",
    "if p < 0.05:\n",
    "    print(\"There is a significant difference between the groups, p-value: \", p, \"stat: \", stat)\n",
    "else:\n",
    "    print(\"There is NOT enough evidence of a significant difference, p-value: \", p, \"stat: \", stat)"
   ]
  },
  {
   "cell_type": "markdown",
   "id": "0fdb3168-cb5b-46e2-a581-22a78c3eff64",
   "metadata": {},
   "source": [
    "## Alpha band"
   ]
  },
  {
   "cell_type": "markdown",
   "id": "51a88367-4f1a-4d53-8fe0-cddfb2732a09",
   "metadata": {},
   "source": [
    "## Shapiro-Wilk test"
   ]
  },
  {
   "cell_type": "code",
   "execution_count": 124,
   "id": "bd7acf4c-8a18-4c14-af6a-7387a2dd0818",
   "metadata": {},
   "outputs": [
    {
     "name": "stdout",
     "output_type": "stream",
     "text": [
      "The data DOES NOT follow a normal distribution: 0.04809738060124064\n"
     ]
    }
   ],
   "source": [
    "from scipy.stats import shapiro\n",
    "\n",
    "alpha_during0 = df_power_during0['alpha']\n",
    "\n",
    "# Shapiro-Wilk test\n",
    "stat, p = shapiro(alpha_during0)\n",
    "\n",
    "if p > 0.05:\n",
    "    print(\"The data follows a normal distribution:\", p)\n",
    "else:\n",
    "    print(\"The data DOES NOT follow a normal distribution:\", p)"
   ]
  },
  {
   "cell_type": "code",
   "execution_count": 126,
   "id": "7448b59d-047f-48d5-b691-96a1e8ca3806",
   "metadata": {},
   "outputs": [
    {
     "name": "stdout",
     "output_type": "stream",
     "text": [
      "The data follows a normal distribution: 0.37870547112800007\n"
     ]
    }
   ],
   "source": [
    "from scipy.stats import shapiro\n",
    "\n",
    "alpha_during1 = df_power_during1['alpha']\n",
    "\n",
    "# Shapiro-Wilk test\n",
    "stat, p = shapiro(alpha_during1)\n",
    "\n",
    "if p > 0.05:\n",
    "    print(\"The data follows a normal distribution:\", p)\n",
    "else:\n",
    "    print(\"The data DOES NOT follow a normal distribution:\", p)"
   ]
  },
  {
   "cell_type": "markdown",
   "id": "06ba2e5b-a194-45a8-8908-63ab7d718801",
   "metadata": {},
   "source": [
    "## Mann-Whitney U test"
   ]
  },
  {
   "cell_type": "code",
   "execution_count": 133,
   "id": "225cd08c-ebd0-49fe-8d36-c623a876c0b2",
   "metadata": {},
   "outputs": [
    {
     "name": "stdout",
     "output_type": "stream",
     "text": [
      "There is NOT enough evidence of a significant difference, p-value:  [0.84597847] stat:  [136.]\n"
     ]
    }
   ],
   "source": [
    "from scipy.stats import mannwhitneyu\n",
    "\n",
    "stat, p = mannwhitneyu(alpha_during0, alpha_during1)\n",
    "\n",
    "if p < 0.05:\n",
    "    print(\"There is a significant difference between the groups, p-value: \", p, \"stat: \", stat)\n",
    "else:\n",
    "    print(\"There is NOT enough evidence of a significant difference, p-value: \", p, \"stat: \", stat)"
   ]
  },
  {
   "cell_type": "markdown",
   "id": "2ea557d9-b074-409b-905c-e53b0c63ad92",
   "metadata": {},
   "source": [
    "## Beta band"
   ]
  },
  {
   "cell_type": "markdown",
   "id": "736daa34-1b04-48ee-8653-97a73c09f088",
   "metadata": {},
   "source": [
    "## Shapiro-Wilk test"
   ]
  },
  {
   "cell_type": "code",
   "execution_count": 137,
   "id": "bb62b735-f7d8-412b-9a7f-bc1161dd5741",
   "metadata": {},
   "outputs": [
    {
     "name": "stdout",
     "output_type": "stream",
     "text": [
      "The data follows a normal distribution: 0.7867284329148736\n"
     ]
    }
   ],
   "source": [
    "from scipy.stats import shapiro\n",
    "\n",
    "beta_during0 = df_power_during0['beta']\n",
    "\n",
    "# Shapiro-Wilk test\n",
    "stat, p = shapiro(beta_during0)\n",
    "\n",
    "if p > 0.05:\n",
    "    print(\"The data follows a normal distribution:\", p)\n",
    "else:\n",
    "    print(\"The data DOES NOT follow a normal distribution:\", p)"
   ]
  },
  {
   "cell_type": "code",
   "execution_count": 135,
   "id": "bcf3b032-c0fd-40d3-8bf8-4623ba253dd3",
   "metadata": {},
   "outputs": [
    {
     "name": "stdout",
     "output_type": "stream",
     "text": [
      "The data follows a normal distribution: 0.19025951032301042\n"
     ]
    }
   ],
   "source": [
    "from scipy.stats import shapiro\n",
    "\n",
    "beta_during1 = df_power_during1['beta']\n",
    "\n",
    "# Shapiro-Wilk test\n",
    "stat, p = shapiro(beta_during1)\n",
    "\n",
    "if p > 0.05:\n",
    "    print(\"The data follows a normal distribution:\", p)\n",
    "else:\n",
    "    print(\"The data DOES NOT follow a normal distribution:\", p)"
   ]
  },
  {
   "cell_type": "markdown",
   "id": "afc5aec4-f3ff-4ce8-94f3-3366e710ba74",
   "metadata": {},
   "source": [
    "## Independent t-test"
   ]
  },
  {
   "cell_type": "code",
   "execution_count": 139,
   "id": "17e2b63f-0b05-442b-8b01-12d5ab43c249",
   "metadata": {},
   "outputs": [
    {
     "name": "stdout",
     "output_type": "stream",
     "text": [
      "There is NOT enough evidence of a significant difference, p-value:  [0.73051717] stat:  [0.34728589]\n"
     ]
    }
   ],
   "source": [
    "from scipy.stats import ttest_ind\n",
    "\n",
    "stat, p = ttest_ind(beta_during0, beta_during1)\n",
    "\n",
    "if p < 0.05:\n",
    "    print(\"There is a significant difference between the groups, p-value: \", p, \"stat: \", stat)\n",
    "else:\n",
    "    print(\"There is NOT enough evidence of a significant difference, p-value: \", p, \"stat: \", stat)"
   ]
  },
  {
   "cell_type": "markdown",
   "id": "9f6312c7-b8b6-4424-acec-3ea6a5ca467e",
   "metadata": {},
   "source": [
    "## Gamma band"
   ]
  },
  {
   "cell_type": "markdown",
   "id": "7f0ac8da-4a67-4b04-850f-3c9c3abd0711",
   "metadata": {},
   "source": [
    "## Shapiro-Wilk test"
   ]
  },
  {
   "cell_type": "code",
   "execution_count": 143,
   "id": "bcbc466f-4b63-4cb9-8b28-283b0f608101",
   "metadata": {},
   "outputs": [
    {
     "name": "stdout",
     "output_type": "stream",
     "text": [
      "The data DOES NOT follow a normal distribution: 0.003972053304036919\n"
     ]
    }
   ],
   "source": [
    "from scipy.stats import shapiro\n",
    "\n",
    "gamma_during0 = df_power_during0['gamma']\n",
    "\n",
    "# Shapiro-Wilk test\n",
    "stat, p = shapiro(gamma_during0)\n",
    "\n",
    "if p > 0.05:\n",
    "    print(\"The data follows a normal distribution:\", p)\n",
    "else:\n",
    "    print(\"The data DOES NOT follow a normal distribution:\", p)"
   ]
  },
  {
   "cell_type": "code",
   "execution_count": 145,
   "id": "b6dcc0ff-b5b4-402f-93b8-596d3902a947",
   "metadata": {},
   "outputs": [
    {
     "name": "stdout",
     "output_type": "stream",
     "text": [
      "The data DOES NOT follow a normal distribution: 0.00013538696811045764\n"
     ]
    }
   ],
   "source": [
    "from scipy.stats import shapiro\n",
    "\n",
    "gamma_during1 = df_power_during1['gamma']\n",
    "\n",
    "# Shapiro-Wilk test\n",
    "stat, p = shapiro(gamma_during1)\n",
    "\n",
    "if p > 0.05:\n",
    "    print(\"The data follows a normal distribution:\", p)\n",
    "else:\n",
    "    print(\"The data DOES NOT follow a normal distribution:\", p)"
   ]
  },
  {
   "cell_type": "markdown",
   "id": "a28cf71a-b841-4ec8-a68a-e6548025c4c4",
   "metadata": {},
   "source": [
    "## Mann-Whitney U test"
   ]
  },
  {
   "cell_type": "code",
   "execution_count": 147,
   "id": "91968b6c-30eb-495a-b9a5-fb343392f521",
   "metadata": {},
   "outputs": [
    {
     "name": "stdout",
     "output_type": "stream",
     "text": [
      "There is NOT enough evidence of a significant difference, p-value:  [0.87372122] stat:  [125.]\n"
     ]
    }
   ],
   "source": [
    "from scipy.stats import mannwhitneyu\n",
    "\n",
    "stat, p = mannwhitneyu(gamma_during0, gamma_during1)\n",
    "\n",
    "if p < 0.05:\n",
    "    print(\"There is a significant difference between the groups, p-value: \", p, \"stat: \", stat)\n",
    "else:\n",
    "    print(\"There is NOT enough evidence of a significant difference, p-value: \", p, \"stat: \", stat)"
   ]
  },
  {
   "cell_type": "markdown",
   "id": "fee28a8d-10a2-43cf-b4a0-955b7591bd39",
   "metadata": {},
   "source": [
    "# Correlation Dimension BEFORE"
   ]
  },
  {
   "cell_type": "code",
   "execution_count": 153,
   "id": "2fe3dd62-4f97-44bc-b47b-f6e6f7b2d16c",
   "metadata": {},
   "outputs": [
    {
     "name": "stdout",
     "output_type": "stream",
     "text": [
      "Values corresponding to the indexes of quality 0: [0.7573309576023949, 0.966697544143542, 0.31240378653559214, 0.9775776352841801, 1.025488990103116, 0.34273535404484795, 0.5082512257878257, 0.7400157365996204, 0.7527983841809287, 0.7185755542133735]\n",
      "Values corresponding to the indexes of quality 1: [0.45098275233302143, 0.40009457093276435, 0.7338753055647856, 0.9280612501962461, 0.542071847962671, 0.7210338752212033, 0.7375635652263294, 0.870409288664538, 0.6253884976043534, 0.9276019373105863, 0.8702350712578125, 0.730589397104681, 0.5644949868561452, 0.7144792087717476, 1.0621599286247256, 0.7490891829301397, 0.8480853243175756, 1.0453116196025574, 0.7709894153325626, 0.8103842120558378, 0.7864113748552993, 0.6466720797467095, 0.16285868844888204, 0.9163788873824364, 0.207093153149979, 0.670047390888941]\n"
     ]
    }
   ],
   "source": [
    "import pickle\n",
    "\n",
    "file_path = \"correlation_dimension_before.pkl\"  \n",
    "\n",
    "with open(file_path, \"rb\") as f:\n",
    "    data_before = pickle.load(f)\n",
    "\n",
    "# Extract the values corresponding to those indexes\n",
    "correlation_before0 = [data_before[i] for i in indices0]\n",
    "correlation_before1 = [data_before[i] for i in indices1]\n",
    "\n",
    "print(\"Values corresponding to the indexes of quality 0:\", correlation_before0)\n",
    "print(\"Values corresponding to the indexes of quality 1:\", correlation_before1)\n",
    "df_correlation_before0 = pd.DataFrame(correlation_before0,columns=['correlation_before0'])\n",
    "df_correlation_before1 = pd.DataFrame(correlation_before1, columns=['correlation_before1'])"
   ]
  },
  {
   "cell_type": "markdown",
   "id": "8ac171aa-6327-45de-affc-c26a74f95e2f",
   "metadata": {},
   "source": [
    "## Shapiro-Wilk test"
   ]
  },
  {
   "cell_type": "code",
   "execution_count": 155,
   "id": "1d93285b-8ed0-49fc-935b-34c51f07b5b2",
   "metadata": {},
   "outputs": [
    {
     "name": "stdout",
     "output_type": "stream",
     "text": [
      "The data follows a normal distribution: 0.2431047798323806\n"
     ]
    }
   ],
   "source": [
    "import pickle\n",
    "from scipy.stats import shapiro\n",
    "\n",
    "# Shapiro-Wilk test\n",
    "stat, p = shapiro(correlation_before0) \n",
    "\n",
    "if p > 0.05:\n",
    "    print(\"The data follows a normal distribution:\", p)\n",
    "else:\n",
    "    print(\"The data DOES NOT follow a normal distribution:\", p)"
   ]
  },
  {
   "cell_type": "code",
   "execution_count": 158,
   "id": "7dc68c0b-c493-488a-a4f2-69c9c8439599",
   "metadata": {},
   "outputs": [
    {
     "name": "stdout",
     "output_type": "stream",
     "text": [
      "The data follows a normal distribution: 0.10645650977965393\n"
     ]
    }
   ],
   "source": [
    "import pickle\n",
    "from scipy.stats import shapiro\n",
    "\n",
    "# Shapiro-Wilk test\n",
    "stat, p = shapiro(correlation_before1) \n",
    "\n",
    "if p > 0.05:\n",
    "    print(\"The data follows a normal distribution:\", p)\n",
    "else:\n",
    "    print(\"The data DOES NOT follow a normal distribution:\", p)"
   ]
  },
  {
   "cell_type": "markdown",
   "id": "8cb379d4-5796-43a2-977a-83312fe9171a",
   "metadata": {},
   "source": [
    "## Independent t-test"
   ]
  },
  {
   "cell_type": "code",
   "execution_count": 161,
   "id": "4b167165-ba58-4aa5-a997-97e911bd37d6",
   "metadata": {},
   "outputs": [
    {
     "name": "stdout",
     "output_type": "stream",
     "text": [
      "There is NOT enough evidence of a significant difference, p-value:  0.9902759153607291 stat:  -0.012277580273385755\n"
     ]
    }
   ],
   "source": [
    "from scipy.stats import ttest_ind\n",
    "\n",
    "stat, p = ttest_ind(correlation_before0, correlation_before1)\n",
    "\n",
    "if p < 0.05:\n",
    "    print(\"There is a significant difference between the groups, p-value: \", p, \"stat: \", stat)\n",
    "else:\n",
    "    print(\"There is NOT enough evidence of a significant difference, p-value: \", p, \"stat: \", stat)"
   ]
  },
  {
   "cell_type": "markdown",
   "id": "84444b33-3432-478f-a980-7351d3f57869",
   "metadata": {},
   "source": [
    "# Correlation Dimension DURING"
   ]
  },
  {
   "cell_type": "code",
   "execution_count": 165,
   "id": "3411167e-532a-4baa-b76a-0d38bc3989b3",
   "metadata": {},
   "outputs": [
    {
     "name": "stdout",
     "output_type": "stream",
     "text": [
      "Values corresponding to the indexes of quality 0: [0.5979539858320193, 0.636795786423573, 0.13888016305908807, 0.7846039309905773, 0.8919689251170988, 0.6738203054596618, 0.2639910711260988, 0.6554770127168364, 0.9172484873421843, 0.5677473225584636]\n",
      "Values corresponding to the indexes of quality 1: [0.7094813336409995, 0.1709287754565966, 0.7701924881065249, 0.800302232373134, 0.6520594803292661, 0.7687547958613498, 0.4326760195308539, 0.7493435780493658, 0.8473434911307708, 0.8261418859780602, 0.5845475012717004, 0.6268662159718613, 0.44380099381106963, 0.9185320860477836, 1.0424221794669568, 0.3373044806250311, 0.920377011195642, 0.9436453186510937, 0.5214521856752904, 0.5608884819797938, 0.7461071945752247, 0.5920705713954081, 0.0681103225381458, 0.5354847954029326, 0.06341365113183117, 0.11403176655077905]\n"
     ]
    }
   ],
   "source": [
    "import pickle\n",
    "\n",
    "file_path = \"correlation_dimension_during.pkl\"  \n",
    "\n",
    "with open(file_path, \"rb\") as f:\n",
    "    data_during = pickle.load(f)\n",
    "\n",
    "# Extract the values corresponding to those indexes\n",
    "correlation_during0 = [data_during[i] for i in indices0]\n",
    "correlation_during1 = [data_during[i] for i in indices1]\n",
    "\n",
    "print(\"Values corresponding to the indexes of quality 0:\", correlation_during0)\n",
    "print(\"Values corresponding to the indexes of quality 1:\", correlation_during1)\n",
    "df_correlation_during0 = pd.DataFrame(correlation_during0, columns=['correlation_during0'])\n",
    "df_correlation_during1 = pd.DataFrame(correlation_during1, columns=['correlation_during1'])"
   ]
  },
  {
   "cell_type": "markdown",
   "id": "fcc1980c-2cd7-4f03-a7d8-e302cdc13729",
   "metadata": {},
   "source": [
    "## Shapiro-Wilk test"
   ]
  },
  {
   "cell_type": "code",
   "execution_count": 167,
   "id": "59d1a3dd-e09b-4269-989a-8411f24d4e66",
   "metadata": {},
   "outputs": [
    {
     "name": "stdout",
     "output_type": "stream",
     "text": [
      "The data follows a normal distribution: 0.26667120863004995\n"
     ]
    }
   ],
   "source": [
    "import pickle\n",
    "from scipy.stats import shapiro\n",
    "\n",
    "# Shapiro-Wilk test\n",
    "stat, p = shapiro(correlation_during0) \n",
    "\n",
    "if p > 0.05:\n",
    "    print(\"The data follows a normal distribution:\", p)\n",
    "else:\n",
    "    print(\"The data DOES NOT follow a normal distribution:\", p)"
   ]
  },
  {
   "cell_type": "code",
   "execution_count": 170,
   "id": "1966bda7-b9ab-4851-bb05-14680b824ef3",
   "metadata": {},
   "outputs": [
    {
     "name": "stdout",
     "output_type": "stream",
     "text": [
      "The data follows a normal distribution: 0.11179673194668183\n"
     ]
    }
   ],
   "source": [
    "import pickle\n",
    "from scipy.stats import shapiro\n",
    "\n",
    "# Shapiro-Wilk test\n",
    "stat, p = shapiro(correlation_during1) \n",
    "\n",
    "if p > 0.05:\n",
    "    print(\"The data follows a normal distribution:\", p)\n",
    "else:\n",
    "    print(\"The data DOES NOT follow a normal distribution:\", p)"
   ]
  },
  {
   "cell_type": "markdown",
   "id": "1d68755a-5cd8-4d34-ae2a-089abd0aa4f1",
   "metadata": {},
   "source": [
    "## Independent t-test"
   ]
  },
  {
   "cell_type": "code",
   "execution_count": 172,
   "id": "8c7daa0e-ceaf-45a9-9ab9-4055d54294ce",
   "metadata": {},
   "outputs": [
    {
     "name": "stdout",
     "output_type": "stream",
     "text": [
      "There is NOT enough evidence of a significant difference, p-value:  0.9429606236464081 stat:  0.07207996352006438\n"
     ]
    }
   ],
   "source": [
    "from scipy.stats import ttest_ind\n",
    "\n",
    "stat, p = ttest_ind(correlation_during0, correlation_during1)\n",
    "\n",
    "if p < 0.05:\n",
    "    print(\"There is a significant difference between the groups, p-value: \", p, \"stat: \", stat)\n",
    "else:\n",
    "    print(\"There is NOT enough evidence of a significant difference, p-value: \", p, \"stat: \", stat)"
   ]
  }
 ],
 "metadata": {
  "kernelspec": {
   "display_name": "Python 3 (ipykernel)",
   "language": "python",
   "name": "python3"
  },
  "language_info": {
   "codemirror_mode": {
    "name": "ipython",
    "version": 3
   },
   "file_extension": ".py",
   "mimetype": "text/x-python",
   "name": "python",
   "nbconvert_exporter": "python",
   "pygments_lexer": "ipython3",
   "version": "3.12.4"
  }
 },
 "nbformat": 4,
 "nbformat_minor": 5
}

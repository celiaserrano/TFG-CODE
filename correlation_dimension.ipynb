{
 "cells": [
  {
   "cell_type": "code",
   "execution_count": 7,
   "id": "4b7f088c-4a28-48b7-b67a-72d5ab87069a",
   "metadata": {},
   "outputs": [],
   "source": [
    "import numpy as np\n",
    "import mne\n",
    "import nolds\n",
    "from nolds import corr_dim\n",
    "import matplotlib.pyplot as plt"
   ]
  },
  {
   "cell_type": "markdown",
   "id": "4158258a-8a65-4962-9a96-0b96a9c778b7",
   "metadata": {},
   "source": [
    "# CORRELATION DIMENSION"
   ]
  },
  {
   "cell_type": "markdown",
   "id": "04564bd9-6640-4324-805e-895aafeada0e",
   "metadata": {},
   "source": [
    "## For a subject"
   ]
  },
  {
   "cell_type": "code",
   "execution_count": 13,
   "id": "84a88846-c65f-45c3-814e-274fb74eed75",
   "metadata": {},
   "outputs": [
    {
     "name": "stdout",
     "output_type": "stream",
     "text": [
      "Opening raw data file C:\\Users\\pablo\\Documents\\UNIVERSIDAD\\TFG\\eeg-during-mental-arithmetic-tasks-1.0.0\\eeg-during-mental-arithmetic-tasks-1.0.0\\pacientes_antes\\recortados\\Subject03_1_recortado.fif...\n",
      "Isotrak not found\n",
      "    Range : 0 ... 30999 =      0.000 ...    61.998 secs\n",
      "Ready.\n"
     ]
    },
    {
     "name": "stderr",
     "output_type": "stream",
     "text": [
      "C:\\Users\\pablo\\AppData\\Local\\Temp\\ipykernel_18512\\2474702313.py:2: RuntimeWarning: This filename (C:\\Users\\pablo\\Documents\\UNIVERSIDAD\\TFG\\eeg-during-mental-arithmetic-tasks-1.0.0\\eeg-during-mental-arithmetic-tasks-1.0.0\\pacientes_antes\\recortados\\Subject03_1_recortado.fif) does not conform to MNE naming conventions. All raw files should end with raw.fif, raw_sss.fif, raw_tsss.fif, _meg.fif, _eeg.fif, _ieeg.fif, raw.fif.gz, raw_sss.fif.gz, raw_tsss.fif.gz, _meg.fif.gz, _eeg.fif.gz or _ieeg.fif.gz\n",
      "  raw = mne.io.read_raw_fif(path, preload=True)\n"
     ]
    },
    {
     "name": "stdout",
     "output_type": "stream",
     "text": [
      "Reading 0 ... 30999  =      0.000 ...    61.998 secs...\n",
      "Correlation Dimension: 0.7561371027723123\n"
     ]
    }
   ],
   "source": [
    "path = \"subjects_before/cropped/Subject03_1_cropped.fif\"\n",
    "raw = mne.io.read_raw_fif(path, preload=True)\n",
    "data = raw.get_data()\n",
    "\n",
    "channel = data[15]\n",
    "segment_size = 1250\n",
    "n_segments = len(channel) // segment_size\n",
    "\n",
    "# Create fixed-length segments\n",
    "segments = [channel[i * segment_size:(i + 1) * segment_size] for i in range(n_segments)]\n",
    "\n",
    "emb_dim = 16  # Embedded dimension\n",
    "dim_corr_all = [corr_dim(seg, emb_dim=emb_dim) for seg in segments]\n",
    "mean_D2 = np.mean(dim_corr_all)\n",
    "print(f\"Correlation Dimension: {mean_D2}\")"
   ]
  },
  {
   "cell_type": "markdown",
   "id": "e9bd254d-ee42-4ee2-85c4-6e442965d124",
   "metadata": {},
   "source": [
    "# Correlation Dimension BEFORE in O2 channel"
   ]
  },
  {
   "cell_type": "code",
   "execution_count": 42,
   "id": "4be78fbe-f8d5-4475-a66b-7e0059611472",
   "metadata": {
    "scrolled": true
   },
   "outputs": [
    {
     "name": "stdout",
     "output_type": "stream",
     "text": [
      "Opening raw data file C:\\Users\\pablo\\Documents\\UNIVERSIDAD\\TFG\\eeg-during-mental-arithmetic-tasks-1.0.0\\eeg-during-mental-arithmetic-tasks-1.0.0\\pacientes_antes\\recortados\\Subject00_1_recortado.fif...\n",
      "Isotrak not found\n",
      "    Range : 0 ... 30999 =      0.000 ...    61.998 secs\n",
      "Ready.\n",
      "Reading 0 ... 30999  =      0.000 ...    61.998 secs...\n"
     ]
    },
    {
     "name": "stderr",
     "output_type": "stream",
     "text": [
      "C:\\Users\\pablo\\AppData\\Local\\Temp\\ipykernel_18512\\3399356611.py:17: RuntimeWarning: This filename (C:\\Users\\pablo\\Documents\\UNIVERSIDAD\\TFG\\eeg-during-mental-arithmetic-tasks-1.0.0\\eeg-during-mental-arithmetic-tasks-1.0.0\\pacientes_antes\\recortados\\Subject00_1_recortado.fif) does not conform to MNE naming conventions. All raw files should end with raw.fif, raw_sss.fif, raw_tsss.fif, _meg.fif, _eeg.fif, _ieeg.fif, raw.fif.gz, raw_sss.fif.gz, raw_tsss.fif.gz, _meg.fif.gz, _eeg.fif.gz or _ieeg.fif.gz\n",
      "  raw = mne.io.read_raw_fif(full_path, preload=True)\n"
     ]
    },
    {
     "name": "stdout",
     "output_type": "stream",
     "text": [
      "Opening raw data file C:\\Users\\pablo\\Documents\\UNIVERSIDAD\\TFG\\eeg-during-mental-arithmetic-tasks-1.0.0\\eeg-during-mental-arithmetic-tasks-1.0.0\\pacientes_antes\\recortados\\Subject01_1_recortado.fif...\n",
      "Isotrak not found\n",
      "    Range : 0 ... 30999 =      0.000 ...    61.998 secs\n",
      "Ready.\n",
      "Reading 0 ... 30999  =      0.000 ...    61.998 secs...\n"
     ]
    },
    {
     "name": "stderr",
     "output_type": "stream",
     "text": [
      "C:\\Users\\pablo\\AppData\\Local\\Temp\\ipykernel_18512\\3399356611.py:17: RuntimeWarning: This filename (C:\\Users\\pablo\\Documents\\UNIVERSIDAD\\TFG\\eeg-during-mental-arithmetic-tasks-1.0.0\\eeg-during-mental-arithmetic-tasks-1.0.0\\pacientes_antes\\recortados\\Subject01_1_recortado.fif) does not conform to MNE naming conventions. All raw files should end with raw.fif, raw_sss.fif, raw_tsss.fif, _meg.fif, _eeg.fif, _ieeg.fif, raw.fif.gz, raw_sss.fif.gz, raw_tsss.fif.gz, _meg.fif.gz, _eeg.fif.gz or _ieeg.fif.gz\n",
      "  raw = mne.io.read_raw_fif(full_path, preload=True)\n"
     ]
    },
    {
     "name": "stdout",
     "output_type": "stream",
     "text": [
      "Opening raw data file C:\\Users\\pablo\\Documents\\UNIVERSIDAD\\TFG\\eeg-during-mental-arithmetic-tasks-1.0.0\\eeg-during-mental-arithmetic-tasks-1.0.0\\pacientes_antes\\recortados\\Subject02_1_recortado.fif...\n",
      "Isotrak not found\n",
      "    Range : 0 ... 30999 =      0.000 ...    61.998 secs\n",
      "Ready.\n",
      "Reading 0 ... 30999  =      0.000 ...    61.998 secs...\n"
     ]
    },
    {
     "name": "stderr",
     "output_type": "stream",
     "text": [
      "C:\\Users\\pablo\\AppData\\Local\\Temp\\ipykernel_18512\\3399356611.py:17: RuntimeWarning: This filename (C:\\Users\\pablo\\Documents\\UNIVERSIDAD\\TFG\\eeg-during-mental-arithmetic-tasks-1.0.0\\eeg-during-mental-arithmetic-tasks-1.0.0\\pacientes_antes\\recortados\\Subject02_1_recortado.fif) does not conform to MNE naming conventions. All raw files should end with raw.fif, raw_sss.fif, raw_tsss.fif, _meg.fif, _eeg.fif, _ieeg.fif, raw.fif.gz, raw_sss.fif.gz, raw_tsss.fif.gz, _meg.fif.gz, _eeg.fif.gz or _ieeg.fif.gz\n",
      "  raw = mne.io.read_raw_fif(full_path, preload=True)\n"
     ]
    },
    {
     "name": "stdout",
     "output_type": "stream",
     "text": [
      "Opening raw data file C:\\Users\\pablo\\Documents\\UNIVERSIDAD\\TFG\\eeg-during-mental-arithmetic-tasks-1.0.0\\eeg-during-mental-arithmetic-tasks-1.0.0\\pacientes_antes\\recortados\\Subject03_1_recortado.fif...\n",
      "Isotrak not found\n",
      "    Range : 0 ... 30999 =      0.000 ...    61.998 secs\n",
      "Ready.\n",
      "Reading 0 ... 30999  =      0.000 ...    61.998 secs...\n"
     ]
    },
    {
     "name": "stderr",
     "output_type": "stream",
     "text": [
      "C:\\Users\\pablo\\AppData\\Local\\Temp\\ipykernel_18512\\3399356611.py:17: RuntimeWarning: This filename (C:\\Users\\pablo\\Documents\\UNIVERSIDAD\\TFG\\eeg-during-mental-arithmetic-tasks-1.0.0\\eeg-during-mental-arithmetic-tasks-1.0.0\\pacientes_antes\\recortados\\Subject03_1_recortado.fif) does not conform to MNE naming conventions. All raw files should end with raw.fif, raw_sss.fif, raw_tsss.fif, _meg.fif, _eeg.fif, _ieeg.fif, raw.fif.gz, raw_sss.fif.gz, raw_tsss.fif.gz, _meg.fif.gz, _eeg.fif.gz or _ieeg.fif.gz\n",
      "  raw = mne.io.read_raw_fif(full_path, preload=True)\n"
     ]
    },
    {
     "name": "stdout",
     "output_type": "stream",
     "text": [
      "Opening raw data file C:\\Users\\pablo\\Documents\\UNIVERSIDAD\\TFG\\eeg-during-mental-arithmetic-tasks-1.0.0\\eeg-during-mental-arithmetic-tasks-1.0.0\\pacientes_antes\\recortados\\Subject04_1_recortado.fif...\n",
      "Isotrak not found\n",
      "    Range : 0 ... 30999 =      0.000 ...    61.998 secs\n",
      "Ready.\n",
      "Reading 0 ... 30999  =      0.000 ...    61.998 secs...\n"
     ]
    },
    {
     "name": "stderr",
     "output_type": "stream",
     "text": [
      "C:\\Users\\pablo\\AppData\\Local\\Temp\\ipykernel_18512\\3399356611.py:17: RuntimeWarning: This filename (C:\\Users\\pablo\\Documents\\UNIVERSIDAD\\TFG\\eeg-during-mental-arithmetic-tasks-1.0.0\\eeg-during-mental-arithmetic-tasks-1.0.0\\pacientes_antes\\recortados\\Subject04_1_recortado.fif) does not conform to MNE naming conventions. All raw files should end with raw.fif, raw_sss.fif, raw_tsss.fif, _meg.fif, _eeg.fif, _ieeg.fif, raw.fif.gz, raw_sss.fif.gz, raw_tsss.fif.gz, _meg.fif.gz, _eeg.fif.gz or _ieeg.fif.gz\n",
      "  raw = mne.io.read_raw_fif(full_path, preload=True)\n"
     ]
    },
    {
     "name": "stdout",
     "output_type": "stream",
     "text": [
      "Opening raw data file C:\\Users\\pablo\\Documents\\UNIVERSIDAD\\TFG\\eeg-during-mental-arithmetic-tasks-1.0.0\\eeg-during-mental-arithmetic-tasks-1.0.0\\pacientes_antes\\recortados\\Subject05_1_recortado.fif...\n",
      "Isotrak not found\n",
      "    Range : 0 ... 30999 =      0.000 ...    61.998 secs\n",
      "Ready.\n",
      "Reading 0 ... 30999  =      0.000 ...    61.998 secs...\n"
     ]
    },
    {
     "name": "stderr",
     "output_type": "stream",
     "text": [
      "C:\\Users\\pablo\\AppData\\Local\\Temp\\ipykernel_18512\\3399356611.py:17: RuntimeWarning: This filename (C:\\Users\\pablo\\Documents\\UNIVERSIDAD\\TFG\\eeg-during-mental-arithmetic-tasks-1.0.0\\eeg-during-mental-arithmetic-tasks-1.0.0\\pacientes_antes\\recortados\\Subject05_1_recortado.fif) does not conform to MNE naming conventions. All raw files should end with raw.fif, raw_sss.fif, raw_tsss.fif, _meg.fif, _eeg.fif, _ieeg.fif, raw.fif.gz, raw_sss.fif.gz, raw_tsss.fif.gz, _meg.fif.gz, _eeg.fif.gz or _ieeg.fif.gz\n",
      "  raw = mne.io.read_raw_fif(full_path, preload=True)\n"
     ]
    },
    {
     "name": "stdout",
     "output_type": "stream",
     "text": [
      "Opening raw data file C:\\Users\\pablo\\Documents\\UNIVERSIDAD\\TFG\\eeg-during-mental-arithmetic-tasks-1.0.0\\eeg-during-mental-arithmetic-tasks-1.0.0\\pacientes_antes\\recortados\\Subject06_1_recortado.fif...\n",
      "Isotrak not found\n",
      "    Range : 0 ... 30999 =      0.000 ...    61.998 secs\n",
      "Ready.\n",
      "Reading 0 ... 30999  =      0.000 ...    61.998 secs...\n"
     ]
    },
    {
     "name": "stderr",
     "output_type": "stream",
     "text": [
      "C:\\Users\\pablo\\AppData\\Local\\Temp\\ipykernel_18512\\3399356611.py:17: RuntimeWarning: This filename (C:\\Users\\pablo\\Documents\\UNIVERSIDAD\\TFG\\eeg-during-mental-arithmetic-tasks-1.0.0\\eeg-during-mental-arithmetic-tasks-1.0.0\\pacientes_antes\\recortados\\Subject06_1_recortado.fif) does not conform to MNE naming conventions. All raw files should end with raw.fif, raw_sss.fif, raw_tsss.fif, _meg.fif, _eeg.fif, _ieeg.fif, raw.fif.gz, raw_sss.fif.gz, raw_tsss.fif.gz, _meg.fif.gz, _eeg.fif.gz or _ieeg.fif.gz\n",
      "  raw = mne.io.read_raw_fif(full_path, preload=True)\n"
     ]
    },
    {
     "name": "stdout",
     "output_type": "stream",
     "text": [
      "Opening raw data file C:\\Users\\pablo\\Documents\\UNIVERSIDAD\\TFG\\eeg-during-mental-arithmetic-tasks-1.0.0\\eeg-during-mental-arithmetic-tasks-1.0.0\\pacientes_antes\\recortados\\Subject07_1_recortado.fif...\n",
      "Isotrak not found\n",
      "    Range : 0 ... 30999 =      0.000 ...    61.998 secs\n",
      "Ready.\n",
      "Reading 0 ... 30999  =      0.000 ...    61.998 secs...\n"
     ]
    },
    {
     "name": "stderr",
     "output_type": "stream",
     "text": [
      "C:\\Users\\pablo\\AppData\\Local\\Temp\\ipykernel_18512\\3399356611.py:17: RuntimeWarning: This filename (C:\\Users\\pablo\\Documents\\UNIVERSIDAD\\TFG\\eeg-during-mental-arithmetic-tasks-1.0.0\\eeg-during-mental-arithmetic-tasks-1.0.0\\pacientes_antes\\recortados\\Subject07_1_recortado.fif) does not conform to MNE naming conventions. All raw files should end with raw.fif, raw_sss.fif, raw_tsss.fif, _meg.fif, _eeg.fif, _ieeg.fif, raw.fif.gz, raw_sss.fif.gz, raw_tsss.fif.gz, _meg.fif.gz, _eeg.fif.gz or _ieeg.fif.gz\n",
      "  raw = mne.io.read_raw_fif(full_path, preload=True)\n"
     ]
    },
    {
     "name": "stdout",
     "output_type": "stream",
     "text": [
      "Opening raw data file C:\\Users\\pablo\\Documents\\UNIVERSIDAD\\TFG\\eeg-during-mental-arithmetic-tasks-1.0.0\\eeg-during-mental-arithmetic-tasks-1.0.0\\pacientes_antes\\recortados\\Subject08_1_recortado.fif...\n",
      "Isotrak not found\n",
      "    Range : 0 ... 30999 =      0.000 ...    61.998 secs\n",
      "Ready.\n",
      "Reading 0 ... 30999  =      0.000 ...    61.998 secs...\n"
     ]
    },
    {
     "name": "stderr",
     "output_type": "stream",
     "text": [
      "C:\\Users\\pablo\\AppData\\Local\\Temp\\ipykernel_18512\\3399356611.py:17: RuntimeWarning: This filename (C:\\Users\\pablo\\Documents\\UNIVERSIDAD\\TFG\\eeg-during-mental-arithmetic-tasks-1.0.0\\eeg-during-mental-arithmetic-tasks-1.0.0\\pacientes_antes\\recortados\\Subject08_1_recortado.fif) does not conform to MNE naming conventions. All raw files should end with raw.fif, raw_sss.fif, raw_tsss.fif, _meg.fif, _eeg.fif, _ieeg.fif, raw.fif.gz, raw_sss.fif.gz, raw_tsss.fif.gz, _meg.fif.gz, _eeg.fif.gz or _ieeg.fif.gz\n",
      "  raw = mne.io.read_raw_fif(full_path, preload=True)\n"
     ]
    },
    {
     "name": "stdout",
     "output_type": "stream",
     "text": [
      "Opening raw data file C:\\Users\\pablo\\Documents\\UNIVERSIDAD\\TFG\\eeg-during-mental-arithmetic-tasks-1.0.0\\eeg-during-mental-arithmetic-tasks-1.0.0\\pacientes_antes\\recortados\\Subject09_1_recortado.fif...\n",
      "Isotrak not found\n",
      "    Range : 0 ... 30999 =      0.000 ...    61.998 secs\n",
      "Ready.\n",
      "Reading 0 ... 30999  =      0.000 ...    61.998 secs...\n"
     ]
    },
    {
     "name": "stderr",
     "output_type": "stream",
     "text": [
      "C:\\Users\\pablo\\AppData\\Local\\Temp\\ipykernel_18512\\3399356611.py:17: RuntimeWarning: This filename (C:\\Users\\pablo\\Documents\\UNIVERSIDAD\\TFG\\eeg-during-mental-arithmetic-tasks-1.0.0\\eeg-during-mental-arithmetic-tasks-1.0.0\\pacientes_antes\\recortados\\Subject09_1_recortado.fif) does not conform to MNE naming conventions. All raw files should end with raw.fif, raw_sss.fif, raw_tsss.fif, _meg.fif, _eeg.fif, _ieeg.fif, raw.fif.gz, raw_sss.fif.gz, raw_tsss.fif.gz, _meg.fif.gz, _eeg.fif.gz or _ieeg.fif.gz\n",
      "  raw = mne.io.read_raw_fif(full_path, preload=True)\n"
     ]
    },
    {
     "name": "stdout",
     "output_type": "stream",
     "text": [
      "Opening raw data file C:\\Users\\pablo\\Documents\\UNIVERSIDAD\\TFG\\eeg-during-mental-arithmetic-tasks-1.0.0\\eeg-during-mental-arithmetic-tasks-1.0.0\\pacientes_antes\\recortados\\Subject10_1_recortado.fif...\n",
      "Isotrak not found\n",
      "    Range : 0 ... 30999 =      0.000 ...    61.998 secs\n",
      "Ready.\n",
      "Reading 0 ... 30999  =      0.000 ...    61.998 secs...\n"
     ]
    },
    {
     "name": "stderr",
     "output_type": "stream",
     "text": [
      "C:\\Users\\pablo\\AppData\\Local\\Temp\\ipykernel_18512\\3399356611.py:17: RuntimeWarning: This filename (C:\\Users\\pablo\\Documents\\UNIVERSIDAD\\TFG\\eeg-during-mental-arithmetic-tasks-1.0.0\\eeg-during-mental-arithmetic-tasks-1.0.0\\pacientes_antes\\recortados\\Subject10_1_recortado.fif) does not conform to MNE naming conventions. All raw files should end with raw.fif, raw_sss.fif, raw_tsss.fif, _meg.fif, _eeg.fif, _ieeg.fif, raw.fif.gz, raw_sss.fif.gz, raw_tsss.fif.gz, _meg.fif.gz, _eeg.fif.gz or _ieeg.fif.gz\n",
      "  raw = mne.io.read_raw_fif(full_path, preload=True)\n"
     ]
    },
    {
     "name": "stdout",
     "output_type": "stream",
     "text": [
      "Opening raw data file C:\\Users\\pablo\\Documents\\UNIVERSIDAD\\TFG\\eeg-during-mental-arithmetic-tasks-1.0.0\\eeg-during-mental-arithmetic-tasks-1.0.0\\pacientes_antes\\recortados\\Subject11_1_recortado.fif...\n",
      "Isotrak not found\n",
      "    Range : 0 ... 30999 =      0.000 ...    61.998 secs\n",
      "Ready.\n",
      "Reading 0 ... 30999  =      0.000 ...    61.998 secs...\n"
     ]
    },
    {
     "name": "stderr",
     "output_type": "stream",
     "text": [
      "C:\\Users\\pablo\\AppData\\Local\\Temp\\ipykernel_18512\\3399356611.py:17: RuntimeWarning: This filename (C:\\Users\\pablo\\Documents\\UNIVERSIDAD\\TFG\\eeg-during-mental-arithmetic-tasks-1.0.0\\eeg-during-mental-arithmetic-tasks-1.0.0\\pacientes_antes\\recortados\\Subject11_1_recortado.fif) does not conform to MNE naming conventions. All raw files should end with raw.fif, raw_sss.fif, raw_tsss.fif, _meg.fif, _eeg.fif, _ieeg.fif, raw.fif.gz, raw_sss.fif.gz, raw_tsss.fif.gz, _meg.fif.gz, _eeg.fif.gz or _ieeg.fif.gz\n",
      "  raw = mne.io.read_raw_fif(full_path, preload=True)\n"
     ]
    },
    {
     "name": "stdout",
     "output_type": "stream",
     "text": [
      "Opening raw data file C:\\Users\\pablo\\Documents\\UNIVERSIDAD\\TFG\\eeg-during-mental-arithmetic-tasks-1.0.0\\eeg-during-mental-arithmetic-tasks-1.0.0\\pacientes_antes\\recortados\\Subject12_1_recortado.fif...\n",
      "Isotrak not found\n",
      "    Range : 0 ... 30999 =      0.000 ...    61.998 secs\n",
      "Ready.\n",
      "Reading 0 ... 30999  =      0.000 ...    61.998 secs...\n"
     ]
    },
    {
     "name": "stderr",
     "output_type": "stream",
     "text": [
      "C:\\Users\\pablo\\AppData\\Local\\Temp\\ipykernel_18512\\3399356611.py:17: RuntimeWarning: This filename (C:\\Users\\pablo\\Documents\\UNIVERSIDAD\\TFG\\eeg-during-mental-arithmetic-tasks-1.0.0\\eeg-during-mental-arithmetic-tasks-1.0.0\\pacientes_antes\\recortados\\Subject12_1_recortado.fif) does not conform to MNE naming conventions. All raw files should end with raw.fif, raw_sss.fif, raw_tsss.fif, _meg.fif, _eeg.fif, _ieeg.fif, raw.fif.gz, raw_sss.fif.gz, raw_tsss.fif.gz, _meg.fif.gz, _eeg.fif.gz or _ieeg.fif.gz\n",
      "  raw = mne.io.read_raw_fif(full_path, preload=True)\n"
     ]
    },
    {
     "name": "stdout",
     "output_type": "stream",
     "text": [
      "Opening raw data file C:\\Users\\pablo\\Documents\\UNIVERSIDAD\\TFG\\eeg-during-mental-arithmetic-tasks-1.0.0\\eeg-during-mental-arithmetic-tasks-1.0.0\\pacientes_antes\\recortados\\Subject13_1_recortado.fif...\n",
      "Isotrak not found\n",
      "    Range : 0 ... 30999 =      0.000 ...    61.998 secs\n",
      "Ready.\n",
      "Reading 0 ... 30999  =      0.000 ...    61.998 secs...\n"
     ]
    },
    {
     "name": "stderr",
     "output_type": "stream",
     "text": [
      "C:\\Users\\pablo\\AppData\\Local\\Temp\\ipykernel_18512\\3399356611.py:17: RuntimeWarning: This filename (C:\\Users\\pablo\\Documents\\UNIVERSIDAD\\TFG\\eeg-during-mental-arithmetic-tasks-1.0.0\\eeg-during-mental-arithmetic-tasks-1.0.0\\pacientes_antes\\recortados\\Subject13_1_recortado.fif) does not conform to MNE naming conventions. All raw files should end with raw.fif, raw_sss.fif, raw_tsss.fif, _meg.fif, _eeg.fif, _ieeg.fif, raw.fif.gz, raw_sss.fif.gz, raw_tsss.fif.gz, _meg.fif.gz, _eeg.fif.gz or _ieeg.fif.gz\n",
      "  raw = mne.io.read_raw_fif(full_path, preload=True)\n"
     ]
    },
    {
     "name": "stdout",
     "output_type": "stream",
     "text": [
      "Opening raw data file C:\\Users\\pablo\\Documents\\UNIVERSIDAD\\TFG\\eeg-during-mental-arithmetic-tasks-1.0.0\\eeg-during-mental-arithmetic-tasks-1.0.0\\pacientes_antes\\recortados\\Subject14_1_recortado.fif...\n",
      "Isotrak not found\n",
      "    Range : 0 ... 30999 =      0.000 ...    61.998 secs\n",
      "Ready.\n",
      "Reading 0 ... 30999  =      0.000 ...    61.998 secs...\n"
     ]
    },
    {
     "name": "stderr",
     "output_type": "stream",
     "text": [
      "C:\\Users\\pablo\\AppData\\Local\\Temp\\ipykernel_18512\\3399356611.py:17: RuntimeWarning: This filename (C:\\Users\\pablo\\Documents\\UNIVERSIDAD\\TFG\\eeg-during-mental-arithmetic-tasks-1.0.0\\eeg-during-mental-arithmetic-tasks-1.0.0\\pacientes_antes\\recortados\\Subject14_1_recortado.fif) does not conform to MNE naming conventions. All raw files should end with raw.fif, raw_sss.fif, raw_tsss.fif, _meg.fif, _eeg.fif, _ieeg.fif, raw.fif.gz, raw_sss.fif.gz, raw_tsss.fif.gz, _meg.fif.gz, _eeg.fif.gz or _ieeg.fif.gz\n",
      "  raw = mne.io.read_raw_fif(full_path, preload=True)\n"
     ]
    },
    {
     "name": "stdout",
     "output_type": "stream",
     "text": [
      "Opening raw data file C:\\Users\\pablo\\Documents\\UNIVERSIDAD\\TFG\\eeg-during-mental-arithmetic-tasks-1.0.0\\eeg-during-mental-arithmetic-tasks-1.0.0\\pacientes_antes\\recortados\\Subject15_1_recortado.fif...\n",
      "Isotrak not found\n",
      "    Range : 0 ... 30999 =      0.000 ...    61.998 secs\n",
      "Ready.\n",
      "Reading 0 ... 30999  =      0.000 ...    61.998 secs...\n"
     ]
    },
    {
     "name": "stderr",
     "output_type": "stream",
     "text": [
      "C:\\Users\\pablo\\AppData\\Local\\Temp\\ipykernel_18512\\3399356611.py:17: RuntimeWarning: This filename (C:\\Users\\pablo\\Documents\\UNIVERSIDAD\\TFG\\eeg-during-mental-arithmetic-tasks-1.0.0\\eeg-during-mental-arithmetic-tasks-1.0.0\\pacientes_antes\\recortados\\Subject15_1_recortado.fif) does not conform to MNE naming conventions. All raw files should end with raw.fif, raw_sss.fif, raw_tsss.fif, _meg.fif, _eeg.fif, _ieeg.fif, raw.fif.gz, raw_sss.fif.gz, raw_tsss.fif.gz, _meg.fif.gz, _eeg.fif.gz or _ieeg.fif.gz\n",
      "  raw = mne.io.read_raw_fif(full_path, preload=True)\n"
     ]
    },
    {
     "name": "stdout",
     "output_type": "stream",
     "text": [
      "Opening raw data file C:\\Users\\pablo\\Documents\\UNIVERSIDAD\\TFG\\eeg-during-mental-arithmetic-tasks-1.0.0\\eeg-during-mental-arithmetic-tasks-1.0.0\\pacientes_antes\\recortados\\Subject16_1_recortado.fif...\n",
      "Isotrak not found\n",
      "    Range : 0 ... 30999 =      0.000 ...    61.998 secs\n",
      "Ready.\n",
      "Reading 0 ... 30999  =      0.000 ...    61.998 secs...\n"
     ]
    },
    {
     "name": "stderr",
     "output_type": "stream",
     "text": [
      "C:\\Users\\pablo\\AppData\\Local\\Temp\\ipykernel_18512\\3399356611.py:17: RuntimeWarning: This filename (C:\\Users\\pablo\\Documents\\UNIVERSIDAD\\TFG\\eeg-during-mental-arithmetic-tasks-1.0.0\\eeg-during-mental-arithmetic-tasks-1.0.0\\pacientes_antes\\recortados\\Subject16_1_recortado.fif) does not conform to MNE naming conventions. All raw files should end with raw.fif, raw_sss.fif, raw_tsss.fif, _meg.fif, _eeg.fif, _ieeg.fif, raw.fif.gz, raw_sss.fif.gz, raw_tsss.fif.gz, _meg.fif.gz, _eeg.fif.gz or _ieeg.fif.gz\n",
      "  raw = mne.io.read_raw_fif(full_path, preload=True)\n"
     ]
    },
    {
     "name": "stdout",
     "output_type": "stream",
     "text": [
      "Opening raw data file C:\\Users\\pablo\\Documents\\UNIVERSIDAD\\TFG\\eeg-during-mental-arithmetic-tasks-1.0.0\\eeg-during-mental-arithmetic-tasks-1.0.0\\pacientes_antes\\recortados\\Subject17_1_recortado.fif...\n",
      "Isotrak not found\n",
      "    Range : 0 ... 30999 =      0.000 ...    61.998 secs\n",
      "Ready.\n",
      "Reading 0 ... 30999  =      0.000 ...    61.998 secs...\n"
     ]
    },
    {
     "name": "stderr",
     "output_type": "stream",
     "text": [
      "C:\\Users\\pablo\\AppData\\Local\\Temp\\ipykernel_18512\\3399356611.py:17: RuntimeWarning: This filename (C:\\Users\\pablo\\Documents\\UNIVERSIDAD\\TFG\\eeg-during-mental-arithmetic-tasks-1.0.0\\eeg-during-mental-arithmetic-tasks-1.0.0\\pacientes_antes\\recortados\\Subject17_1_recortado.fif) does not conform to MNE naming conventions. All raw files should end with raw.fif, raw_sss.fif, raw_tsss.fif, _meg.fif, _eeg.fif, _ieeg.fif, raw.fif.gz, raw_sss.fif.gz, raw_tsss.fif.gz, _meg.fif.gz, _eeg.fif.gz or _ieeg.fif.gz\n",
      "  raw = mne.io.read_raw_fif(full_path, preload=True)\n"
     ]
    },
    {
     "name": "stdout",
     "output_type": "stream",
     "text": [
      "Opening raw data file C:\\Users\\pablo\\Documents\\UNIVERSIDAD\\TFG\\eeg-during-mental-arithmetic-tasks-1.0.0\\eeg-during-mental-arithmetic-tasks-1.0.0\\pacientes_antes\\recortados\\Subject18_1_recortado.fif...\n",
      "Isotrak not found\n",
      "    Range : 0 ... 30999 =      0.000 ...    61.998 secs\n",
      "Ready.\n",
      "Reading 0 ... 30999  =      0.000 ...    61.998 secs...\n"
     ]
    },
    {
     "name": "stderr",
     "output_type": "stream",
     "text": [
      "C:\\Users\\pablo\\AppData\\Local\\Temp\\ipykernel_18512\\3399356611.py:17: RuntimeWarning: This filename (C:\\Users\\pablo\\Documents\\UNIVERSIDAD\\TFG\\eeg-during-mental-arithmetic-tasks-1.0.0\\eeg-during-mental-arithmetic-tasks-1.0.0\\pacientes_antes\\recortados\\Subject18_1_recortado.fif) does not conform to MNE naming conventions. All raw files should end with raw.fif, raw_sss.fif, raw_tsss.fif, _meg.fif, _eeg.fif, _ieeg.fif, raw.fif.gz, raw_sss.fif.gz, raw_tsss.fif.gz, _meg.fif.gz, _eeg.fif.gz or _ieeg.fif.gz\n",
      "  raw = mne.io.read_raw_fif(full_path, preload=True)\n"
     ]
    },
    {
     "name": "stdout",
     "output_type": "stream",
     "text": [
      "Opening raw data file C:\\Users\\pablo\\Documents\\UNIVERSIDAD\\TFG\\eeg-during-mental-arithmetic-tasks-1.0.0\\eeg-during-mental-arithmetic-tasks-1.0.0\\pacientes_antes\\recortados\\Subject19_1_recortado.fif...\n",
      "Isotrak not found\n",
      "    Range : 0 ... 30999 =      0.000 ...    61.998 secs\n",
      "Ready.\n",
      "Reading 0 ... 30999  =      0.000 ...    61.998 secs...\n"
     ]
    },
    {
     "name": "stderr",
     "output_type": "stream",
     "text": [
      "C:\\Users\\pablo\\AppData\\Local\\Temp\\ipykernel_18512\\3399356611.py:17: RuntimeWarning: This filename (C:\\Users\\pablo\\Documents\\UNIVERSIDAD\\TFG\\eeg-during-mental-arithmetic-tasks-1.0.0\\eeg-during-mental-arithmetic-tasks-1.0.0\\pacientes_antes\\recortados\\Subject19_1_recortado.fif) does not conform to MNE naming conventions. All raw files should end with raw.fif, raw_sss.fif, raw_tsss.fif, _meg.fif, _eeg.fif, _ieeg.fif, raw.fif.gz, raw_sss.fif.gz, raw_tsss.fif.gz, _meg.fif.gz, _eeg.fif.gz or _ieeg.fif.gz\n",
      "  raw = mne.io.read_raw_fif(full_path, preload=True)\n"
     ]
    },
    {
     "name": "stdout",
     "output_type": "stream",
     "text": [
      "Opening raw data file C:\\Users\\pablo\\Documents\\UNIVERSIDAD\\TFG\\eeg-during-mental-arithmetic-tasks-1.0.0\\eeg-during-mental-arithmetic-tasks-1.0.0\\pacientes_antes\\recortados\\Subject20_1_recortado.fif...\n",
      "Isotrak not found\n",
      "    Range : 0 ... 30999 =      0.000 ...    61.998 secs\n",
      "Ready.\n",
      "Reading 0 ... 30999  =      0.000 ...    61.998 secs...\n"
     ]
    },
    {
     "name": "stderr",
     "output_type": "stream",
     "text": [
      "C:\\Users\\pablo\\AppData\\Local\\Temp\\ipykernel_18512\\3399356611.py:17: RuntimeWarning: This filename (C:\\Users\\pablo\\Documents\\UNIVERSIDAD\\TFG\\eeg-during-mental-arithmetic-tasks-1.0.0\\eeg-during-mental-arithmetic-tasks-1.0.0\\pacientes_antes\\recortados\\Subject20_1_recortado.fif) does not conform to MNE naming conventions. All raw files should end with raw.fif, raw_sss.fif, raw_tsss.fif, _meg.fif, _eeg.fif, _ieeg.fif, raw.fif.gz, raw_sss.fif.gz, raw_tsss.fif.gz, _meg.fif.gz, _eeg.fif.gz or _ieeg.fif.gz\n",
      "  raw = mne.io.read_raw_fif(full_path, preload=True)\n"
     ]
    },
    {
     "name": "stdout",
     "output_type": "stream",
     "text": [
      "Opening raw data file C:\\Users\\pablo\\Documents\\UNIVERSIDAD\\TFG\\eeg-during-mental-arithmetic-tasks-1.0.0\\eeg-during-mental-arithmetic-tasks-1.0.0\\pacientes_antes\\recortados\\Subject21_1_recortado.fif...\n",
      "Isotrak not found\n",
      "    Range : 0 ... 30999 =      0.000 ...    61.998 secs\n",
      "Ready.\n",
      "Reading 0 ... 30999  =      0.000 ...    61.998 secs...\n"
     ]
    },
    {
     "name": "stderr",
     "output_type": "stream",
     "text": [
      "C:\\Users\\pablo\\AppData\\Local\\Temp\\ipykernel_18512\\3399356611.py:17: RuntimeWarning: This filename (C:\\Users\\pablo\\Documents\\UNIVERSIDAD\\TFG\\eeg-during-mental-arithmetic-tasks-1.0.0\\eeg-during-mental-arithmetic-tasks-1.0.0\\pacientes_antes\\recortados\\Subject21_1_recortado.fif) does not conform to MNE naming conventions. All raw files should end with raw.fif, raw_sss.fif, raw_tsss.fif, _meg.fif, _eeg.fif, _ieeg.fif, raw.fif.gz, raw_sss.fif.gz, raw_tsss.fif.gz, _meg.fif.gz, _eeg.fif.gz or _ieeg.fif.gz\n",
      "  raw = mne.io.read_raw_fif(full_path, preload=True)\n"
     ]
    },
    {
     "name": "stdout",
     "output_type": "stream",
     "text": [
      "Opening raw data file C:\\Users\\pablo\\Documents\\UNIVERSIDAD\\TFG\\eeg-during-mental-arithmetic-tasks-1.0.0\\eeg-during-mental-arithmetic-tasks-1.0.0\\pacientes_antes\\recortados\\Subject22_1_recortado.fif...\n",
      "Isotrak not found\n",
      "    Range : 0 ... 30999 =      0.000 ...    61.998 secs\n",
      "Ready.\n",
      "Reading 0 ... 30999  =      0.000 ...    61.998 secs...\n"
     ]
    },
    {
     "name": "stderr",
     "output_type": "stream",
     "text": [
      "C:\\Users\\pablo\\AppData\\Local\\Temp\\ipykernel_18512\\3399356611.py:17: RuntimeWarning: This filename (C:\\Users\\pablo\\Documents\\UNIVERSIDAD\\TFG\\eeg-during-mental-arithmetic-tasks-1.0.0\\eeg-during-mental-arithmetic-tasks-1.0.0\\pacientes_antes\\recortados\\Subject22_1_recortado.fif) does not conform to MNE naming conventions. All raw files should end with raw.fif, raw_sss.fif, raw_tsss.fif, _meg.fif, _eeg.fif, _ieeg.fif, raw.fif.gz, raw_sss.fif.gz, raw_tsss.fif.gz, _meg.fif.gz, _eeg.fif.gz or _ieeg.fif.gz\n",
      "  raw = mne.io.read_raw_fif(full_path, preload=True)\n"
     ]
    },
    {
     "name": "stdout",
     "output_type": "stream",
     "text": [
      "Opening raw data file C:\\Users\\pablo\\Documents\\UNIVERSIDAD\\TFG\\eeg-during-mental-arithmetic-tasks-1.0.0\\eeg-during-mental-arithmetic-tasks-1.0.0\\pacientes_antes\\recortados\\Subject23_1_recortado.fif...\n",
      "Isotrak not found\n",
      "    Range : 0 ... 30999 =      0.000 ...    61.998 secs\n",
      "Ready.\n",
      "Reading 0 ... 30999  =      0.000 ...    61.998 secs...\n"
     ]
    },
    {
     "name": "stderr",
     "output_type": "stream",
     "text": [
      "C:\\Users\\pablo\\AppData\\Local\\Temp\\ipykernel_18512\\3399356611.py:17: RuntimeWarning: This filename (C:\\Users\\pablo\\Documents\\UNIVERSIDAD\\TFG\\eeg-during-mental-arithmetic-tasks-1.0.0\\eeg-during-mental-arithmetic-tasks-1.0.0\\pacientes_antes\\recortados\\Subject23_1_recortado.fif) does not conform to MNE naming conventions. All raw files should end with raw.fif, raw_sss.fif, raw_tsss.fif, _meg.fif, _eeg.fif, _ieeg.fif, raw.fif.gz, raw_sss.fif.gz, raw_tsss.fif.gz, _meg.fif.gz, _eeg.fif.gz or _ieeg.fif.gz\n",
      "  raw = mne.io.read_raw_fif(full_path, preload=True)\n"
     ]
    },
    {
     "name": "stdout",
     "output_type": "stream",
     "text": [
      "Opening raw data file C:\\Users\\pablo\\Documents\\UNIVERSIDAD\\TFG\\eeg-during-mental-arithmetic-tasks-1.0.0\\eeg-during-mental-arithmetic-tasks-1.0.0\\pacientes_antes\\recortados\\Subject24_1_recortado.fif...\n",
      "Isotrak not found\n",
      "    Range : 0 ... 30999 =      0.000 ...    61.998 secs\n",
      "Ready.\n",
      "Reading 0 ... 30999  =      0.000 ...    61.998 secs...\n"
     ]
    },
    {
     "name": "stderr",
     "output_type": "stream",
     "text": [
      "C:\\Users\\pablo\\AppData\\Local\\Temp\\ipykernel_18512\\3399356611.py:17: RuntimeWarning: This filename (C:\\Users\\pablo\\Documents\\UNIVERSIDAD\\TFG\\eeg-during-mental-arithmetic-tasks-1.0.0\\eeg-during-mental-arithmetic-tasks-1.0.0\\pacientes_antes\\recortados\\Subject24_1_recortado.fif) does not conform to MNE naming conventions. All raw files should end with raw.fif, raw_sss.fif, raw_tsss.fif, _meg.fif, _eeg.fif, _ieeg.fif, raw.fif.gz, raw_sss.fif.gz, raw_tsss.fif.gz, _meg.fif.gz, _eeg.fif.gz or _ieeg.fif.gz\n",
      "  raw = mne.io.read_raw_fif(full_path, preload=True)\n"
     ]
    },
    {
     "name": "stdout",
     "output_type": "stream",
     "text": [
      "Opening raw data file C:\\Users\\pablo\\Documents\\UNIVERSIDAD\\TFG\\eeg-during-mental-arithmetic-tasks-1.0.0\\eeg-during-mental-arithmetic-tasks-1.0.0\\pacientes_antes\\recortados\\Subject25_1_recortado.fif...\n",
      "Isotrak not found\n",
      "    Range : 0 ... 30999 =      0.000 ...    61.998 secs\n",
      "Ready.\n",
      "Reading 0 ... 30999  =      0.000 ...    61.998 secs...\n"
     ]
    },
    {
     "name": "stderr",
     "output_type": "stream",
     "text": [
      "C:\\Users\\pablo\\AppData\\Local\\Temp\\ipykernel_18512\\3399356611.py:17: RuntimeWarning: This filename (C:\\Users\\pablo\\Documents\\UNIVERSIDAD\\TFG\\eeg-during-mental-arithmetic-tasks-1.0.0\\eeg-during-mental-arithmetic-tasks-1.0.0\\pacientes_antes\\recortados\\Subject25_1_recortado.fif) does not conform to MNE naming conventions. All raw files should end with raw.fif, raw_sss.fif, raw_tsss.fif, _meg.fif, _eeg.fif, _ieeg.fif, raw.fif.gz, raw_sss.fif.gz, raw_tsss.fif.gz, _meg.fif.gz, _eeg.fif.gz or _ieeg.fif.gz\n",
      "  raw = mne.io.read_raw_fif(full_path, preload=True)\n"
     ]
    },
    {
     "name": "stdout",
     "output_type": "stream",
     "text": [
      "Opening raw data file C:\\Users\\pablo\\Documents\\UNIVERSIDAD\\TFG\\eeg-during-mental-arithmetic-tasks-1.0.0\\eeg-during-mental-arithmetic-tasks-1.0.0\\pacientes_antes\\recortados\\Subject26_1_recortado.fif...\n",
      "Isotrak not found\n",
      "    Range : 0 ... 30999 =      0.000 ...    61.998 secs\n",
      "Ready.\n",
      "Reading 0 ... 30999  =      0.000 ...    61.998 secs...\n"
     ]
    },
    {
     "name": "stderr",
     "output_type": "stream",
     "text": [
      "C:\\Users\\pablo\\AppData\\Local\\Temp\\ipykernel_18512\\3399356611.py:17: RuntimeWarning: This filename (C:\\Users\\pablo\\Documents\\UNIVERSIDAD\\TFG\\eeg-during-mental-arithmetic-tasks-1.0.0\\eeg-during-mental-arithmetic-tasks-1.0.0\\pacientes_antes\\recortados\\Subject26_1_recortado.fif) does not conform to MNE naming conventions. All raw files should end with raw.fif, raw_sss.fif, raw_tsss.fif, _meg.fif, _eeg.fif, _ieeg.fif, raw.fif.gz, raw_sss.fif.gz, raw_tsss.fif.gz, _meg.fif.gz, _eeg.fif.gz or _ieeg.fif.gz\n",
      "  raw = mne.io.read_raw_fif(full_path, preload=True)\n"
     ]
    },
    {
     "name": "stdout",
     "output_type": "stream",
     "text": [
      "Opening raw data file C:\\Users\\pablo\\Documents\\UNIVERSIDAD\\TFG\\eeg-during-mental-arithmetic-tasks-1.0.0\\eeg-during-mental-arithmetic-tasks-1.0.0\\pacientes_antes\\recortados\\Subject27_1_recortado.fif...\n",
      "Isotrak not found\n",
      "    Range : 0 ... 30999 =      0.000 ...    61.998 secs\n",
      "Ready.\n",
      "Reading 0 ... 30999  =      0.000 ...    61.998 secs...\n"
     ]
    },
    {
     "name": "stderr",
     "output_type": "stream",
     "text": [
      "C:\\Users\\pablo\\AppData\\Local\\Temp\\ipykernel_18512\\3399356611.py:17: RuntimeWarning: This filename (C:\\Users\\pablo\\Documents\\UNIVERSIDAD\\TFG\\eeg-during-mental-arithmetic-tasks-1.0.0\\eeg-during-mental-arithmetic-tasks-1.0.0\\pacientes_antes\\recortados\\Subject27_1_recortado.fif) does not conform to MNE naming conventions. All raw files should end with raw.fif, raw_sss.fif, raw_tsss.fif, _meg.fif, _eeg.fif, _ieeg.fif, raw.fif.gz, raw_sss.fif.gz, raw_tsss.fif.gz, _meg.fif.gz, _eeg.fif.gz or _ieeg.fif.gz\n",
      "  raw = mne.io.read_raw_fif(full_path, preload=True)\n"
     ]
    },
    {
     "name": "stdout",
     "output_type": "stream",
     "text": [
      "Opening raw data file C:\\Users\\pablo\\Documents\\UNIVERSIDAD\\TFG\\eeg-during-mental-arithmetic-tasks-1.0.0\\eeg-during-mental-arithmetic-tasks-1.0.0\\pacientes_antes\\recortados\\Subject28_1_recortado.fif...\n",
      "Isotrak not found\n",
      "    Range : 0 ... 30999 =      0.000 ...    61.998 secs\n",
      "Ready.\n",
      "Reading 0 ... 30999  =      0.000 ...    61.998 secs...\n"
     ]
    },
    {
     "name": "stderr",
     "output_type": "stream",
     "text": [
      "C:\\Users\\pablo\\AppData\\Local\\Temp\\ipykernel_18512\\3399356611.py:17: RuntimeWarning: This filename (C:\\Users\\pablo\\Documents\\UNIVERSIDAD\\TFG\\eeg-during-mental-arithmetic-tasks-1.0.0\\eeg-during-mental-arithmetic-tasks-1.0.0\\pacientes_antes\\recortados\\Subject28_1_recortado.fif) does not conform to MNE naming conventions. All raw files should end with raw.fif, raw_sss.fif, raw_tsss.fif, _meg.fif, _eeg.fif, _ieeg.fif, raw.fif.gz, raw_sss.fif.gz, raw_tsss.fif.gz, _meg.fif.gz, _eeg.fif.gz or _ieeg.fif.gz\n",
      "  raw = mne.io.read_raw_fif(full_path, preload=True)\n"
     ]
    },
    {
     "name": "stdout",
     "output_type": "stream",
     "text": [
      "Opening raw data file C:\\Users\\pablo\\Documents\\UNIVERSIDAD\\TFG\\eeg-during-mental-arithmetic-tasks-1.0.0\\eeg-during-mental-arithmetic-tasks-1.0.0\\pacientes_antes\\recortados\\Subject29_1_recortado.fif...\n",
      "Isotrak not found\n",
      "    Range : 0 ... 30999 =      0.000 ...    61.998 secs\n",
      "Ready.\n",
      "Reading 0 ... 30999  =      0.000 ...    61.998 secs...\n"
     ]
    },
    {
     "name": "stderr",
     "output_type": "stream",
     "text": [
      "C:\\Users\\pablo\\AppData\\Local\\Temp\\ipykernel_18512\\3399356611.py:17: RuntimeWarning: This filename (C:\\Users\\pablo\\Documents\\UNIVERSIDAD\\TFG\\eeg-during-mental-arithmetic-tasks-1.0.0\\eeg-during-mental-arithmetic-tasks-1.0.0\\pacientes_antes\\recortados\\Subject29_1_recortado.fif) does not conform to MNE naming conventions. All raw files should end with raw.fif, raw_sss.fif, raw_tsss.fif, _meg.fif, _eeg.fif, _ieeg.fif, raw.fif.gz, raw_sss.fif.gz, raw_tsss.fif.gz, _meg.fif.gz, _eeg.fif.gz or _ieeg.fif.gz\n",
      "  raw = mne.io.read_raw_fif(full_path, preload=True)\n"
     ]
    },
    {
     "name": "stdout",
     "output_type": "stream",
     "text": [
      "Opening raw data file C:\\Users\\pablo\\Documents\\UNIVERSIDAD\\TFG\\eeg-during-mental-arithmetic-tasks-1.0.0\\eeg-during-mental-arithmetic-tasks-1.0.0\\pacientes_antes\\recortados\\Subject30_1_recortado.fif...\n",
      "Isotrak not found\n",
      "    Range : 0 ... 30999 =      0.000 ...    61.998 secs\n",
      "Ready.\n",
      "Reading 0 ... 30999  =      0.000 ...    61.998 secs...\n"
     ]
    },
    {
     "name": "stderr",
     "output_type": "stream",
     "text": [
      "C:\\Users\\pablo\\AppData\\Local\\Temp\\ipykernel_18512\\3399356611.py:17: RuntimeWarning: This filename (C:\\Users\\pablo\\Documents\\UNIVERSIDAD\\TFG\\eeg-during-mental-arithmetic-tasks-1.0.0\\eeg-during-mental-arithmetic-tasks-1.0.0\\pacientes_antes\\recortados\\Subject30_1_recortado.fif) does not conform to MNE naming conventions. All raw files should end with raw.fif, raw_sss.fif, raw_tsss.fif, _meg.fif, _eeg.fif, _ieeg.fif, raw.fif.gz, raw_sss.fif.gz, raw_tsss.fif.gz, _meg.fif.gz, _eeg.fif.gz or _ieeg.fif.gz\n",
      "  raw = mne.io.read_raw_fif(full_path, preload=True)\n"
     ]
    },
    {
     "name": "stdout",
     "output_type": "stream",
     "text": [
      "Opening raw data file C:\\Users\\pablo\\Documents\\UNIVERSIDAD\\TFG\\eeg-during-mental-arithmetic-tasks-1.0.0\\eeg-during-mental-arithmetic-tasks-1.0.0\\pacientes_antes\\recortados\\Subject31_1_recortado.fif...\n",
      "Isotrak not found\n",
      "    Range : 0 ... 30999 =      0.000 ...    61.998 secs\n",
      "Ready.\n",
      "Reading 0 ... 30999  =      0.000 ...    61.998 secs...\n"
     ]
    },
    {
     "name": "stderr",
     "output_type": "stream",
     "text": [
      "C:\\Users\\pablo\\AppData\\Local\\Temp\\ipykernel_18512\\3399356611.py:17: RuntimeWarning: This filename (C:\\Users\\pablo\\Documents\\UNIVERSIDAD\\TFG\\eeg-during-mental-arithmetic-tasks-1.0.0\\eeg-during-mental-arithmetic-tasks-1.0.0\\pacientes_antes\\recortados\\Subject31_1_recortado.fif) does not conform to MNE naming conventions. All raw files should end with raw.fif, raw_sss.fif, raw_tsss.fif, _meg.fif, _eeg.fif, _ieeg.fif, raw.fif.gz, raw_sss.fif.gz, raw_tsss.fif.gz, _meg.fif.gz, _eeg.fif.gz or _ieeg.fif.gz\n",
      "  raw = mne.io.read_raw_fif(full_path, preload=True)\n"
     ]
    },
    {
     "name": "stdout",
     "output_type": "stream",
     "text": [
      "Opening raw data file C:\\Users\\pablo\\Documents\\UNIVERSIDAD\\TFG\\eeg-during-mental-arithmetic-tasks-1.0.0\\eeg-during-mental-arithmetic-tasks-1.0.0\\pacientes_antes\\recortados\\Subject32_1_recortado.fif...\n",
      "Isotrak not found\n",
      "    Range : 0 ... 30999 =      0.000 ...    61.998 secs\n",
      "Ready.\n",
      "Reading 0 ... 30999  =      0.000 ...    61.998 secs...\n"
     ]
    },
    {
     "name": "stderr",
     "output_type": "stream",
     "text": [
      "C:\\Users\\pablo\\AppData\\Local\\Temp\\ipykernel_18512\\3399356611.py:17: RuntimeWarning: This filename (C:\\Users\\pablo\\Documents\\UNIVERSIDAD\\TFG\\eeg-during-mental-arithmetic-tasks-1.0.0\\eeg-during-mental-arithmetic-tasks-1.0.0\\pacientes_antes\\recortados\\Subject32_1_recortado.fif) does not conform to MNE naming conventions. All raw files should end with raw.fif, raw_sss.fif, raw_tsss.fif, _meg.fif, _eeg.fif, _ieeg.fif, raw.fif.gz, raw_sss.fif.gz, raw_tsss.fif.gz, _meg.fif.gz, _eeg.fif.gz or _ieeg.fif.gz\n",
      "  raw = mne.io.read_raw_fif(full_path, preload=True)\n"
     ]
    },
    {
     "name": "stdout",
     "output_type": "stream",
     "text": [
      "Opening raw data file C:\\Users\\pablo\\Documents\\UNIVERSIDAD\\TFG\\eeg-during-mental-arithmetic-tasks-1.0.0\\eeg-during-mental-arithmetic-tasks-1.0.0\\pacientes_antes\\recortados\\Subject33_1_recortado.fif...\n",
      "Isotrak not found\n",
      "    Range : 0 ... 30999 =      0.000 ...    61.998 secs\n",
      "Ready.\n",
      "Reading 0 ... 30999  =      0.000 ...    61.998 secs...\n"
     ]
    },
    {
     "name": "stderr",
     "output_type": "stream",
     "text": [
      "C:\\Users\\pablo\\AppData\\Local\\Temp\\ipykernel_18512\\3399356611.py:17: RuntimeWarning: This filename (C:\\Users\\pablo\\Documents\\UNIVERSIDAD\\TFG\\eeg-during-mental-arithmetic-tasks-1.0.0\\eeg-during-mental-arithmetic-tasks-1.0.0\\pacientes_antes\\recortados\\Subject33_1_recortado.fif) does not conform to MNE naming conventions. All raw files should end with raw.fif, raw_sss.fif, raw_tsss.fif, _meg.fif, _eeg.fif, _ieeg.fif, raw.fif.gz, raw_sss.fif.gz, raw_tsss.fif.gz, _meg.fif.gz, _eeg.fif.gz or _ieeg.fif.gz\n",
      "  raw = mne.io.read_raw_fif(full_path, preload=True)\n"
     ]
    },
    {
     "name": "stdout",
     "output_type": "stream",
     "text": [
      "Opening raw data file C:\\Users\\pablo\\Documents\\UNIVERSIDAD\\TFG\\eeg-during-mental-arithmetic-tasks-1.0.0\\eeg-during-mental-arithmetic-tasks-1.0.0\\pacientes_antes\\recortados\\Subject34_1_recortado.fif...\n",
      "Isotrak not found\n",
      "    Range : 0 ... 30999 =      0.000 ...    61.998 secs\n",
      "Ready.\n",
      "Reading 0 ... 30999  =      0.000 ...    61.998 secs...\n"
     ]
    },
    {
     "name": "stderr",
     "output_type": "stream",
     "text": [
      "C:\\Users\\pablo\\AppData\\Local\\Temp\\ipykernel_18512\\3399356611.py:17: RuntimeWarning: This filename (C:\\Users\\pablo\\Documents\\UNIVERSIDAD\\TFG\\eeg-during-mental-arithmetic-tasks-1.0.0\\eeg-during-mental-arithmetic-tasks-1.0.0\\pacientes_antes\\recortados\\Subject34_1_recortado.fif) does not conform to MNE naming conventions. All raw files should end with raw.fif, raw_sss.fif, raw_tsss.fif, _meg.fif, _eeg.fif, _ieeg.fif, raw.fif.gz, raw_sss.fif.gz, raw_tsss.fif.gz, _meg.fif.gz, _eeg.fif.gz or _ieeg.fif.gz\n",
      "  raw = mne.io.read_raw_fif(full_path, preload=True)\n"
     ]
    },
    {
     "name": "stdout",
     "output_type": "stream",
     "text": [
      "Opening raw data file C:\\Users\\pablo\\Documents\\UNIVERSIDAD\\TFG\\eeg-during-mental-arithmetic-tasks-1.0.0\\eeg-during-mental-arithmetic-tasks-1.0.0\\pacientes_antes\\recortados\\Subject35_1_recortado.fif...\n",
      "Isotrak not found\n",
      "    Range : 0 ... 30999 =      0.000 ...    61.998 secs\n",
      "Ready.\n",
      "Reading 0 ... 30999  =      0.000 ...    61.998 secs...\n"
     ]
    },
    {
     "name": "stderr",
     "output_type": "stream",
     "text": [
      "C:\\Users\\pablo\\AppData\\Local\\Temp\\ipykernel_18512\\3399356611.py:17: RuntimeWarning: This filename (C:\\Users\\pablo\\Documents\\UNIVERSIDAD\\TFG\\eeg-during-mental-arithmetic-tasks-1.0.0\\eeg-during-mental-arithmetic-tasks-1.0.0\\pacientes_antes\\recortados\\Subject35_1_recortado.fif) does not conform to MNE naming conventions. All raw files should end with raw.fif, raw_sss.fif, raw_tsss.fif, _meg.fif, _eeg.fif, _ieeg.fif, raw.fif.gz, raw_sss.fif.gz, raw_tsss.fif.gz, _meg.fif.gz, _eeg.fif.gz or _ieeg.fif.gz\n",
      "  raw = mne.io.read_raw_fif(full_path, preload=True)\n"
     ]
    },
    {
     "name": "stdout",
     "output_type": "stream",
     "text": [
      "[0.7460454584916132, 0.3812229318490885, 0.3643597249197268, 0.7084053667008533, 0.9367926027365892, 0.991694177823574, 0.3349868834353689, 0.6072163905199989, 0.6862086329649258, 0.9885090191276656, 1.0450738275471039, 0.7037129067248759, 0.8253438416305888, 0.6467877336625982, 0.33568501562666836, 0.9030514547144627, 0.9000794894256386, 0.7228896335308294, 0.6265556041833672, 0.48900826797609104, 0.7568879448387319, 0.7400160679107314, 0.7330626365925589, 1.0818567319704333, 0.7524856980530575, 0.8514219561685238, 1.00135798328857, 0.7390513727729501, 0.7761215471725526, 0.8071140410909653, 0.7077173009565119, 0.6849255546944938, 0.163943981470748, 0.884187902703422, 0.18064708806531748, 0.6208293413095564]\n"
     ]
    }
   ],
   "source": [
    "import numpy as np\n",
    "import mne\n",
    "import nolds\n",
    "import glob\n",
    "import os\n",
    "from nolds import corr_dim\n",
    "\n",
    "path_before = \"subjects_before/cropped\"\n",
    "\n",
    "list_before = glob.glob(os.path.join(path_before, \"*.fif\"))\n",
    "names_before = [os.path.basename(file_before) for file_before in list_before]\n",
    "\n",
    "correlation_before = []\n",
    "\n",
    "for patient in names_before:\n",
    "    full_path = f\"{path_before}\\\\{patient}\"\n",
    "    raw = mne.io.read_raw_fif(full_path, preload=True)\n",
    "    data = raw.get_data()\n",
    "    \n",
    "    fs = raw.info['sfreq']  \n",
    "    segment_size = 1250\n",
    "    emb_dim = 16  \n",
    "    n_segments = len(data[15]) // segment_size  \n",
    "    \n",
    "    # Create fixed-length segments (epochs)\n",
    "    segments = [data[15][i * segment_size:(i + 1) * segment_size] for i in range(n_segments)]\n",
    "    \n",
    "    all_corr_dims = [corr_dim(seg, emb_dim=emb_dim) for seg in segments]\n",
    "    mean_D2 = np.mean(all_corr_dims)\n",
    "   \n",
    "    correlation_before.append(mean_D2)\n",
    "    \n",
    "print(correlation_before)\n"
   ]
  },
  {
   "cell_type": "markdown",
   "id": "e3c2d4dd-94f8-4c10-9e90-9815ae3f5a8e",
   "metadata": {},
   "source": [
    "## Save results for O2 channel BEFORE"
   ]
  },
  {
   "cell_type": "code",
   "execution_count": 3,
   "id": "cf17ad8c-f433-443d-9561-32fc065cd717",
   "metadata": {},
   "outputs": [
    {
     "name": "stdout",
     "output_type": "stream",
     "text": [
      "Results loaded from file.\n"
     ]
    }
   ],
   "source": [
    "import numpy as np\n",
    "import pickle\n",
    "import os\n",
    "\n",
    "save_path = 'correlation_dimension_before.pkl'\n",
    "\n",
    "if os.path.exists(save_path):\n",
    "    # Load saved results\n",
    "    with open(save_path, 'rb') as f:\n",
    "        correlation_before = pickle.load(f)\n",
    "    print(\"Results loaded from file.\")\n",
    "else:\n",
    "    \n",
    "    with open(save_path, 'wb') as f:\n",
    "        pickle.dump(correlation_before, f)\n",
    "    print(\"Results calculated and saved to file.\")"
   ]
  },
  {
   "cell_type": "markdown",
   "id": "df513860-61eb-4b27-b285-8ed0d8f63a27",
   "metadata": {},
   "source": [
    "## Shapiro-Wilk test"
   ]
  },
  {
   "cell_type": "code",
   "execution_count": 46,
   "id": "ad843735-642f-4164-a435-2a35395fcb03",
   "metadata": {},
   "outputs": [
    {
     "name": "stdout",
     "output_type": "stream",
     "text": [
      "The data follow a normal distribution: 0.0689074814041824\n"
     ]
    }
   ],
   "source": [
    "import os\n",
    "import glob\n",
    "import mne\n",
    "import pickle\n",
    "from scipy.stats import shapiro\n",
    "\n",
    "\n",
    "with open('correlation_dimension_before.pkl', 'rb') as f:\n",
    "    correlation_before = pickle.load(f)\n",
    "\n",
    "\n",
    "# Shapiro-Wilk test\n",
    "stat, p = shapiro(correlation_before)\n",
    "if p>0.05:\n",
    "    print(\"The data follow a normal distribution:\", p)\n",
    "\n",
    "else:\n",
    "    print(\"The data DO NOT follow a normal distribution:\", p)\n",
    "    "
   ]
  },
  {
   "cell_type": "markdown",
   "id": "958cf60f-daf6-4701-8bd9-7b0a5bbd668b",
   "metadata": {},
   "source": [
    "### Distribution of Correlation Dimension in O2 channel BEFORE"
   ]
  },
  {
   "cell_type": "code",
   "execution_count": 48,
   "id": "80505739-53ba-4082-98eb-12b9a0c23aad",
   "metadata": {},
   "outputs": [
    {
     "data": {
      "image/png": "[encoded data removed]",
      "text/plain": [
       "<Figure size 1000x600 with 1 Axes>"
      ]
     },
     "metadata": {},
     "output_type": "display_data"
    }
   ],
   "source": [
    "import pickle\n",
    "\n",
    "with open('correlation_dimension_before.pkl', 'rb') as f:\n",
    "    correlation_before = pickle.load(f)\n",
    "    \n",
    "plt.figure(figsize=(10, 6))\n",
    "plt.hist(correlation_before, bins=10, color='green', edgecolor='black', alpha=0.7)\n",
    "plt.xlabel('Correlation Dimension')\n",
    "plt.ylabel('Frecuency')\n",
    "plt.grid(axis='y', linestyle='--', alpha=0.7)\n",
    "plt.savefig(\"distribution_correlation_before.png\", dpi=300)  # Save figure\n",
    "plt.show()"
   ]
  },
  {
   "cell_type": "markdown",
   "id": "b8911438-960d-42f8-ac0d-61dbe3b800d5",
   "metadata": {},
   "source": [
    "# Correlation Dimension DURING in O2 channel"
   ]
  },
  {
   "cell_type": "code",
   "execution_count": 50,
   "id": "c454403e-5700-425c-85c0-1d8a0fce1373",
   "metadata": {
    "scrolled": true
   },
   "outputs": [
    {
     "name": "stdout",
     "output_type": "stream",
     "text": [
      "Extracting EDF parameters from C:\\Users\\pablo\\Documents\\UNIVERSIDAD\\TFG\\eeg-during-mental-arithmetic-tasks-1.0.0\\eeg-during-mental-arithmetic-tasks-1.0.0\\pacientes_durante\\Subject00_2.edf...\n",
      "EDF file detected\n",
      "Setting channel info structure...\n",
      "Creating raw.info structure...\n",
      "Reading 0 ... 30999  =      0.000 ...    61.998 secs...\n",
      "Extracting EDF parameters from C:\\Users\\pablo\\Documents\\UNIVERSIDAD\\TFG\\eeg-during-mental-arithmetic-tasks-1.0.0\\eeg-during-mental-arithmetic-tasks-1.0.0\\pacientes_durante\\Subject01_2.edf...\n",
      "EDF file detected\n",
      "Setting channel info structure...\n",
      "Creating raw.info structure...\n",
      "Reading 0 ... 30999  =      0.000 ...    61.998 secs...\n",
      "Extracting EDF parameters from C:\\Users\\pablo\\Documents\\UNIVERSIDAD\\TFG\\eeg-during-mental-arithmetic-tasks-1.0.0\\eeg-during-mental-arithmetic-tasks-1.0.0\\pacientes_durante\\Subject02_2.edf...\n",
      "EDF file detected\n",
      "Setting channel info structure...\n",
      "Creating raw.info structure...\n",
      "Reading 0 ... 30999  =      0.000 ...    61.998 secs...\n",
      "Extracting EDF parameters from C:\\Users\\pablo\\Documents\\UNIVERSIDAD\\TFG\\eeg-during-mental-arithmetic-tasks-1.0.0\\eeg-during-mental-arithmetic-tasks-1.0.0\\pacientes_durante\\Subject03_2.edf...\n",
      "EDF file detected\n",
      "Setting channel info structure...\n",
      "Creating raw.info structure...\n",
      "Reading 0 ... 30999  =      0.000 ...    61.998 secs...\n",
      "Extracting EDF parameters from C:\\Users\\pablo\\Documents\\UNIVERSIDAD\\TFG\\eeg-during-mental-arithmetic-tasks-1.0.0\\eeg-during-mental-arithmetic-tasks-1.0.0\\pacientes_durante\\Subject04_2.edf...\n",
      "EDF file detected\n",
      "Setting channel info structure...\n",
      "Creating raw.info structure...\n",
      "Reading 0 ... 30999  =      0.000 ...    61.998 secs...\n",
      "Extracting EDF parameters from C:\\Users\\pablo\\Documents\\UNIVERSIDAD\\TFG\\eeg-during-mental-arithmetic-tasks-1.0.0\\eeg-during-mental-arithmetic-tasks-1.0.0\\pacientes_durante\\Subject05_2.edf...\n",
      "EDF file detected\n",
      "Setting channel info structure...\n",
      "Creating raw.info structure...\n",
      "Reading 0 ... 30999  =      0.000 ...    61.998 secs...\n",
      "Extracting EDF parameters from C:\\Users\\pablo\\Documents\\UNIVERSIDAD\\TFG\\eeg-during-mental-arithmetic-tasks-1.0.0\\eeg-during-mental-arithmetic-tasks-1.0.0\\pacientes_durante\\Subject06_2.edf...\n",
      "EDF file detected\n",
      "Setting channel info structure...\n",
      "Creating raw.info structure...\n",
      "Reading 0 ... 30999  =      0.000 ...    61.998 secs...\n"
     ]
    },
    {
     "name": "stderr",
     "output_type": "stream",
     "text": [
      "C:\\Users\\pablo\\anaconda3\\Lib\\site-packages\\sklearn\\metrics\\_regression.py:1187: UndefinedMetricWarning: R^2 score is not well-defined with less than two samples.\n",
      "  warnings.warn(msg, UndefinedMetricWarning)\n"
     ]
    },
    {
     "name": "stdout",
     "output_type": "stream",
     "text": [
      "Extracting EDF parameters from C:\\Users\\pablo\\Documents\\UNIVERSIDAD\\TFG\\eeg-during-mental-arithmetic-tasks-1.0.0\\eeg-during-mental-arithmetic-tasks-1.0.0\\pacientes_durante\\Subject07_2.edf...\n",
      "EDF file detected\n",
      "Setting channel info structure...\n",
      "Creating raw.info structure...\n",
      "Reading 0 ... 30999  =      0.000 ...    61.998 secs...\n",
      "Extracting EDF parameters from C:\\Users\\pablo\\Documents\\UNIVERSIDAD\\TFG\\eeg-during-mental-arithmetic-tasks-1.0.0\\eeg-during-mental-arithmetic-tasks-1.0.0\\pacientes_durante\\Subject08_2.edf...\n",
      "EDF file detected\n",
      "Setting channel info structure...\n",
      "Creating raw.info structure...\n",
      "Reading 0 ... 30999  =      0.000 ...    61.998 secs...\n",
      "Extracting EDF parameters from C:\\Users\\pablo\\Documents\\UNIVERSIDAD\\TFG\\eeg-during-mental-arithmetic-tasks-1.0.0\\eeg-during-mental-arithmetic-tasks-1.0.0\\pacientes_durante\\Subject09_2.edf...\n",
      "EDF file detected\n",
      "Setting channel info structure...\n",
      "Creating raw.info structure...\n",
      "Reading 0 ... 30999  =      0.000 ...    61.998 secs...\n",
      "Extracting EDF parameters from C:\\Users\\pablo\\Documents\\UNIVERSIDAD\\TFG\\eeg-during-mental-arithmetic-tasks-1.0.0\\eeg-during-mental-arithmetic-tasks-1.0.0\\pacientes_durante\\Subject10_2.edf...\n",
      "EDF file detected\n",
      "Setting channel info structure...\n",
      "Creating raw.info structure...\n",
      "Reading 0 ... 30999  =      0.000 ...    61.998 secs...\n",
      "Extracting EDF parameters from C:\\Users\\pablo\\Documents\\UNIVERSIDAD\\TFG\\eeg-during-mental-arithmetic-tasks-1.0.0\\eeg-during-mental-arithmetic-tasks-1.0.0\\pacientes_durante\\Subject11_2.edf...\n",
      "EDF file detected\n",
      "Setting channel info structure...\n",
      "Creating raw.info structure...\n",
      "Reading 0 ... 30999  =      0.000 ...    61.998 secs...\n",
      "Extracting EDF parameters from C:\\Users\\pablo\\Documents\\UNIVERSIDAD\\TFG\\eeg-during-mental-arithmetic-tasks-1.0.0\\eeg-during-mental-arithmetic-tasks-1.0.0\\pacientes_durante\\Subject12_2.edf...\n",
      "EDF file detected\n",
      "Setting channel info structure...\n",
      "Creating raw.info structure...\n",
      "Reading 0 ... 30999  =      0.000 ...    61.998 secs...\n",
      "Extracting EDF parameters from C:\\Users\\pablo\\Documents\\UNIVERSIDAD\\TFG\\eeg-during-mental-arithmetic-tasks-1.0.0\\eeg-during-mental-arithmetic-tasks-1.0.0\\pacientes_durante\\Subject13_2.edf...\n",
      "EDF file detected\n",
      "Setting channel info structure...\n",
      "Creating raw.info structure...\n",
      "Reading 0 ... 30999  =      0.000 ...    61.998 secs...\n",
      "Extracting EDF parameters from C:\\Users\\pablo\\Documents\\UNIVERSIDAD\\TFG\\eeg-during-mental-arithmetic-tasks-1.0.0\\eeg-during-mental-arithmetic-tasks-1.0.0\\pacientes_durante\\Subject14_2.edf...\n",
      "EDF file detected\n",
      "Setting channel info structure...\n",
      "Creating raw.info structure...\n",
      "Reading 0 ... 30999  =      0.000 ...    61.998 secs...\n",
      "Extracting EDF parameters from C:\\Users\\pablo\\Documents\\UNIVERSIDAD\\TFG\\eeg-during-mental-arithmetic-tasks-1.0.0\\eeg-during-mental-arithmetic-tasks-1.0.0\\pacientes_durante\\Subject15_2.edf...\n",
      "EDF file detected\n",
      "Setting channel info structure...\n",
      "Creating raw.info structure...\n",
      "Reading 0 ... 30999  =      0.000 ...    61.998 secs...\n",
      "Extracting EDF parameters from C:\\Users\\pablo\\Documents\\UNIVERSIDAD\\TFG\\eeg-during-mental-arithmetic-tasks-1.0.0\\eeg-during-mental-arithmetic-tasks-1.0.0\\pacientes_durante\\Subject16_2.edf...\n",
      "EDF file detected\n",
      "Setting channel info structure...\n",
      "Creating raw.info structure...\n",
      "Reading 0 ... 30999  =      0.000 ...    61.998 secs...\n",
      "Extracting EDF parameters from C:\\Users\\pablo\\Documents\\UNIVERSIDAD\\TFG\\eeg-during-mental-arithmetic-tasks-1.0.0\\eeg-during-mental-arithmetic-tasks-1.0.0\\pacientes_durante\\Subject17_2.edf...\n",
      "EDF file detected\n",
      "Setting channel info structure...\n",
      "Creating raw.info structure...\n",
      "Reading 0 ... 30999  =      0.000 ...    61.998 secs...\n",
      "Extracting EDF parameters from C:\\Users\\pablo\\Documents\\UNIVERSIDAD\\TFG\\eeg-during-mental-arithmetic-tasks-1.0.0\\eeg-during-mental-arithmetic-tasks-1.0.0\\pacientes_durante\\Subject18_2.edf...\n",
      "EDF file detected\n",
      "Setting channel info structure...\n",
      "Creating raw.info structure...\n",
      "Reading 0 ... 30999  =      0.000 ...    61.998 secs...\n"
     ]
    },
    {
     "name": "stderr",
     "output_type": "stream",
     "text": [
      "C:\\Users\\pablo\\anaconda3\\Lib\\site-packages\\sklearn\\metrics\\_regression.py:1187: UndefinedMetricWarning: R^2 score is not well-defined with less than two samples.\n",
      "  warnings.warn(msg, UndefinedMetricWarning)\n"
     ]
    },
    {
     "name": "stdout",
     "output_type": "stream",
     "text": [
      "Extracting EDF parameters from C:\\Users\\pablo\\Documents\\UNIVERSIDAD\\TFG\\eeg-during-mental-arithmetic-tasks-1.0.0\\eeg-during-mental-arithmetic-tasks-1.0.0\\pacientes_durante\\Subject19_2.edf...\n",
      "EDF file detected\n",
      "Setting channel info structure...\n",
      "Creating raw.info structure...\n",
      "Reading 0 ... 30999  =      0.000 ...    61.998 secs...\n",
      "Extracting EDF parameters from C:\\Users\\pablo\\Documents\\UNIVERSIDAD\\TFG\\eeg-during-mental-arithmetic-tasks-1.0.0\\eeg-during-mental-arithmetic-tasks-1.0.0\\pacientes_durante\\Subject20_2.edf...\n",
      "EDF file detected\n",
      "Setting channel info structure...\n",
      "Creating raw.info structure...\n",
      "Reading 0 ... 30999  =      0.000 ...    61.998 secs...\n",
      "Extracting EDF parameters from C:\\Users\\pablo\\Documents\\UNIVERSIDAD\\TFG\\eeg-during-mental-arithmetic-tasks-1.0.0\\eeg-during-mental-arithmetic-tasks-1.0.0\\pacientes_durante\\Subject21_2.edf...\n",
      "EDF file detected\n",
      "Setting channel info structure...\n",
      "Creating raw.info structure...\n",
      "Reading 0 ... 30999  =      0.000 ...    61.998 secs...\n",
      "Extracting EDF parameters from C:\\Users\\pablo\\Documents\\UNIVERSIDAD\\TFG\\eeg-during-mental-arithmetic-tasks-1.0.0\\eeg-during-mental-arithmetic-tasks-1.0.0\\pacientes_durante\\Subject22_2.edf...\n",
      "EDF file detected\n",
      "Setting channel info structure...\n",
      "Creating raw.info structure...\n",
      "Reading 0 ... 30999  =      0.000 ...    61.998 secs...\n",
      "Extracting EDF parameters from C:\\Users\\pablo\\Documents\\UNIVERSIDAD\\TFG\\eeg-during-mental-arithmetic-tasks-1.0.0\\eeg-during-mental-arithmetic-tasks-1.0.0\\pacientes_durante\\Subject23_2.edf...\n",
      "EDF file detected\n",
      "Setting channel info structure...\n",
      "Creating raw.info structure...\n",
      "Reading 0 ... 30999  =      0.000 ...    61.998 secs...\n",
      "Extracting EDF parameters from C:\\Users\\pablo\\Documents\\UNIVERSIDAD\\TFG\\eeg-during-mental-arithmetic-tasks-1.0.0\\eeg-during-mental-arithmetic-tasks-1.0.0\\pacientes_durante\\Subject24_2.edf...\n",
      "EDF file detected\n",
      "Setting channel info structure...\n",
      "Creating raw.info structure...\n",
      "Reading 0 ... 30999  =      0.000 ...    61.998 secs...\n",
      "Extracting EDF parameters from C:\\Users\\pablo\\Documents\\UNIVERSIDAD\\TFG\\eeg-during-mental-arithmetic-tasks-1.0.0\\eeg-during-mental-arithmetic-tasks-1.0.0\\pacientes_durante\\Subject25_2.edf...\n",
      "EDF file detected\n",
      "Setting channel info structure...\n",
      "Creating raw.info structure...\n",
      "Reading 0 ... 30999  =      0.000 ...    61.998 secs...\n",
      "Extracting EDF parameters from C:\\Users\\pablo\\Documents\\UNIVERSIDAD\\TFG\\eeg-during-mental-arithmetic-tasks-1.0.0\\eeg-during-mental-arithmetic-tasks-1.0.0\\pacientes_durante\\Subject26_2.edf...\n",
      "EDF file detected\n",
      "Setting channel info structure...\n",
      "Creating raw.info structure...\n",
      "Reading 0 ... 30999  =      0.000 ...    61.998 secs...\n",
      "Extracting EDF parameters from C:\\Users\\pablo\\Documents\\UNIVERSIDAD\\TFG\\eeg-during-mental-arithmetic-tasks-1.0.0\\eeg-during-mental-arithmetic-tasks-1.0.0\\pacientes_durante\\Subject27_2.edf...\n",
      "EDF file detected\n",
      "Setting channel info structure...\n",
      "Creating raw.info structure...\n",
      "Reading 0 ... 30999  =      0.000 ...    61.998 secs...\n",
      "Extracting EDF parameters from C:\\Users\\pablo\\Documents\\UNIVERSIDAD\\TFG\\eeg-during-mental-arithmetic-tasks-1.0.0\\eeg-during-mental-arithmetic-tasks-1.0.0\\pacientes_durante\\Subject28_2.edf...\n",
      "EDF file detected\n",
      "Setting channel info structure...\n",
      "Creating raw.info structure...\n",
      "Reading 0 ... 30999  =      0.000 ...    61.998 secs...\n",
      "Extracting EDF parameters from C:\\Users\\pablo\\Documents\\UNIVERSIDAD\\TFG\\eeg-during-mental-arithmetic-tasks-1.0.0\\eeg-during-mental-arithmetic-tasks-1.0.0\\pacientes_durante\\Subject29_2.edf...\n",
      "EDF file detected\n",
      "Setting channel info structure...\n",
      "Creating raw.info structure...\n",
      "Reading 0 ... 30999  =      0.000 ...    61.998 secs...\n",
      "Extracting EDF parameters from C:\\Users\\pablo\\Documents\\UNIVERSIDAD\\TFG\\eeg-during-mental-arithmetic-tasks-1.0.0\\eeg-during-mental-arithmetic-tasks-1.0.0\\pacientes_durante\\Subject30_2.edf...\n",
      "EDF file detected\n",
      "Setting channel info structure...\n",
      "Creating raw.info structure...\n",
      "Reading 0 ... 30999  =      0.000 ...    61.998 secs...\n",
      "Extracting EDF parameters from C:\\Users\\pablo\\Documents\\UNIVERSIDAD\\TFG\\eeg-during-mental-arithmetic-tasks-1.0.0\\eeg-during-mental-arithmetic-tasks-1.0.0\\pacientes_durante\\Subject31_2.edf...\n",
      "EDF file detected\n",
      "Setting channel info structure...\n",
      "Creating raw.info structure...\n",
      "Reading 0 ... 30999  =      0.000 ...    61.998 secs...\n",
      "Extracting EDF parameters from C:\\Users\\pablo\\Documents\\UNIVERSIDAD\\TFG\\eeg-during-mental-arithmetic-tasks-1.0.0\\eeg-during-mental-arithmetic-tasks-1.0.0\\pacientes_durante\\Subject32_2.edf...\n",
      "EDF file detected\n",
      "Setting channel info structure...\n",
      "Creating raw.info structure...\n",
      "Reading 0 ... 30999  =      0.000 ...    61.998 secs...\n",
      "Extracting EDF parameters from C:\\Users\\pablo\\Documents\\UNIVERSIDAD\\TFG\\eeg-during-mental-arithmetic-tasks-1.0.0\\eeg-during-mental-arithmetic-tasks-1.0.0\\pacientes_durante\\Subject33_2.edf...\n",
      "EDF file detected\n",
      "Setting channel info structure...\n",
      "Creating raw.info structure...\n",
      "Reading 0 ... 30999  =      0.000 ...    61.998 secs...\n",
      "Extracting EDF parameters from C:\\Users\\pablo\\Documents\\UNIVERSIDAD\\TFG\\eeg-during-mental-arithmetic-tasks-1.0.0\\eeg-during-mental-arithmetic-tasks-1.0.0\\pacientes_durante\\Subject34_2.edf...\n",
      "EDF file detected\n",
      "Setting channel info structure...\n",
      "Creating raw.info structure...\n",
      "Reading 0 ... 30999  =      0.000 ...    61.998 secs...\n"
     ]
    },
    {
     "name": "stderr",
     "output_type": "stream",
     "text": [
      "C:\\Users\\pablo\\anaconda3\\Lib\\site-packages\\sklearn\\metrics\\_regression.py:1187: UndefinedMetricWarning: R^2 score is not well-defined with less than two samples.\n",
      "  warnings.warn(msg, UndefinedMetricWarning)\n"
     ]
    },
    {
     "name": "stdout",
     "output_type": "stream",
     "text": [
      "Extracting EDF parameters from C:\\Users\\pablo\\Documents\\UNIVERSIDAD\\TFG\\eeg-during-mental-arithmetic-tasks-1.0.0\\eeg-during-mental-arithmetic-tasks-1.0.0\\pacientes_durante\\Subject35_2.edf...\n",
      "EDF file detected\n",
      "Setting channel info structure...\n",
      "Creating raw.info structure...\n",
      "Reading 0 ... 30999  =      0.000 ...    61.998 secs...\n",
      "[0.5824006707840134, 0.7084419709470801, 0.16334427253545333, 0.7744583916474234, 0.6569466358177523, 0.8228520756760479, 0.13406510140103536, 0.6643643156255762, 0.7272565170343, 0.7692427317175937, 0.8829507801202293, 0.4744182403026889, 0.7452076579233003, 0.9255457092103064, 0.697338860616794, 0.7814390035247255, 0.5715279102678541, 0.6114471855534057, 0.3813180385676777, 0.2542311104560474, 0.9409002316175902, 0.6435427561095126, 0.8534646019057667, 0.9947124541980834, 0.3493543421532323, 0.9690157606904247, 0.9539297954185391, 0.487750378131538, 0.5805128536175994, 0.6426304443195164, 0.5257075586846717, 0.5837516175271152, 0.07452824221995563, 0.568402667698258, 0.06424048377290746, 0.10017813907984581]\n"
     ]
    }
   ],
   "source": [
    "import mne\n",
    "import glob\n",
    "import os\n",
    "\n",
    "path_during = \"subjects_during\"\n",
    "\n",
    "list_during = glob.glob(os.path.join(path_during, \"*.edf\"))\n",
    "names_during = [os.path.basename(file_during) for file_during in list_during]\n",
    "\n",
    "correlation_during = []\n",
    "\n",
    "for patient in names_during:\n",
    "    \n",
    "    full_path = f\"{path_during}\\\\{patient}\"\n",
    "    raw = mne.io.read_raw_edf(full_path, preload=True)\n",
    "    data = raw.get_data()\n",
    "    channel = data[15]  \n",
    "\n",
    "    fs = raw.info['sfreq']  \n",
    "    segment_size = 1250\n",
    "    emb_dim = 16 \n",
    "    n_segments = len(data[15]) // segment_size  \n",
    "    \n",
    "    # Create fixed-length segments (epochs)\n",
    "    segments = [data[15][i * segment_size:(i + 1) * segment_size] for i in range(n_segments)]\n",
    "    \n",
    "    all_corr_dims = [corr_dim(seg, emb_dim=emb_dim) for seg in segments]\n",
    "    mean_D2 = np.mean(all_corr_dims)\n",
    "       \n",
    "    correlation_during.append(mean_D2)\n",
    "    \n",
    "print(correlation_during)\n"
   ]
  },
  {
   "cell_type": "markdown",
   "id": "6772052e-6a6d-44c6-b69a-6c4b076b8226",
   "metadata": {},
   "source": [
    "## Save results for O2 channel DURING"
   ]
  },
  {
   "cell_type": "code",
   "execution_count": 53,
   "id": "d6a8944e-72e6-4bf4-bc4a-a1af0a57e010",
   "metadata": {},
   "outputs": [
    {
     "name": "stdout",
     "output_type": "stream",
     "text": [
      "Results loaded from file.\n"
     ]
    }
   ],
   "source": [
    "import numpy as np\n",
    "import pickle\n",
    "import os\n",
    "\n",
    "save_path = 'correlation_dimension_during.pkl'\n",
    "\n",
    "if os.path.exists(save_path):\n",
    "    # Load saved results\n",
    "    with open(save_path, 'rb') as f:\n",
    "        correlation_during = pickle.load(f)\n",
    "    print(\"Results loaded from file.\")\n",
    "else:\n",
    "    with open(save_path, 'wb') as f:\n",
    "        pickle.dump(correlation_during, f)\n",
    "    print(\"Results calculated and saved to file.\")"
   ]
  },
  {
   "cell_type": "markdown",
   "id": "9a9628c7-7632-4d5a-a944-636c81cc84bc",
   "metadata": {},
   "source": [
    "## Shapiro-Wilk test"
   ]
  },
  {
   "cell_type": "code",
   "execution_count": 56,
   "id": "62b4794f-6fe4-4499-910b-ca0a6028d3f6",
   "metadata": {},
   "outputs": [
    {
     "name": "stdout",
     "output_type": "stream",
     "text": [
      "The data DO NOT follow a normal distribution: 0.03443387012876366\n"
     ]
    }
   ],
   "source": [
    "import os\n",
    "import glob\n",
    "import mne\n",
    "import matplotlib.pyplot as plt\n",
    "from scipy.stats import shapiro\n",
    "\n",
    "\n",
    "with open('correlation_dimension_during.pkl', 'rb') as f:\n",
    "    correlation_during = pickle.load(f)\n",
    "\n",
    "# Shapiro-Wilk test\n",
    "stat, p = shapiro(correlation_during)\n",
    "if p>0.05:\n",
    "    print(\"The data follow a normal distribution:\", p)\n",
    "\n",
    "else:\n",
    "    print(\"The data DO NOT follow a normal distribution:\", p)\n",
    "    "
   ]
  },
  {
   "cell_type": "markdown",
   "id": "ba5de442-2060-4176-9104-73f15fd24e37",
   "metadata": {},
   "source": [
    "### Distribution of Correlation Dimension in O2 channel DURING"
   ]
  },
  {
   "cell_type": "code",
   "execution_count": 11,
   "id": "a23359a0-c2a8-4205-b690-80e69465db88",
   "metadata": {},
   "outputs": [
    {
     "data": {
      "image/png": "[encoded data removed]",
      "text/plain": [
       "<Figure size 1000x600 with 1 Axes>"
      ]
     },
     "metadata": {},
     "output_type": "display_data"
    }
   ],
   "source": [
    "with open('correlation_dimension_during.pkl', 'rb') as f:\n",
    "    correlation_during = pickle.load(f)\n",
    "    \n",
    "plt.figure(figsize=(10, 6))\n",
    "plt.hist(correlation_during, bins=10, color='blue', edgecolor='black', alpha=0.7)\n",
    "plt.xlabel('Correlation Dimension')\n",
    "plt.ylabel('Frecuency')\n",
    "plt.grid(axis='y', linestyle='--', alpha=0.7)\n",
    "plt.ylim(0, 12.5)\n",
    "plt.savefig(\"distribution_correlation_bduring.png\", dpi=300)  # Save figure\n",
    "plt.show()"
   ]
  },
  {
   "cell_type": "markdown",
   "id": "9f9f954e-b87c-42ad-bc48-2274a9b09198",
   "metadata": {},
   "source": [
    "# Comparison"
   ]
  },
  {
   "cell_type": "markdown",
   "id": "fe500121-7797-42c1-a89f-9803c6c43ca7",
   "metadata": {},
   "source": [
    "## Wilcoxon signed-rank test"
   ]
  },
  {
   "cell_type": "code",
   "execution_count": 63,
   "id": "6aa3e4d2-007d-4ce8-90e0-1b05f173900f",
   "metadata": {},
   "outputs": [
    {
     "name": "stdout",
     "output_type": "stream",
     "text": [
      "Stat: 153.0000, p-value: 0.00390236361999996\n",
      "There is a significant difference between the groups.\n"
     ]
    }
   ],
   "source": [
    "import numpy as np\n",
    "from scipy.stats import wilcoxon\n",
    "\n",
    "stat, p = wilcoxon(correlation_before, correlation_during)\n",
    "\n",
    "print(f\"Stat: {stat:.4f}, p-value: {p}\")\n",
    "if p < 0.05:\n",
    "    print(\"There is a significant difference between the groups.\")\n",
    "else:\n",
    "    print(\"There is NO significant difference between the groups.\")"
   ]
  },
  {
   "cell_type": "markdown",
   "id": "7c79284c-b816-409c-b934-f5b2d49f199f",
   "metadata": {},
   "source": [
    "## Box plots"
   ]
  },
  {
   "cell_type": "code",
   "execution_count": 65,
   "id": "15213eb0-d2f6-47ab-b214-cb0145a2e1f3",
   "metadata": {},
   "outputs": [
    {
     "data": {
      "image/png": "[encoded data removed]",
      "text/plain": [
       "<Figure size 800x600 with 1 Axes>"
      ]
     },
     "metadata": {},
     "output_type": "display_data"
    }
   ],
   "source": [
    "import matplotlib.pyplot as plt\n",
    "\n",
    "plt.figure(figsize=(8, 6))\n",
    "plt.boxplot([correlation_before, correlation_during],\n",
    "            labels=[\"Before\", \"During\"],\n",
    "            patch_artist=True,\n",
    "            medianprops={\"color\": \"black\"})\n",
    "\n",
    "plt.ylabel(\"Correlation Dimension\")\n",
    "plt.grid(True, linestyle=\"--\", alpha=0.5)\n",
    "plt.savefig(\"boxplot_correlation.png\", dpi=300)  # Save figure\n",
    "\n",
    "plt.show()"
   ]
  },
  {
   "cell_type": "markdown",
   "id": "c7fd09cc-0eae-4ee5-90be-7f853c107384",
   "metadata": {},
   "source": [
    "# Mutual Dimension for channel O2 (before-during)"
   ]
  },
  {
   "cell_type": "code",
   "execution_count": 73,
   "id": "cf43f14b-00cc-4d08-9061-2a22cf560d53",
   "metadata": {},
   "outputs": [],
   "source": [
    "import numpy as np\n",
    "import nolds\n",
    "import mne\n",
    "from nolds import corr_dim\n",
    "\n",
    "def mutual_dimension(file_path_1, file_path_2, emb_dim=32): \n",
    "\n",
    "    raw1 = mne.io.read_raw_fif(file_path_1, preload=True)\n",
    "    raw2 = mne.io.read_raw_edf(file_path_2, preload=True)\n",
    "\n",
    "    data1 = raw1.get_data()\n",
    "    data2 = raw2.get_data()\n",
    "\n",
    "    channel1 = data1[15]\n",
    "    channel2 = data2[15]\n",
    "\n",
    "    segment_size = 1250\n",
    "\n",
    "    n_segments1 = len(channel1) // segment_size\n",
    "    segments1 = [channel1[i * segment_size:(i + 1) * segment_size] for i in range(n_segments1)]\n",
    "    dim_corr_all1 = [corr_dim(seg1, emb_dim=emb_dim) for seg1 in segments1]\n",
    "    d2_x = np.mean(dim_corr_all1)\n",
    "\n",
    "    n_segments2 = len(channel2) // segment_size\n",
    "    segments2 = [channel2[i * segment_size:(i + 1) * segment_size] for i in range(n_segments2)]\n",
    "    dim_corr_all2 = [corr_dim(seg2, emb_dim=emb_dim) for seg2 in segments2]\n",
    "    d2_y = np.mean(dim_corr_all2)\n",
    "\n",
    "    # Combined signal\n",
    "    combined_data = np.vstack([segments1, segments2])\n",
    "    dim_corr_all = [corr_dim(seg, emb_dim=emb_dim) for seg in combined_data]\n",
    "    d2_xy = np.mean(dim_corr_all)\n",
    "    \n",
    "    # Calculation of mutual dimension\n",
    "    mutual_dim = d2_x + d2_y - d2_xy\n",
    "\n",
    "    print(\"Correlation dimension X:\", d2_x)\n",
    "    print(\"Correlation dimension Y:\", d2_y)\n",
    "    print(\"Joint correlation dimension XY:\", d2_xy)\n",
    "    print(\"Mutual dimension:\", mutual_dim)\n",
    "\n",
    "    return mutual_dim"
   ]
  },
  {
   "cell_type": "markdown",
   "id": "39b08974-696d-4b00-a8ac-276f6fa50835",
   "metadata": {},
   "source": [
    "### For a subject"
   ]
  },
  {
   "cell_type": "code",
   "execution_count": 75,
   "id": "2c352828-fdf9-4642-b000-7e73f772aa84",
   "metadata": {},
   "outputs": [
    {
     "name": "stdout",
     "output_type": "stream",
     "text": [
      "Opening raw data file C:\\Users\\pablo\\Documents\\UNIVERSIDAD\\TFG\\eeg-during-mental-arithmetic-tasks-1.0.0\\eeg-during-mental-arithmetic-tasks-1.0.0\\pacientes_antes\\recortados\\Subject03_1_recortado.fif...\n",
      "Isotrak not found\n",
      "    Range : 0 ... 30999 =      0.000 ...    61.998 secs\n",
      "Ready.\n",
      "Reading 0 ... 30999  =      0.000 ...    61.998 secs...\n",
      "Extracting EDF parameters from C:\\Users\\pablo\\Documents\\UNIVERSIDAD\\TFG\\eeg-during-mental-arithmetic-tasks-1.0.0\\eeg-during-mental-arithmetic-tasks-1.0.0\\pacientes_durante\\Subject03_2.edf...\n",
      "EDF file detected\n",
      "Setting channel info structure...\n",
      "Creating raw.info structure...\n",
      "Reading 0 ... 30999  =      0.000 ...    61.998 secs...\n"
     ]
    },
    {
     "name": "stderr",
     "output_type": "stream",
     "text": [
      "C:\\Users\\pablo\\AppData\\Local\\Temp\\ipykernel_18512\\2716403607.py:8: RuntimeWarning: This filename (C:\\Users\\pablo\\Documents\\UNIVERSIDAD\\TFG\\eeg-during-mental-arithmetic-tasks-1.0.0\\eeg-during-mental-arithmetic-tasks-1.0.0\\pacientes_antes\\recortados\\Subject03_1_recortado.fif) does not conform to MNE naming conventions. All raw files should end with raw.fif, raw_sss.fif, raw_tsss.fif, _meg.fif, _eeg.fif, _ieeg.fif, raw.fif.gz, raw_sss.fif.gz, raw_tsss.fif.gz, _meg.fif.gz, _eeg.fif.gz or _ieeg.fif.gz\n",
      "  raw1 = mne.io.read_raw_fif(file_path_1, preload=True)\n",
      "C:\\Users\\pablo\\anaconda3\\Lib\\site-packages\\sklearn\\metrics\\_regression.py:1187: UndefinedMetricWarning: R^2 score is not well-defined with less than two samples.\n",
      "  warnings.warn(msg, UndefinedMetricWarning)\n",
      "C:\\Users\\pablo\\anaconda3\\Lib\\site-packages\\sklearn\\metrics\\_regression.py:1187: UndefinedMetricWarning: R^2 score is not well-defined with less than two samples.\n",
      "  warnings.warn(msg, UndefinedMetricWarning)\n",
      "C:\\Users\\pablo\\anaconda3\\Lib\\site-packages\\sklearn\\metrics\\_regression.py:1187: UndefinedMetricWarning: R^2 score is not well-defined with less than two samples.\n",
      "  warnings.warn(msg, UndefinedMetricWarning)\n",
      "C:\\Users\\pablo\\anaconda3\\Lib\\site-packages\\sklearn\\metrics\\_regression.py:1187: UndefinedMetricWarning: R^2 score is not well-defined with less than two samples.\n",
      "  warnings.warn(msg, UndefinedMetricWarning)\n"
     ]
    },
    {
     "name": "stdout",
     "output_type": "stream",
     "text": [
      "Correlation dimension X: 0.02188749420820917\n",
      "Correlation dimension Y: 0.0713370182688155\n",
      "Joint correlation dimension XY: 0.04683162637207489\n",
      "Mutual dimension: 0.04639288610494977\n",
      "0.04639288610494977\n"
     ]
    },
    {
     "name": "stderr",
     "output_type": "stream",
     "text": [
      "C:\\Users\\pablo\\anaconda3\\Lib\\site-packages\\sklearn\\metrics\\_regression.py:1187: UndefinedMetricWarning: R^2 score is not well-defined with less than two samples.\n",
      "  warnings.warn(msg, UndefinedMetricWarning)\n"
     ]
    }
   ],
   "source": [
    "path_before = \"subjects_before/cropped/Subject03_1_cropped.fif\"\n",
    "path_during = \"subjects_during/Subject03_2.edf\"\n",
    "\n",
    "results = mutual_dimension(path_before, path_during)\n",
    "print(results)"
   ]
  },
  {
   "cell_type": "markdown",
   "id": "cfaa7f77-ba8c-49c5-b28f-3205252a343d",
   "metadata": {},
   "source": [
    "## For every subject"
   ]
  },
  {
   "cell_type": "code",
   "execution_count": 81,
   "id": "6ad478bf-4a08-4427-bfa6-d4fac59ae38a",
   "metadata": {
    "scrolled": true
   },
   "outputs": [
    {
     "name": "stdout",
     "output_type": "stream",
     "text": [
      "Processing patient: Subject00\n",
      "Opening raw data file C:\\Users\\pablo\\Documents\\UNIVERSIDAD\\TFG\\eeg-during-mental-arithmetic-tasks-1.0.0\\eeg-during-mental-arithmetic-tasks-1.0.0\\pacientes_antes\\recortados\\Subject00_1_recortado.fif...\n",
      "Isotrak not found\n",
      "    Range : 0 ... 30999 =      0.000 ...    61.998 secs\n",
      "Ready.\n",
      "Reading 0 ... 30999  =      0.000 ...    61.998 secs...\n",
      "Extracting EDF parameters from C:\\Users\\pablo\\Documents\\UNIVERSIDAD\\TFG\\eeg-during-mental-arithmetic-tasks-1.0.0\\eeg-during-mental-arithmetic-tasks-1.0.0\\pacientes_durante\\Subject00_2.edf...\n",
      "EDF file detected\n",
      "Setting channel info structure...\n",
      "Creating raw.info structure...\n",
      "Reading 0 ... 30999  =      0.000 ...    61.998 secs...\n"
     ]
    },
    {
     "name": "stderr",
     "output_type": "stream",
     "text": [
      "C:\\Users\\pablo\\AppData\\Local\\Temp\\ipykernel_18512\\2716403607.py:8: RuntimeWarning: This filename (C:\\Users\\pablo\\Documents\\UNIVERSIDAD\\TFG\\eeg-during-mental-arithmetic-tasks-1.0.0\\eeg-during-mental-arithmetic-tasks-1.0.0\\pacientes_antes\\recortados\\Subject00_1_recortado.fif) does not conform to MNE naming conventions. All raw files should end with raw.fif, raw_sss.fif, raw_tsss.fif, _meg.fif, _eeg.fif, _ieeg.fif, raw.fif.gz, raw_sss.fif.gz, raw_tsss.fif.gz, _meg.fif.gz, _eeg.fif.gz or _ieeg.fif.gz\n",
      "  raw1 = mne.io.read_raw_fif(file_path_1, preload=True)\n",
      "C:\\Users\\pablo\\anaconda3\\Lib\\site-packages\\sklearn\\metrics\\_regression.py:1187: UndefinedMetricWarning: R^2 score is not well-defined with less than two samples.\n",
      "  warnings.warn(msg, UndefinedMetricWarning)\n",
      "C:\\Users\\pablo\\anaconda3\\Lib\\site-packages\\sklearn\\metrics\\_regression.py:1187: UndefinedMetricWarning: R^2 score is not well-defined with less than two samples.\n",
      "  warnings.warn(msg, UndefinedMetricWarning)\n",
      "C:\\Users\\pablo\\anaconda3\\Lib\\site-packages\\sklearn\\metrics\\_regression.py:1187: UndefinedMetricWarning: R^2 score is not well-defined with less than two samples.\n",
      "  warnings.warn(msg, UndefinedMetricWarning)\n",
      "C:\\Users\\pablo\\anaconda3\\Lib\\site-packages\\sklearn\\metrics\\_regression.py:1187: UndefinedMetricWarning: R^2 score is not well-defined with less than two samples.\n",
      "  warnings.warn(msg, UndefinedMetricWarning)\n"
     ]
    },
    {
     "name": "stdout",
     "output_type": "stream",
     "text": [
      "Correlation dimension X: 0.08511299389526616\n",
      "Correlation dimension Y: 0.04467185638969214\n",
      "Joint correlation dimension XY: 0.06325560404419346\n",
      "Mutual dimension: 0.06652924624076485\n",
      "Processing patient: Subject01\n",
      "Opening raw data file C:\\Users\\pablo\\Documents\\UNIVERSIDAD\\TFG\\eeg-during-mental-arithmetic-tasks-1.0.0\\eeg-during-mental-arithmetic-tasks-1.0.0\\pacientes_antes\\recortados\\Subject01_1_recortado.fif...\n",
      "Isotrak not found\n",
      "    Range : 0 ... 30999 =      0.000 ...    61.998 secs\n",
      "Ready.\n",
      "Reading 0 ... 30999  =      0.000 ...    61.998 secs...\n",
      "Extracting EDF parameters from C:\\Users\\pablo\\Documents\\UNIVERSIDAD\\TFG\\eeg-during-mental-arithmetic-tasks-1.0.0\\eeg-during-mental-arithmetic-tasks-1.0.0\\pacientes_durante\\Subject01_2.edf...\n",
      "EDF file detected\n",
      "Setting channel info structure...\n",
      "Creating raw.info structure...\n",
      "Reading 0 ... 30999  =      0.000 ...    61.998 secs...\n"
     ]
    },
    {
     "name": "stderr",
     "output_type": "stream",
     "text": [
      "C:\\Users\\pablo\\AppData\\Local\\Temp\\ipykernel_18512\\2716403607.py:8: RuntimeWarning: This filename (C:\\Users\\pablo\\Documents\\UNIVERSIDAD\\TFG\\eeg-during-mental-arithmetic-tasks-1.0.0\\eeg-during-mental-arithmetic-tasks-1.0.0\\pacientes_antes\\recortados\\Subject01_1_recortado.fif) does not conform to MNE naming conventions. All raw files should end with raw.fif, raw_sss.fif, raw_tsss.fif, _meg.fif, _eeg.fif, _ieeg.fif, raw.fif.gz, raw_sss.fif.gz, raw_tsss.fif.gz, _meg.fif.gz, _eeg.fif.gz or _ieeg.fif.gz\n",
      "  raw1 = mne.io.read_raw_fif(file_path_1, preload=True)\n",
      "C:\\Users\\pablo\\anaconda3\\Lib\\site-packages\\sklearn\\metrics\\_regression.py:1187: UndefinedMetricWarning: R^2 score is not well-defined with less than two samples.\n",
      "  warnings.warn(msg, UndefinedMetricWarning)\n",
      "C:\\Users\\pablo\\anaconda3\\Lib\\site-packages\\sklearn\\metrics\\_regression.py:1187: UndefinedMetricWarning: R^2 score is not well-defined with less than two samples.\n",
      "  warnings.warn(msg, UndefinedMetricWarning)\n",
      "C:\\Users\\pablo\\anaconda3\\Lib\\site-packages\\sklearn\\metrics\\_regression.py:1187: UndefinedMetricWarning: R^2 score is not well-defined with less than two samples.\n",
      "  warnings.warn(msg, UndefinedMetricWarning)\n"
     ]
    },
    {
     "name": "stdout",
     "output_type": "stream",
     "text": [
      "Correlation dimension X: 0.023995492295006245\n",
      "Correlation dimension Y: 0.14292465383060673\n",
      "Joint correlation dimension XY: 0.0811780135566653\n",
      "Mutual dimension: 0.08574213256894768\n",
      "Processing patient: Subject02\n",
      "Opening raw data file C:\\Users\\pablo\\Documents\\UNIVERSIDAD\\TFG\\eeg-during-mental-arithmetic-tasks-1.0.0\\eeg-during-mental-arithmetic-tasks-1.0.0\\pacientes_antes\\recortados\\Subject02_1_recortado.fif...\n",
      "Isotrak not found\n",
      "    Range : 0 ... 30999 =      0.000 ...    61.998 secs\n",
      "Ready.\n",
      "Reading 0 ... 30999  =      0.000 ...    61.998 secs...\n",
      "Extracting EDF parameters from C:\\Users\\pablo\\Documents\\UNIVERSIDAD\\TFG\\eeg-during-mental-arithmetic-tasks-1.0.0\\eeg-during-mental-arithmetic-tasks-1.0.0\\pacientes_durante\\Subject02_2.edf...\n",
      "EDF file detected\n",
      "Setting channel info structure...\n",
      "Creating raw.info structure...\n",
      "Reading 0 ... 30999  =      0.000 ...    61.998 secs...\n"
     ]
    },
    {
     "name": "stderr",
     "output_type": "stream",
     "text": [
      "C:\\Users\\pablo\\AppData\\Local\\Temp\\ipykernel_18512\\2716403607.py:8: RuntimeWarning: This filename (C:\\Users\\pablo\\Documents\\UNIVERSIDAD\\TFG\\eeg-during-mental-arithmetic-tasks-1.0.0\\eeg-during-mental-arithmetic-tasks-1.0.0\\pacientes_antes\\recortados\\Subject02_1_recortado.fif) does not conform to MNE naming conventions. All raw files should end with raw.fif, raw_sss.fif, raw_tsss.fif, _meg.fif, _eeg.fif, _ieeg.fif, raw.fif.gz, raw_sss.fif.gz, raw_tsss.fif.gz, _meg.fif.gz, _eeg.fif.gz or _ieeg.fif.gz\n",
      "  raw1 = mne.io.read_raw_fif(file_path_1, preload=True)\n",
      "C:\\Users\\pablo\\anaconda3\\Lib\\site-packages\\sklearn\\metrics\\_regression.py:1187: UndefinedMetricWarning: R^2 score is not well-defined with less than two samples.\n",
      "  warnings.warn(msg, UndefinedMetricWarning)\n",
      "C:\\Users\\pablo\\anaconda3\\Lib\\site-packages\\sklearn\\metrics\\_regression.py:1187: UndefinedMetricWarning: R^2 score is not well-defined with less than two samples.\n",
      "  warnings.warn(msg, UndefinedMetricWarning)\n",
      "C:\\Users\\pablo\\anaconda3\\Lib\\site-packages\\sklearn\\metrics\\_regression.py:1187: UndefinedMetricWarning: R^2 score is not well-defined with less than two samples.\n",
      "  warnings.warn(msg, UndefinedMetricWarning)\n",
      "C:\\Users\\pablo\\anaconda3\\Lib\\site-packages\\sklearn\\metrics\\_regression.py:1187: UndefinedMetricWarning: R^2 score is not well-defined with less than two samples.\n",
      "  warnings.warn(msg, UndefinedMetricWarning)\n"
     ]
    },
    {
     "name": "stdout",
     "output_type": "stream",
     "text": [
      "Correlation dimension X: 0.007400394209693332\n",
      "Correlation dimension Y: 0.0015999844246864581\n",
      "Joint correlation dimension XY: 0.004549433510197132\n",
      "Mutual dimension: 0.004450945124182658\n",
      "Processing patient: Subject03\n",
      "Opening raw data file C:\\Users\\pablo\\Documents\\UNIVERSIDAD\\TFG\\eeg-during-mental-arithmetic-tasks-1.0.0\\eeg-during-mental-arithmetic-tasks-1.0.0\\pacientes_antes\\recortados\\Subject03_1_recortado.fif...\n",
      "Isotrak not found\n",
      "    Range : 0 ... 30999 =      0.000 ...    61.998 secs\n",
      "Ready.\n",
      "Reading 0 ... 30999  =      0.000 ...    61.998 secs...\n",
      "Extracting EDF parameters from C:\\Users\\pablo\\Documents\\UNIVERSIDAD\\TFG\\eeg-during-mental-arithmetic-tasks-1.0.0\\eeg-during-mental-arithmetic-tasks-1.0.0\\pacientes_durante\\Subject03_2.edf...\n",
      "EDF file detected\n",
      "Setting channel info structure...\n",
      "Creating raw.info structure...\n",
      "Reading 0 ... 30999  =      0.000 ...    61.998 secs...\n"
     ]
    },
    {
     "name": "stderr",
     "output_type": "stream",
     "text": [
      "C:\\Users\\pablo\\AppData\\Local\\Temp\\ipykernel_18512\\2716403607.py:8: RuntimeWarning: This filename (C:\\Users\\pablo\\Documents\\UNIVERSIDAD\\TFG\\eeg-during-mental-arithmetic-tasks-1.0.0\\eeg-during-mental-arithmetic-tasks-1.0.0\\pacientes_antes\\recortados\\Subject03_1_recortado.fif) does not conform to MNE naming conventions. All raw files should end with raw.fif, raw_sss.fif, raw_tsss.fif, _meg.fif, _eeg.fif, _ieeg.fif, raw.fif.gz, raw_sss.fif.gz, raw_tsss.fif.gz, _meg.fif.gz, _eeg.fif.gz or _ieeg.fif.gz\n",
      "  raw1 = mne.io.read_raw_fif(file_path_1, preload=True)\n",
      "C:\\Users\\pablo\\anaconda3\\Lib\\site-packages\\sklearn\\metrics\\_regression.py:1187: UndefinedMetricWarning: R^2 score is not well-defined with less than two samples.\n",
      "  warnings.warn(msg, UndefinedMetricWarning)\n",
      "C:\\Users\\pablo\\anaconda3\\Lib\\site-packages\\sklearn\\metrics\\_regression.py:1187: UndefinedMetricWarning: R^2 score is not well-defined with less than two samples.\n",
      "  warnings.warn(msg, UndefinedMetricWarning)\n",
      "C:\\Users\\pablo\\anaconda3\\Lib\\site-packages\\sklearn\\metrics\\_regression.py:1187: UndefinedMetricWarning: R^2 score is not well-defined with less than two samples.\n",
      "  warnings.warn(msg, UndefinedMetricWarning)\n",
      "C:\\Users\\pablo\\anaconda3\\Lib\\site-packages\\sklearn\\metrics\\_regression.py:1187: UndefinedMetricWarning: R^2 score is not well-defined with less than two samples.\n",
      "  warnings.warn(msg, UndefinedMetricWarning)\n",
      "C:\\Users\\pablo\\anaconda3\\Lib\\site-packages\\sklearn\\metrics\\_regression.py:1187: UndefinedMetricWarning: R^2 score is not well-defined with less than two samples.\n",
      "  warnings.warn(msg, UndefinedMetricWarning)\n",
      "C:\\Users\\pablo\\anaconda3\\Lib\\site-packages\\sklearn\\metrics\\_regression.py:1187: UndefinedMetricWarning: R^2 score is not well-defined with less than two samples.\n",
      "  warnings.warn(msg, UndefinedMetricWarning)\n",
      "C:\\Users\\pablo\\anaconda3\\Lib\\site-packages\\sklearn\\metrics\\_regression.py:1187: UndefinedMetricWarning: R^2 score is not well-defined with less than two samples.\n",
      "  warnings.warn(msg, UndefinedMetricWarning)\n"
     ]
    },
    {
     "name": "stdout",
     "output_type": "stream",
     "text": [
      "Correlation dimension X: 0.021065195439919155\n",
      "Correlation dimension Y: 0.07911503663578777\n",
      "Joint correlation dimension XY: 0.047325800941802665\n",
      "Mutual dimension: 0.052854431133904256\n",
      "Processing patient: Subject04\n",
      "Opening raw data file C:\\Users\\pablo\\Documents\\UNIVERSIDAD\\TFG\\eeg-during-mental-arithmetic-tasks-1.0.0\\eeg-during-mental-arithmetic-tasks-1.0.0\\pacientes_antes\\recortados\\Subject04_1_recortado.fif...\n",
      "Isotrak not found\n",
      "    Range : 0 ... 30999 =      0.000 ...    61.998 secs\n",
      "Ready.\n",
      "Reading 0 ... 30999  =      0.000 ...    61.998 secs...\n",
      "Extracting EDF parameters from C:\\Users\\pablo\\Documents\\UNIVERSIDAD\\TFG\\eeg-during-mental-arithmetic-tasks-1.0.0\\eeg-during-mental-arithmetic-tasks-1.0.0\\pacientes_durante\\Subject04_2.edf...\n",
      "EDF file detected\n",
      "Setting channel info structure...\n",
      "Creating raw.info structure...\n",
      "Reading 0 ... 30999  =      0.000 ...    61.998 secs...\n"
     ]
    },
    {
     "name": "stderr",
     "output_type": "stream",
     "text": [
      "C:\\Users\\pablo\\AppData\\Local\\Temp\\ipykernel_18512\\2716403607.py:8: RuntimeWarning: This filename (C:\\Users\\pablo\\Documents\\UNIVERSIDAD\\TFG\\eeg-during-mental-arithmetic-tasks-1.0.0\\eeg-during-mental-arithmetic-tasks-1.0.0\\pacientes_antes\\recortados\\Subject04_1_recortado.fif) does not conform to MNE naming conventions. All raw files should end with raw.fif, raw_sss.fif, raw_tsss.fif, _meg.fif, _eeg.fif, _ieeg.fif, raw.fif.gz, raw_sss.fif.gz, raw_tsss.fif.gz, _meg.fif.gz, _eeg.fif.gz or _ieeg.fif.gz\n",
      "  raw1 = mne.io.read_raw_fif(file_path_1, preload=True)\n",
      "C:\\Users\\pablo\\anaconda3\\Lib\\site-packages\\sklearn\\metrics\\_regression.py:1187: UndefinedMetricWarning: R^2 score is not well-defined with less than two samples.\n",
      "  warnings.warn(msg, UndefinedMetricWarning)\n",
      "C:\\Users\\pablo\\anaconda3\\Lib\\site-packages\\sklearn\\metrics\\_regression.py:1187: UndefinedMetricWarning: R^2 score is not well-defined with less than two samples.\n",
      "  warnings.warn(msg, UndefinedMetricWarning)\n",
      "C:\\Users\\pablo\\anaconda3\\Lib\\site-packages\\sklearn\\metrics\\_regression.py:1187: UndefinedMetricWarning: R^2 score is not well-defined with less than two samples.\n",
      "  warnings.warn(msg, UndefinedMetricWarning)\n",
      "C:\\Users\\pablo\\anaconda3\\Lib\\site-packages\\sklearn\\metrics\\_regression.py:1187: UndefinedMetricWarning: R^2 score is not well-defined with less than two samples.\n",
      "  warnings.warn(msg, UndefinedMetricWarning)\n",
      "C:\\Users\\pablo\\anaconda3\\Lib\\site-packages\\sklearn\\metrics\\_regression.py:1187: UndefinedMetricWarning: R^2 score is not well-defined with less than two samples.\n",
      "  warnings.warn(msg, UndefinedMetricWarning)\n",
      "C:\\Users\\pablo\\anaconda3\\Lib\\site-packages\\sklearn\\metrics\\_regression.py:1187: UndefinedMetricWarning: R^2 score is not well-defined with less than two samples.\n",
      "  warnings.warn(msg, UndefinedMetricWarning)\n",
      "C:\\Users\\pablo\\anaconda3\\Lib\\site-packages\\sklearn\\metrics\\_regression.py:1187: UndefinedMetricWarning: R^2 score is not well-defined with less than two samples.\n",
      "  warnings.warn(msg, UndefinedMetricWarning)\n",
      "C:\\Users\\pablo\\anaconda3\\Lib\\site-packages\\sklearn\\metrics\\_regression.py:1187: UndefinedMetricWarning: R^2 score is not well-defined with less than two samples.\n",
      "  warnings.warn(msg, UndefinedMetricWarning)\n"
     ]
    },
    {
     "name": "stdout",
     "output_type": "stream",
     "text": [
      "Correlation dimension X: 0.10005919689056124\n",
      "Correlation dimension Y: 0.08457605368685335\n",
      "Joint correlation dimension XY: 0.08559480707899214\n",
      "Mutual dimension: 0.09904044349842245\n",
      "Processing patient: Subject05\n",
      "Opening raw data file C:\\Users\\pablo\\Documents\\UNIVERSIDAD\\TFG\\eeg-during-mental-arithmetic-tasks-1.0.0\\eeg-during-mental-arithmetic-tasks-1.0.0\\pacientes_antes\\recortados\\Subject05_1_recortado.fif...\n",
      "Isotrak not found\n",
      "    Range : 0 ... 30999 =      0.000 ...    61.998 secs\n",
      "Ready.\n",
      "Reading 0 ... 30999  =      0.000 ...    61.998 secs...\n",
      "Extracting EDF parameters from C:\\Users\\pablo\\Documents\\UNIVERSIDAD\\TFG\\eeg-during-mental-arithmetic-tasks-1.0.0\\eeg-during-mental-arithmetic-tasks-1.0.0\\pacientes_durante\\Subject05_2.edf...\n",
      "EDF file detected\n",
      "Setting channel info structure...\n",
      "Creating raw.info structure...\n",
      "Reading 0 ... 30999  =      0.000 ...    61.998 secs...\n"
     ]
    },
    {
     "name": "stderr",
     "output_type": "stream",
     "text": [
      "C:\\Users\\pablo\\AppData\\Local\\Temp\\ipykernel_18512\\2716403607.py:8: RuntimeWarning: This filename (C:\\Users\\pablo\\Documents\\UNIVERSIDAD\\TFG\\eeg-during-mental-arithmetic-tasks-1.0.0\\eeg-during-mental-arithmetic-tasks-1.0.0\\pacientes_antes\\recortados\\Subject05_1_recortado.fif) does not conform to MNE naming conventions. All raw files should end with raw.fif, raw_sss.fif, raw_tsss.fif, _meg.fif, _eeg.fif, _ieeg.fif, raw.fif.gz, raw_sss.fif.gz, raw_tsss.fif.gz, _meg.fif.gz, _eeg.fif.gz or _ieeg.fif.gz\n",
      "  raw1 = mne.io.read_raw_fif(file_path_1, preload=True)\n",
      "C:\\Users\\pablo\\anaconda3\\Lib\\site-packages\\sklearn\\metrics\\_regression.py:1187: UndefinedMetricWarning: R^2 score is not well-defined with less than two samples.\n",
      "  warnings.warn(msg, UndefinedMetricWarning)\n",
      "C:\\Users\\pablo\\anaconda3\\Lib\\site-packages\\sklearn\\metrics\\_regression.py:1187: UndefinedMetricWarning: R^2 score is not well-defined with less than two samples.\n",
      "  warnings.warn(msg, UndefinedMetricWarning)\n",
      "C:\\Users\\pablo\\anaconda3\\Lib\\site-packages\\sklearn\\metrics\\_regression.py:1187: UndefinedMetricWarning: R^2 score is not well-defined with less than two samples.\n",
      "  warnings.warn(msg, UndefinedMetricWarning)\n",
      "C:\\Users\\pablo\\anaconda3\\Lib\\site-packages\\sklearn\\metrics\\_regression.py:1187: UndefinedMetricWarning: R^2 score is not well-defined with less than two samples.\n",
      "  warnings.warn(msg, UndefinedMetricWarning)\n",
      "C:\\Users\\pablo\\anaconda3\\Lib\\site-packages\\sklearn\\metrics\\_regression.py:1187: UndefinedMetricWarning: R^2 score is not well-defined with less than two samples.\n",
      "  warnings.warn(msg, UndefinedMetricWarning)\n"
     ]
    },
    {
     "name": "stdout",
     "output_type": "stream",
     "text": [
      "Correlation dimension X: 0.14006769041187217\n",
      "Correlation dimension Y: 0.032974919520730894\n",
      "Joint correlation dimension XY: 0.0706810213872432\n",
      "Mutual dimension: 0.10236158854535986\n",
      "Processing patient: Subject06\n",
      "Opening raw data file C:\\Users\\pablo\\Documents\\UNIVERSIDAD\\TFG\\eeg-during-mental-arithmetic-tasks-1.0.0\\eeg-during-mental-arithmetic-tasks-1.0.0\\pacientes_antes\\recortados\\Subject06_1_recortado.fif...\n",
      "Isotrak not found\n",
      "    Range : 0 ... 30999 =      0.000 ...    61.998 secs\n",
      "Ready.\n",
      "Reading 0 ... 30999  =      0.000 ...    61.998 secs...\n",
      "Extracting EDF parameters from C:\\Users\\pablo\\Documents\\UNIVERSIDAD\\TFG\\eeg-during-mental-arithmetic-tasks-1.0.0\\eeg-during-mental-arithmetic-tasks-1.0.0\\pacientes_durante\\Subject06_2.edf...\n",
      "EDF file detected\n",
      "Setting channel info structure...\n",
      "Creating raw.info structure...\n",
      "Reading 0 ... 30999  =      0.000 ...    61.998 secs...\n"
     ]
    },
    {
     "name": "stderr",
     "output_type": "stream",
     "text": [
      "C:\\Users\\pablo\\AppData\\Local\\Temp\\ipykernel_18512\\2716403607.py:8: RuntimeWarning: This filename (C:\\Users\\pablo\\Documents\\UNIVERSIDAD\\TFG\\eeg-during-mental-arithmetic-tasks-1.0.0\\eeg-during-mental-arithmetic-tasks-1.0.0\\pacientes_antes\\recortados\\Subject06_1_recortado.fif) does not conform to MNE naming conventions. All raw files should end with raw.fif, raw_sss.fif, raw_tsss.fif, _meg.fif, _eeg.fif, _ieeg.fif, raw.fif.gz, raw_sss.fif.gz, raw_tsss.fif.gz, _meg.fif.gz, _eeg.fif.gz or _ieeg.fif.gz\n",
      "  raw1 = mne.io.read_raw_fif(file_path_1, preload=True)\n",
      "C:\\Users\\pablo\\anaconda3\\Lib\\site-packages\\sklearn\\metrics\\_regression.py:1187: UndefinedMetricWarning: R^2 score is not well-defined with less than two samples.\n",
      "  warnings.warn(msg, UndefinedMetricWarning)\n",
      "C:\\Users\\pablo\\anaconda3\\Lib\\site-packages\\sklearn\\metrics\\_regression.py:1187: UndefinedMetricWarning: R^2 score is not well-defined with less than two samples.\n",
      "  warnings.warn(msg, UndefinedMetricWarning)\n",
      "C:\\Users\\pablo\\anaconda3\\Lib\\site-packages\\sklearn\\metrics\\_regression.py:1187: UndefinedMetricWarning: R^2 score is not well-defined with less than two samples.\n",
      "  warnings.warn(msg, UndefinedMetricWarning)\n",
      "C:\\Users\\pablo\\anaconda3\\Lib\\site-packages\\sklearn\\metrics\\_regression.py:1187: UndefinedMetricWarning: R^2 score is not well-defined with less than two samples.\n",
      "  warnings.warn(msg, UndefinedMetricWarning)\n"
     ]
    },
    {
     "name": "stdout",
     "output_type": "stream",
     "text": [
      "Correlation dimension X: 0.002267476918595377\n",
      "Correlation dimension Y: 0.0012213685855891495\n",
      "Joint correlation dimension XY: 0.001860886868241475\n",
      "Mutual dimension: 0.0016279586359430516\n",
      "Processing patient: Subject07\n",
      "Opening raw data file C:\\Users\\pablo\\Documents\\UNIVERSIDAD\\TFG\\eeg-during-mental-arithmetic-tasks-1.0.0\\eeg-during-mental-arithmetic-tasks-1.0.0\\pacientes_antes\\recortados\\Subject07_1_recortado.fif...\n",
      "Isotrak not found\n",
      "    Range : 0 ... 30999 =      0.000 ...    61.998 secs\n",
      "Ready.\n",
      "Reading 0 ... 30999  =      0.000 ...    61.998 secs...\n",
      "Extracting EDF parameters from C:\\Users\\pablo\\Documents\\UNIVERSIDAD\\TFG\\eeg-during-mental-arithmetic-tasks-1.0.0\\eeg-during-mental-arithmetic-tasks-1.0.0\\pacientes_durante\\Subject07_2.edf...\n",
      "EDF file detected\n",
      "Setting channel info structure...\n",
      "Creating raw.info structure...\n",
      "Reading 0 ... 30999  =      0.000 ...    61.998 secs...\n"
     ]
    },
    {
     "name": "stderr",
     "output_type": "stream",
     "text": [
      "C:\\Users\\pablo\\AppData\\Local\\Temp\\ipykernel_18512\\2716403607.py:8: RuntimeWarning: This filename (C:\\Users\\pablo\\Documents\\UNIVERSIDAD\\TFG\\eeg-during-mental-arithmetic-tasks-1.0.0\\eeg-during-mental-arithmetic-tasks-1.0.0\\pacientes_antes\\recortados\\Subject07_1_recortado.fif) does not conform to MNE naming conventions. All raw files should end with raw.fif, raw_sss.fif, raw_tsss.fif, _meg.fif, _eeg.fif, _ieeg.fif, raw.fif.gz, raw_sss.fif.gz, raw_tsss.fif.gz, _meg.fif.gz, _eeg.fif.gz or _ieeg.fif.gz\n",
      "  raw1 = mne.io.read_raw_fif(file_path_1, preload=True)\n",
      "C:\\Users\\pablo\\anaconda3\\Lib\\site-packages\\sklearn\\metrics\\_regression.py:1187: UndefinedMetricWarning: R^2 score is not well-defined with less than two samples.\n",
      "  warnings.warn(msg, UndefinedMetricWarning)\n",
      "C:\\Users\\pablo\\anaconda3\\Lib\\site-packages\\sklearn\\metrics\\_regression.py:1187: UndefinedMetricWarning: R^2 score is not well-defined with less than two samples.\n",
      "  warnings.warn(msg, UndefinedMetricWarning)\n",
      "C:\\Users\\pablo\\anaconda3\\Lib\\site-packages\\sklearn\\metrics\\_regression.py:1187: UndefinedMetricWarning: R^2 score is not well-defined with less than two samples.\n",
      "  warnings.warn(msg, UndefinedMetricWarning)\n",
      "C:\\Users\\pablo\\anaconda3\\Lib\\site-packages\\sklearn\\metrics\\_regression.py:1187: UndefinedMetricWarning: R^2 score is not well-defined with less than two samples.\n",
      "  warnings.warn(msg, UndefinedMetricWarning)\n",
      "C:\\Users\\pablo\\anaconda3\\Lib\\site-packages\\sklearn\\metrics\\_regression.py:1187: UndefinedMetricWarning: R^2 score is not well-defined with less than two samples.\n",
      "  warnings.warn(msg, UndefinedMetricWarning)\n",
      "C:\\Users\\pablo\\anaconda3\\Lib\\site-packages\\sklearn\\metrics\\_regression.py:1187: UndefinedMetricWarning: R^2 score is not well-defined with less than two samples.\n",
      "  warnings.warn(msg, UndefinedMetricWarning)\n",
      "C:\\Users\\pablo\\anaconda3\\Lib\\site-packages\\sklearn\\metrics\\_regression.py:1187: UndefinedMetricWarning: R^2 score is not well-defined with less than two samples.\n",
      "  warnings.warn(msg, UndefinedMetricWarning)\n",
      "C:\\Users\\pablo\\anaconda3\\Lib\\site-packages\\sklearn\\metrics\\_regression.py:1187: UndefinedMetricWarning: R^2 score is not well-defined with less than two samples.\n",
      "  warnings.warn(msg, UndefinedMetricWarning)\n",
      "C:\\Users\\pablo\\anaconda3\\Lib\\site-packages\\sklearn\\metrics\\_regression.py:1187: UndefinedMetricWarning: R^2 score is not well-defined with less than two samples.\n",
      "  warnings.warn(msg, UndefinedMetricWarning)\n",
      "C:\\Users\\pablo\\anaconda3\\Lib\\site-packages\\sklearn\\metrics\\_regression.py:1187: UndefinedMetricWarning: R^2 score is not well-defined with less than two samples.\n",
      "  warnings.warn(msg, UndefinedMetricWarning)\n",
      "C:\\Users\\pablo\\anaconda3\\Lib\\site-packages\\sklearn\\metrics\\_regression.py:1187: UndefinedMetricWarning: R^2 score is not well-defined with less than two samples.\n",
      "  warnings.warn(msg, UndefinedMetricWarning)\n",
      "C:\\Users\\pablo\\anaconda3\\Lib\\site-packages\\sklearn\\metrics\\_regression.py:1187: UndefinedMetricWarning: R^2 score is not well-defined with less than two samples.\n",
      "  warnings.warn(msg, UndefinedMetricWarning)\n",
      "C:\\Users\\pablo\\anaconda3\\Lib\\site-packages\\sklearn\\metrics\\_regression.py:1187: UndefinedMetricWarning: R^2 score is not well-defined with less than two samples.\n",
      "  warnings.warn(msg, UndefinedMetricWarning)\n",
      "C:\\Users\\pablo\\anaconda3\\Lib\\site-packages\\sklearn\\metrics\\_regression.py:1187: UndefinedMetricWarning: R^2 score is not well-defined with less than two samples.\n",
      "  warnings.warn(msg, UndefinedMetricWarning)\n",
      "C:\\Users\\pablo\\anaconda3\\Lib\\site-packages\\sklearn\\metrics\\_regression.py:1187: UndefinedMetricWarning: R^2 score is not well-defined with less than two samples.\n",
      "  warnings.warn(msg, UndefinedMetricWarning)\n"
     ]
    },
    {
     "name": "stdout",
     "output_type": "stream",
     "text": [
      "Correlation dimension X: 0.01770325287914781\n",
      "Correlation dimension Y: 0.020914924699266663\n",
      "Joint correlation dimension XY: 0.018373189794187898\n",
      "Mutual dimension: 0.020244987784226575\n",
      "Processing patient: Subject08\n",
      "Opening raw data file C:\\Users\\pablo\\Documents\\UNIVERSIDAD\\TFG\\eeg-during-mental-arithmetic-tasks-1.0.0\\eeg-during-mental-arithmetic-tasks-1.0.0\\pacientes_antes\\recortados\\Subject08_1_recortado.fif...\n",
      "Isotrak not found\n",
      "    Range : 0 ... 30999 =      0.000 ...    61.998 secs\n",
      "Ready.\n",
      "Reading 0 ... 30999  =      0.000 ...    61.998 secs...\n",
      "Extracting EDF parameters from C:\\Users\\pablo\\Documents\\UNIVERSIDAD\\TFG\\eeg-during-mental-arithmetic-tasks-1.0.0\\eeg-during-mental-arithmetic-tasks-1.0.0\\pacientes_durante\\Subject08_2.edf...\n",
      "EDF file detected\n",
      "Setting channel info structure...\n",
      "Creating raw.info structure...\n",
      "Reading 0 ... 30999  =      0.000 ...    61.998 secs...\n"
     ]
    },
    {
     "name": "stderr",
     "output_type": "stream",
     "text": [
      "C:\\Users\\pablo\\AppData\\Local\\Temp\\ipykernel_18512\\2716403607.py:8: RuntimeWarning: This filename (C:\\Users\\pablo\\Documents\\UNIVERSIDAD\\TFG\\eeg-during-mental-arithmetic-tasks-1.0.0\\eeg-during-mental-arithmetic-tasks-1.0.0\\pacientes_antes\\recortados\\Subject08_1_recortado.fif) does not conform to MNE naming conventions. All raw files should end with raw.fif, raw_sss.fif, raw_tsss.fif, _meg.fif, _eeg.fif, _ieeg.fif, raw.fif.gz, raw_sss.fif.gz, raw_tsss.fif.gz, _meg.fif.gz, _eeg.fif.gz or _ieeg.fif.gz\n",
      "  raw1 = mne.io.read_raw_fif(file_path_1, preload=True)\n",
      "C:\\Users\\pablo\\anaconda3\\Lib\\site-packages\\sklearn\\metrics\\_regression.py:1187: UndefinedMetricWarning: R^2 score is not well-defined with less than two samples.\n",
      "  warnings.warn(msg, UndefinedMetricWarning)\n",
      "C:\\Users\\pablo\\anaconda3\\Lib\\site-packages\\sklearn\\metrics\\_regression.py:1187: UndefinedMetricWarning: R^2 score is not well-defined with less than two samples.\n",
      "  warnings.warn(msg, UndefinedMetricWarning)\n",
      "C:\\Users\\pablo\\anaconda3\\Lib\\site-packages\\sklearn\\metrics\\_regression.py:1187: UndefinedMetricWarning: R^2 score is not well-defined with less than two samples.\n",
      "  warnings.warn(msg, UndefinedMetricWarning)\n",
      "C:\\Users\\pablo\\anaconda3\\Lib\\site-packages\\sklearn\\metrics\\_regression.py:1187: UndefinedMetricWarning: R^2 score is not well-defined with less than two samples.\n",
      "  warnings.warn(msg, UndefinedMetricWarning)\n",
      "C:\\Users\\pablo\\anaconda3\\Lib\\site-packages\\sklearn\\metrics\\_regression.py:1187: UndefinedMetricWarning: R^2 score is not well-defined with less than two samples.\n",
      "  warnings.warn(msg, UndefinedMetricWarning)\n",
      "C:\\Users\\pablo\\anaconda3\\Lib\\site-packages\\sklearn\\metrics\\_regression.py:1187: UndefinedMetricWarning: R^2 score is not well-defined with less than two samples.\n",
      "  warnings.warn(msg, UndefinedMetricWarning)\n",
      "C:\\Users\\pablo\\anaconda3\\Lib\\site-packages\\sklearn\\metrics\\_regression.py:1187: UndefinedMetricWarning: R^2 score is not well-defined with less than two samples.\n",
      "  warnings.warn(msg, UndefinedMetricWarning)\n",
      "C:\\Users\\pablo\\anaconda3\\Lib\\site-packages\\sklearn\\metrics\\_regression.py:1187: UndefinedMetricWarning: R^2 score is not well-defined with less than two samples.\n",
      "  warnings.warn(msg, UndefinedMetricWarning)\n",
      "C:\\Users\\pablo\\anaconda3\\Lib\\site-packages\\sklearn\\metrics\\_regression.py:1187: UndefinedMetricWarning: R^2 score is not well-defined with less than two samples.\n",
      "  warnings.warn(msg, UndefinedMetricWarning)\n",
      "C:\\Users\\pablo\\anaconda3\\Lib\\site-packages\\sklearn\\metrics\\_regression.py:1187: UndefinedMetricWarning: R^2 score is not well-defined with less than two samples.\n",
      "  warnings.warn(msg, UndefinedMetricWarning)\n"
     ]
    },
    {
     "name": "stdout",
     "output_type": "stream",
     "text": [
      "Correlation dimension X: 0.040170579863266234\n",
      "Correlation dimension Y: 0.03139042299514919\n",
      "Joint correlation dimension XY: 0.05326426997764953\n",
      "Mutual dimension: 0.018296732880765908\n",
      "Processing patient: Subject09\n",
      "Opening raw data file C:\\Users\\pablo\\Documents\\UNIVERSIDAD\\TFG\\eeg-during-mental-arithmetic-tasks-1.0.0\\eeg-during-mental-arithmetic-tasks-1.0.0\\pacientes_antes\\recortados\\Subject09_1_recortado.fif...\n",
      "Isotrak not found\n",
      "    Range : 0 ... 30999 =      0.000 ...    61.998 secs\n",
      "Ready.\n",
      "Reading 0 ... 30999  =      0.000 ...    61.998 secs...\n",
      "Extracting EDF parameters from C:\\Users\\pablo\\Documents\\UNIVERSIDAD\\TFG\\eeg-during-mental-arithmetic-tasks-1.0.0\\eeg-during-mental-arithmetic-tasks-1.0.0\\pacientes_durante\\Subject09_2.edf...\n",
      "EDF file detected\n",
      "Setting channel info structure...\n",
      "Creating raw.info structure...\n",
      "Reading 0 ... 30999  =      0.000 ...    61.998 secs...\n"
     ]
    },
    {
     "name": "stderr",
     "output_type": "stream",
     "text": [
      "C:\\Users\\pablo\\anaconda3\\Lib\\site-packages\\sklearn\\metrics\\_regression.py:1187: UndefinedMetricWarning: R^2 score is not well-defined with less than two samples.\n",
      "  warnings.warn(msg, UndefinedMetricWarning)\n",
      "C:\\Users\\pablo\\AppData\\Local\\Temp\\ipykernel_18512\\2716403607.py:8: RuntimeWarning: This filename (C:\\Users\\pablo\\Documents\\UNIVERSIDAD\\TFG\\eeg-during-mental-arithmetic-tasks-1.0.0\\eeg-during-mental-arithmetic-tasks-1.0.0\\pacientes_antes\\recortados\\Subject09_1_recortado.fif) does not conform to MNE naming conventions. All raw files should end with raw.fif, raw_sss.fif, raw_tsss.fif, _meg.fif, _eeg.fif, _ieeg.fif, raw.fif.gz, raw_sss.fif.gz, raw_tsss.fif.gz, _meg.fif.gz, _eeg.fif.gz or _ieeg.fif.gz\n",
      "  raw1 = mne.io.read_raw_fif(file_path_1, preload=True)\n",
      "C:\\Users\\pablo\\anaconda3\\Lib\\site-packages\\sklearn\\metrics\\_regression.py:1187: UndefinedMetricWarning: R^2 score is not well-defined with less than two samples.\n",
      "  warnings.warn(msg, UndefinedMetricWarning)\n",
      "C:\\Users\\pablo\\anaconda3\\Lib\\site-packages\\sklearn\\metrics\\_regression.py:1187: UndefinedMetricWarning: R^2 score is not well-defined with less than two samples.\n",
      "  warnings.warn(msg, UndefinedMetricWarning)\n",
      "C:\\Users\\pablo\\anaconda3\\Lib\\site-packages\\sklearn\\metrics\\_regression.py:1187: UndefinedMetricWarning: R^2 score is not well-defined with less than two samples.\n",
      "  warnings.warn(msg, UndefinedMetricWarning)\n"
     ]
    },
    {
     "name": "stdout",
     "output_type": "stream",
     "text": [
      "Correlation dimension X: 0.07796807751812335\n",
      "Correlation dimension Y: 0.015402486777327681\n",
      "Joint correlation dimension XY: 0.05010261892968363\n",
      "Mutual dimension: 0.0432679453657674\n",
      "Processing patient: Subject10\n",
      "Opening raw data file C:\\Users\\pablo\\Documents\\UNIVERSIDAD\\TFG\\eeg-during-mental-arithmetic-tasks-1.0.0\\eeg-during-mental-arithmetic-tasks-1.0.0\\pacientes_antes\\recortados\\Subject10_1_recortado.fif...\n",
      "Isotrak not found\n",
      "    Range : 0 ... 30999 =      0.000 ...    61.998 secs\n",
      "Ready.\n",
      "Reading 0 ... 30999  =      0.000 ...    61.998 secs...\n",
      "Extracting EDF parameters from C:\\Users\\pablo\\Documents\\UNIVERSIDAD\\TFG\\eeg-during-mental-arithmetic-tasks-1.0.0\\eeg-during-mental-arithmetic-tasks-1.0.0\\pacientes_durante\\Subject10_2.edf...\n",
      "EDF file detected\n",
      "Setting channel info structure...\n",
      "Creating raw.info structure...\n",
      "Reading 0 ... 30999  =      0.000 ...    61.998 secs...\n"
     ]
    },
    {
     "name": "stderr",
     "output_type": "stream",
     "text": [
      "C:\\Users\\pablo\\anaconda3\\Lib\\site-packages\\sklearn\\metrics\\_regression.py:1187: UndefinedMetricWarning: R^2 score is not well-defined with less than two samples.\n",
      "  warnings.warn(msg, UndefinedMetricWarning)\n",
      "C:\\Users\\pablo\\AppData\\Local\\Temp\\ipykernel_18512\\2716403607.py:8: RuntimeWarning: This filename (C:\\Users\\pablo\\Documents\\UNIVERSIDAD\\TFG\\eeg-during-mental-arithmetic-tasks-1.0.0\\eeg-during-mental-arithmetic-tasks-1.0.0\\pacientes_antes\\recortados\\Subject10_1_recortado.fif) does not conform to MNE naming conventions. All raw files should end with raw.fif, raw_sss.fif, raw_tsss.fif, _meg.fif, _eeg.fif, _ieeg.fif, raw.fif.gz, raw_sss.fif.gz, raw_tsss.fif.gz, _meg.fif.gz, _eeg.fif.gz or _ieeg.fif.gz\n",
      "  raw1 = mne.io.read_raw_fif(file_path_1, preload=True)\n",
      "C:\\Users\\pablo\\anaconda3\\Lib\\site-packages\\sklearn\\metrics\\_regression.py:1187: UndefinedMetricWarning: R^2 score is not well-defined with less than two samples.\n",
      "  warnings.warn(msg, UndefinedMetricWarning)\n",
      "C:\\Users\\pablo\\anaconda3\\Lib\\site-packages\\sklearn\\metrics\\_regression.py:1187: UndefinedMetricWarning: R^2 score is not well-defined with less than two samples.\n",
      "  warnings.warn(msg, UndefinedMetricWarning)\n",
      "C:\\Users\\pablo\\anaconda3\\Lib\\site-packages\\sklearn\\metrics\\_regression.py:1187: UndefinedMetricWarning: R^2 score is not well-defined with less than two samples.\n",
      "  warnings.warn(msg, UndefinedMetricWarning)\n",
      "C:\\Users\\pablo\\anaconda3\\Lib\\site-packages\\sklearn\\metrics\\_regression.py:1187: UndefinedMetricWarning: R^2 score is not well-defined with less than two samples.\n",
      "  warnings.warn(msg, UndefinedMetricWarning)\n",
      "C:\\Users\\pablo\\anaconda3\\Lib\\site-packages\\sklearn\\metrics\\_regression.py:1187: UndefinedMetricWarning: R^2 score is not well-defined with less than two samples.\n",
      "  warnings.warn(msg, UndefinedMetricWarning)\n"
     ]
    },
    {
     "name": "stdout",
     "output_type": "stream",
     "text": [
      "Correlation dimension X: 0.09600520691027696\n",
      "Correlation dimension Y: 0.14377341630004092\n",
      "Joint correlation dimension XY: 0.11287643446260957\n",
      "Mutual dimension: 0.1269021887477083\n",
      "Processing patient: Subject11\n",
      "Opening raw data file C:\\Users\\pablo\\Documents\\UNIVERSIDAD\\TFG\\eeg-during-mental-arithmetic-tasks-1.0.0\\eeg-during-mental-arithmetic-tasks-1.0.0\\pacientes_antes\\recortados\\Subject11_1_recortado.fif...\n",
      "Isotrak not found\n",
      "    Range : 0 ... 30999 =      0.000 ...    61.998 secs\n",
      "Ready.\n",
      "Reading 0 ... 30999  =      0.000 ...    61.998 secs...\n",
      "Extracting EDF parameters from C:\\Users\\pablo\\Documents\\UNIVERSIDAD\\TFG\\eeg-during-mental-arithmetic-tasks-1.0.0\\eeg-during-mental-arithmetic-tasks-1.0.0\\pacientes_durante\\Subject11_2.edf...\n",
      "EDF file detected\n",
      "Setting channel info structure...\n",
      "Creating raw.info structure...\n",
      "Reading 0 ... 30999  =      0.000 ...    61.998 secs...\n"
     ]
    },
    {
     "name": "stderr",
     "output_type": "stream",
     "text": [
      "C:\\Users\\pablo\\AppData\\Local\\Temp\\ipykernel_18512\\2716403607.py:8: RuntimeWarning: This filename (C:\\Users\\pablo\\Documents\\UNIVERSIDAD\\TFG\\eeg-during-mental-arithmetic-tasks-1.0.0\\eeg-during-mental-arithmetic-tasks-1.0.0\\pacientes_antes\\recortados\\Subject11_1_recortado.fif) does not conform to MNE naming conventions. All raw files should end with raw.fif, raw_sss.fif, raw_tsss.fif, _meg.fif, _eeg.fif, _ieeg.fif, raw.fif.gz, raw_sss.fif.gz, raw_tsss.fif.gz, _meg.fif.gz, _eeg.fif.gz or _ieeg.fif.gz\n",
      "  raw1 = mne.io.read_raw_fif(file_path_1, preload=True)\n",
      "C:\\Users\\pablo\\anaconda3\\Lib\\site-packages\\sklearn\\metrics\\_regression.py:1187: UndefinedMetricWarning: R^2 score is not well-defined with less than two samples.\n",
      "  warnings.warn(msg, UndefinedMetricWarning)\n",
      "C:\\Users\\pablo\\anaconda3\\Lib\\site-packages\\nolds\\measures.py:51: RuntimeWarning: RANSAC did not reach consensus, using numpy's polyfit\n",
      "  warnings.warn(\n",
      "C:\\Users\\pablo\\anaconda3\\Lib\\site-packages\\sklearn\\metrics\\_regression.py:1187: UndefinedMetricWarning: R^2 score is not well-defined with less than two samples.\n",
      "  warnings.warn(msg, UndefinedMetricWarning)\n",
      "C:\\Users\\pablo\\anaconda3\\Lib\\site-packages\\sklearn\\metrics\\_regression.py:1187: UndefinedMetricWarning: R^2 score is not well-defined with less than two samples.\n",
      "  warnings.warn(msg, UndefinedMetricWarning)\n"
     ]
    },
    {
     "name": "stdout",
     "output_type": "stream",
     "text": [
      "Correlation dimension X: 0.06395858166825523\n",
      "Correlation dimension Y: 0.007463973550989769\n",
      "Joint correlation dimension XY: 0.038064733009055995\n",
      "Mutual dimension: 0.033357822210189\n",
      "Processing patient: Subject12\n",
      "Opening raw data file C:\\Users\\pablo\\Documents\\UNIVERSIDAD\\TFG\\eeg-during-mental-arithmetic-tasks-1.0.0\\eeg-during-mental-arithmetic-tasks-1.0.0\\pacientes_antes\\recortados\\Subject12_1_recortado.fif...\n",
      "Isotrak not found\n",
      "    Range : 0 ... 30999 =      0.000 ...    61.998 secs\n",
      "Ready.\n",
      "Reading 0 ... 30999  =      0.000 ...    61.998 secs...\n",
      "Extracting EDF parameters from C:\\Users\\pablo\\Documents\\UNIVERSIDAD\\TFG\\eeg-during-mental-arithmetic-tasks-1.0.0\\eeg-during-mental-arithmetic-tasks-1.0.0\\pacientes_durante\\Subject12_2.edf...\n",
      "EDF file detected\n",
      "Setting channel info structure...\n",
      "Creating raw.info structure...\n",
      "Reading 0 ... 30999  =      0.000 ...    61.998 secs...\n"
     ]
    },
    {
     "name": "stderr",
     "output_type": "stream",
     "text": [
      "C:\\Users\\pablo\\AppData\\Local\\Temp\\ipykernel_18512\\2716403607.py:8: RuntimeWarning: This filename (C:\\Users\\pablo\\Documents\\UNIVERSIDAD\\TFG\\eeg-during-mental-arithmetic-tasks-1.0.0\\eeg-during-mental-arithmetic-tasks-1.0.0\\pacientes_antes\\recortados\\Subject12_1_recortado.fif) does not conform to MNE naming conventions. All raw files should end with raw.fif, raw_sss.fif, raw_tsss.fif, _meg.fif, _eeg.fif, _ieeg.fif, raw.fif.gz, raw_sss.fif.gz, raw_tsss.fif.gz, _meg.fif.gz, _eeg.fif.gz or _ieeg.fif.gz\n",
      "  raw1 = mne.io.read_raw_fif(file_path_1, preload=True)\n",
      "C:\\Users\\pablo\\anaconda3\\Lib\\site-packages\\sklearn\\metrics\\_regression.py:1187: UndefinedMetricWarning: R^2 score is not well-defined with less than two samples.\n",
      "  warnings.warn(msg, UndefinedMetricWarning)\n",
      "C:\\Users\\pablo\\anaconda3\\Lib\\site-packages\\sklearn\\metrics\\_regression.py:1187: UndefinedMetricWarning: R^2 score is not well-defined with less than two samples.\n",
      "  warnings.warn(msg, UndefinedMetricWarning)\n",
      "C:\\Users\\pablo\\anaconda3\\Lib\\site-packages\\sklearn\\metrics\\_regression.py:1187: UndefinedMetricWarning: R^2 score is not well-defined with less than two samples.\n",
      "  warnings.warn(msg, UndefinedMetricWarning)\n",
      "C:\\Users\\pablo\\anaconda3\\Lib\\site-packages\\sklearn\\metrics\\_regression.py:1187: UndefinedMetricWarning: R^2 score is not well-defined with less than two samples.\n",
      "  warnings.warn(msg, UndefinedMetricWarning)\n",
      "C:\\Users\\pablo\\anaconda3\\Lib\\site-packages\\sklearn\\metrics\\_regression.py:1187: UndefinedMetricWarning: R^2 score is not well-defined with less than two samples.\n",
      "  warnings.warn(msg, UndefinedMetricWarning)\n",
      "C:\\Users\\pablo\\anaconda3\\Lib\\site-packages\\sklearn\\metrics\\_regression.py:1187: UndefinedMetricWarning: R^2 score is not well-defined with less than two samples.\n",
      "  warnings.warn(msg, UndefinedMetricWarning)\n",
      "C:\\Users\\pablo\\anaconda3\\Lib\\site-packages\\sklearn\\metrics\\_regression.py:1187: UndefinedMetricWarning: R^2 score is not well-defined with less than two samples.\n",
      "  warnings.warn(msg, UndefinedMetricWarning)\n"
     ]
    },
    {
     "name": "stdout",
     "output_type": "stream",
     "text": [
      "Correlation dimension X: 0.056382403740727956\n",
      "Correlation dimension Y: 0.01732242853125763\n",
      "Joint correlation dimension XY: 0.037341291737419124\n",
      "Mutual dimension: 0.03636354053456646\n",
      "Processing patient: Subject13\n",
      "Opening raw data file C:\\Users\\pablo\\Documents\\UNIVERSIDAD\\TFG\\eeg-during-mental-arithmetic-tasks-1.0.0\\eeg-during-mental-arithmetic-tasks-1.0.0\\pacientes_antes\\recortados\\Subject13_1_recortado.fif...\n",
      "Isotrak not found\n",
      "    Range : 0 ... 30999 =      0.000 ...    61.998 secs\n",
      "Ready.\n",
      "Reading 0 ... 30999  =      0.000 ...    61.998 secs...\n",
      "Extracting EDF parameters from C:\\Users\\pablo\\Documents\\UNIVERSIDAD\\TFG\\eeg-during-mental-arithmetic-tasks-1.0.0\\eeg-during-mental-arithmetic-tasks-1.0.0\\pacientes_durante\\Subject13_2.edf...\n",
      "EDF file detected\n",
      "Setting channel info structure...\n",
      "Creating raw.info structure...\n",
      "Reading 0 ... 30999  =      0.000 ...    61.998 secs...\n"
     ]
    },
    {
     "name": "stderr",
     "output_type": "stream",
     "text": [
      "C:\\Users\\pablo\\AppData\\Local\\Temp\\ipykernel_18512\\2716403607.py:8: RuntimeWarning: This filename (C:\\Users\\pablo\\Documents\\UNIVERSIDAD\\TFG\\eeg-during-mental-arithmetic-tasks-1.0.0\\eeg-during-mental-arithmetic-tasks-1.0.0\\pacientes_antes\\recortados\\Subject13_1_recortado.fif) does not conform to MNE naming conventions. All raw files should end with raw.fif, raw_sss.fif, raw_tsss.fif, _meg.fif, _eeg.fif, _ieeg.fif, raw.fif.gz, raw_sss.fif.gz, raw_tsss.fif.gz, _meg.fif.gz, _eeg.fif.gz or _ieeg.fif.gz\n",
      "  raw1 = mne.io.read_raw_fif(file_path_1, preload=True)\n",
      "C:\\Users\\pablo\\anaconda3\\Lib\\site-packages\\sklearn\\metrics\\_regression.py:1187: UndefinedMetricWarning: R^2 score is not well-defined with less than two samples.\n",
      "  warnings.warn(msg, UndefinedMetricWarning)\n",
      "C:\\Users\\pablo\\anaconda3\\Lib\\site-packages\\sklearn\\metrics\\_regression.py:1187: UndefinedMetricWarning: R^2 score is not well-defined with less than two samples.\n",
      "  warnings.warn(msg, UndefinedMetricWarning)\n",
      "C:\\Users\\pablo\\anaconda3\\Lib\\site-packages\\sklearn\\metrics\\_regression.py:1187: UndefinedMetricWarning: R^2 score is not well-defined with less than two samples.\n",
      "  warnings.warn(msg, UndefinedMetricWarning)\n",
      "C:\\Users\\pablo\\anaconda3\\Lib\\site-packages\\sklearn\\metrics\\_regression.py:1187: UndefinedMetricWarning: R^2 score is not well-defined with less than two samples.\n",
      "  warnings.warn(msg, UndefinedMetricWarning)\n",
      "C:\\Users\\pablo\\anaconda3\\Lib\\site-packages\\sklearn\\metrics\\_regression.py:1187: UndefinedMetricWarning: R^2 score is not well-defined with less than two samples.\n",
      "  warnings.warn(msg, UndefinedMetricWarning)\n",
      "C:\\Users\\pablo\\anaconda3\\Lib\\site-packages\\sklearn\\metrics\\_regression.py:1187: UndefinedMetricWarning: R^2 score is not well-defined with less than two samples.\n",
      "  warnings.warn(msg, UndefinedMetricWarning)\n"
     ]
    },
    {
     "name": "stdout",
     "output_type": "stream",
     "text": [
      "Correlation dimension X: 0.06085287864672754\n",
      "Correlation dimension Y: 0.030752417641715723\n",
      "Joint correlation dimension XY: 0.042583428240193566\n",
      "Mutual dimension: 0.04902186804824969\n",
      "Processing patient: Subject14\n",
      "Opening raw data file C:\\Users\\pablo\\Documents\\UNIVERSIDAD\\TFG\\eeg-during-mental-arithmetic-tasks-1.0.0\\eeg-during-mental-arithmetic-tasks-1.0.0\\pacientes_antes\\recortados\\Subject14_1_recortado.fif...\n",
      "Isotrak not found\n",
      "    Range : 0 ... 30999 =      0.000 ...    61.998 secs\n",
      "Ready.\n",
      "Reading 0 ... 30999  =      0.000 ...    61.998 secs...\n",
      "Extracting EDF parameters from C:\\Users\\pablo\\Documents\\UNIVERSIDAD\\TFG\\eeg-during-mental-arithmetic-tasks-1.0.0\\eeg-during-mental-arithmetic-tasks-1.0.0\\pacientes_durante\\Subject14_2.edf...\n",
      "EDF file detected\n",
      "Setting channel info structure...\n",
      "Creating raw.info structure...\n",
      "Reading 0 ... 30999  =      0.000 ...    61.998 secs...\n"
     ]
    },
    {
     "name": "stderr",
     "output_type": "stream",
     "text": [
      "C:\\Users\\pablo\\AppData\\Local\\Temp\\ipykernel_18512\\2716403607.py:8: RuntimeWarning: This filename (C:\\Users\\pablo\\Documents\\UNIVERSIDAD\\TFG\\eeg-during-mental-arithmetic-tasks-1.0.0\\eeg-during-mental-arithmetic-tasks-1.0.0\\pacientes_antes\\recortados\\Subject14_1_recortado.fif) does not conform to MNE naming conventions. All raw files should end with raw.fif, raw_sss.fif, raw_tsss.fif, _meg.fif, _eeg.fif, _ieeg.fif, raw.fif.gz, raw_sss.fif.gz, raw_tsss.fif.gz, _meg.fif.gz, _eeg.fif.gz or _ieeg.fif.gz\n",
      "  raw1 = mne.io.read_raw_fif(file_path_1, preload=True)\n",
      "C:\\Users\\pablo\\anaconda3\\Lib\\site-packages\\sklearn\\metrics\\_regression.py:1187: UndefinedMetricWarning: R^2 score is not well-defined with less than two samples.\n",
      "  warnings.warn(msg, UndefinedMetricWarning)\n",
      "C:\\Users\\pablo\\anaconda3\\Lib\\site-packages\\sklearn\\metrics\\_regression.py:1187: UndefinedMetricWarning: R^2 score is not well-defined with less than two samples.\n",
      "  warnings.warn(msg, UndefinedMetricWarning)\n",
      "C:\\Users\\pablo\\anaconda3\\Lib\\site-packages\\sklearn\\metrics\\_regression.py:1187: UndefinedMetricWarning: R^2 score is not well-defined with less than two samples.\n",
      "  warnings.warn(msg, UndefinedMetricWarning)\n",
      "C:\\Users\\pablo\\anaconda3\\Lib\\site-packages\\sklearn\\metrics\\_regression.py:1187: UndefinedMetricWarning: R^2 score is not well-defined with less than two samples.\n",
      "  warnings.warn(msg, UndefinedMetricWarning)\n",
      "C:\\Users\\pablo\\anaconda3\\Lib\\site-packages\\sklearn\\metrics\\_regression.py:1187: UndefinedMetricWarning: R^2 score is not well-defined with less than two samples.\n",
      "  warnings.warn(msg, UndefinedMetricWarning)\n",
      "C:\\Users\\pablo\\anaconda3\\Lib\\site-packages\\sklearn\\metrics\\_regression.py:1187: UndefinedMetricWarning: R^2 score is not well-defined with less than two samples.\n",
      "  warnings.warn(msg, UndefinedMetricWarning)\n",
      "C:\\Users\\pablo\\anaconda3\\Lib\\site-packages\\sklearn\\metrics\\_regression.py:1187: UndefinedMetricWarning: R^2 score is not well-defined with less than two samples.\n",
      "  warnings.warn(msg, UndefinedMetricWarning)\n"
     ]
    },
    {
     "name": "stdout",
     "output_type": "stream",
     "text": [
      "Correlation dimension X: 0.006013172735651576\n",
      "Correlation dimension Y: 0.03404799066215731\n",
      "Joint correlation dimension XY: 0.019437019506712828\n",
      "Mutual dimension: 0.02062414389109606\n",
      "Processing patient: Subject15\n",
      "Opening raw data file C:\\Users\\pablo\\Documents\\UNIVERSIDAD\\TFG\\eeg-during-mental-arithmetic-tasks-1.0.0\\eeg-during-mental-arithmetic-tasks-1.0.0\\pacientes_antes\\recortados\\Subject15_1_recortado.fif...\n",
      "Isotrak not found\n",
      "    Range : 0 ... 30999 =      0.000 ...    61.998 secs\n",
      "Ready.\n",
      "Reading 0 ... 30999  =      0.000 ...    61.998 secs...\n",
      "Extracting EDF parameters from C:\\Users\\pablo\\Documents\\UNIVERSIDAD\\TFG\\eeg-during-mental-arithmetic-tasks-1.0.0\\eeg-during-mental-arithmetic-tasks-1.0.0\\pacientes_durante\\Subject15_2.edf...\n",
      "EDF file detected\n",
      "Setting channel info structure...\n",
      "Creating raw.info structure...\n",
      "Reading 0 ... 30999  =      0.000 ...    61.998 secs...\n"
     ]
    },
    {
     "name": "stderr",
     "output_type": "stream",
     "text": [
      "C:\\Users\\pablo\\anaconda3\\Lib\\site-packages\\sklearn\\metrics\\_regression.py:1187: UndefinedMetricWarning: R^2 score is not well-defined with less than two samples.\n",
      "  warnings.warn(msg, UndefinedMetricWarning)\n",
      "C:\\Users\\pablo\\AppData\\Local\\Temp\\ipykernel_18512\\2716403607.py:8: RuntimeWarning: This filename (C:\\Users\\pablo\\Documents\\UNIVERSIDAD\\TFG\\eeg-during-mental-arithmetic-tasks-1.0.0\\eeg-during-mental-arithmetic-tasks-1.0.0\\pacientes_antes\\recortados\\Subject15_1_recortado.fif) does not conform to MNE naming conventions. All raw files should end with raw.fif, raw_sss.fif, raw_tsss.fif, _meg.fif, _eeg.fif, _ieeg.fif, raw.fif.gz, raw_sss.fif.gz, raw_tsss.fif.gz, _meg.fif.gz, _eeg.fif.gz or _ieeg.fif.gz\n",
      "  raw1 = mne.io.read_raw_fif(file_path_1, preload=True)\n",
      "C:\\Users\\pablo\\anaconda3\\Lib\\site-packages\\sklearn\\metrics\\_regression.py:1187: UndefinedMetricWarning: R^2 score is not well-defined with less than two samples.\n",
      "  warnings.warn(msg, UndefinedMetricWarning)\n",
      "C:\\Users\\pablo\\anaconda3\\Lib\\site-packages\\sklearn\\metrics\\_regression.py:1187: UndefinedMetricWarning: R^2 score is not well-defined with less than two samples.\n",
      "  warnings.warn(msg, UndefinedMetricWarning)\n",
      "C:\\Users\\pablo\\anaconda3\\Lib\\site-packages\\sklearn\\metrics\\_regression.py:1187: UndefinedMetricWarning: R^2 score is not well-defined with less than two samples.\n",
      "  warnings.warn(msg, UndefinedMetricWarning)\n",
      "C:\\Users\\pablo\\anaconda3\\Lib\\site-packages\\sklearn\\metrics\\_regression.py:1187: UndefinedMetricWarning: R^2 score is not well-defined with less than two samples.\n",
      "  warnings.warn(msg, UndefinedMetricWarning)\n",
      "C:\\Users\\pablo\\anaconda3\\Lib\\site-packages\\sklearn\\metrics\\_regression.py:1187: UndefinedMetricWarning: R^2 score is not well-defined with less than two samples.\n",
      "  warnings.warn(msg, UndefinedMetricWarning)\n",
      "C:\\Users\\pablo\\anaconda3\\Lib\\site-packages\\sklearn\\metrics\\_regression.py:1187: UndefinedMetricWarning: R^2 score is not well-defined with less than two samples.\n",
      "  warnings.warn(msg, UndefinedMetricWarning)\n",
      "C:\\Users\\pablo\\anaconda3\\Lib\\site-packages\\sklearn\\metrics\\_regression.py:1187: UndefinedMetricWarning: R^2 score is not well-defined with less than two samples.\n",
      "  warnings.warn(msg, UndefinedMetricWarning)\n"
     ]
    },
    {
     "name": "stdout",
     "output_type": "stream",
     "text": [
      "Correlation dimension X: 0.04800246992686306\n",
      "Correlation dimension Y: 0.04851227846664682\n",
      "Joint correlation dimension XY: 0.0499320186758484\n",
      "Mutual dimension: 0.046582729717661475\n",
      "Processing patient: Subject16\n",
      "Opening raw data file C:\\Users\\pablo\\Documents\\UNIVERSIDAD\\TFG\\eeg-during-mental-arithmetic-tasks-1.0.0\\eeg-during-mental-arithmetic-tasks-1.0.0\\pacientes_antes\\recortados\\Subject16_1_recortado.fif...\n",
      "Isotrak not found\n",
      "    Range : 0 ... 30999 =      0.000 ...    61.998 secs\n",
      "Ready.\n",
      "Reading 0 ... 30999  =      0.000 ...    61.998 secs...\n",
      "Extracting EDF parameters from C:\\Users\\pablo\\Documents\\UNIVERSIDAD\\TFG\\eeg-during-mental-arithmetic-tasks-1.0.0\\eeg-during-mental-arithmetic-tasks-1.0.0\\pacientes_durante\\Subject16_2.edf...\n",
      "EDF file detected\n",
      "Setting channel info structure...\n",
      "Creating raw.info structure...\n",
      "Reading 0 ... 30999  =      0.000 ...    61.998 secs...\n"
     ]
    },
    {
     "name": "stderr",
     "output_type": "stream",
     "text": [
      "C:\\Users\\pablo\\AppData\\Local\\Temp\\ipykernel_18512\\2716403607.py:8: RuntimeWarning: This filename (C:\\Users\\pablo\\Documents\\UNIVERSIDAD\\TFG\\eeg-during-mental-arithmetic-tasks-1.0.0\\eeg-during-mental-arithmetic-tasks-1.0.0\\pacientes_antes\\recortados\\Subject16_1_recortado.fif) does not conform to MNE naming conventions. All raw files should end with raw.fif, raw_sss.fif, raw_tsss.fif, _meg.fif, _eeg.fif, _ieeg.fif, raw.fif.gz, raw_sss.fif.gz, raw_tsss.fif.gz, _meg.fif.gz, _eeg.fif.gz or _ieeg.fif.gz\n",
      "  raw1 = mne.io.read_raw_fif(file_path_1, preload=True)\n",
      "C:\\Users\\pablo\\anaconda3\\Lib\\site-packages\\sklearn\\metrics\\_regression.py:1187: UndefinedMetricWarning: R^2 score is not well-defined with less than two samples.\n",
      "  warnings.warn(msg, UndefinedMetricWarning)\n",
      "C:\\Users\\pablo\\anaconda3\\Lib\\site-packages\\sklearn\\metrics\\_regression.py:1187: UndefinedMetricWarning: R^2 score is not well-defined with less than two samples.\n",
      "  warnings.warn(msg, UndefinedMetricWarning)\n",
      "C:\\Users\\pablo\\anaconda3\\Lib\\site-packages\\sklearn\\metrics\\_regression.py:1187: UndefinedMetricWarning: R^2 score is not well-defined with less than two samples.\n",
      "  warnings.warn(msg, UndefinedMetricWarning)\n",
      "C:\\Users\\pablo\\anaconda3\\Lib\\site-packages\\sklearn\\metrics\\_regression.py:1187: UndefinedMetricWarning: R^2 score is not well-defined with less than two samples.\n",
      "  warnings.warn(msg, UndefinedMetricWarning)\n",
      "C:\\Users\\pablo\\anaconda3\\Lib\\site-packages\\sklearn\\metrics\\_regression.py:1187: UndefinedMetricWarning: R^2 score is not well-defined with less than two samples.\n",
      "  warnings.warn(msg, UndefinedMetricWarning)\n",
      "C:\\Users\\pablo\\anaconda3\\Lib\\site-packages\\sklearn\\metrics\\_regression.py:1187: UndefinedMetricWarning: R^2 score is not well-defined with less than two samples.\n",
      "  warnings.warn(msg, UndefinedMetricWarning)\n",
      "C:\\Users\\pablo\\anaconda3\\Lib\\site-packages\\sklearn\\metrics\\_regression.py:1187: UndefinedMetricWarning: R^2 score is not well-defined with less than two samples.\n",
      "  warnings.warn(msg, UndefinedMetricWarning)\n",
      "C:\\Users\\pablo\\anaconda3\\Lib\\site-packages\\sklearn\\metrics\\_regression.py:1187: UndefinedMetricWarning: R^2 score is not well-defined with less than two samples.\n",
      "  warnings.warn(msg, UndefinedMetricWarning)\n",
      "C:\\Users\\pablo\\anaconda3\\Lib\\site-packages\\sklearn\\metrics\\_regression.py:1187: UndefinedMetricWarning: R^2 score is not well-defined with less than two samples.\n",
      "  warnings.warn(msg, UndefinedMetricWarning)\n",
      "C:\\Users\\pablo\\anaconda3\\Lib\\site-packages\\sklearn\\metrics\\_regression.py:1187: UndefinedMetricWarning: R^2 score is not well-defined with less than two samples.\n",
      "  warnings.warn(msg, UndefinedMetricWarning)\n",
      "C:\\Users\\pablo\\anaconda3\\Lib\\site-packages\\sklearn\\metrics\\_regression.py:1187: UndefinedMetricWarning: R^2 score is not well-defined with less than two samples.\n",
      "  warnings.warn(msg, UndefinedMetricWarning)\n"
     ]
    },
    {
     "name": "stdout",
     "output_type": "stream",
     "text": [
      "Correlation dimension X: 0.057969256166718885\n",
      "Correlation dimension Y: 0.011331632808472353\n",
      "Joint correlation dimension XY: 0.03495723269277553\n",
      "Mutual dimension: 0.03434365628241571\n",
      "Processing patient: Subject17\n",
      "Opening raw data file C:\\Users\\pablo\\Documents\\UNIVERSIDAD\\TFG\\eeg-during-mental-arithmetic-tasks-1.0.0\\eeg-during-mental-arithmetic-tasks-1.0.0\\pacientes_antes\\recortados\\Subject17_1_recortado.fif...\n",
      "Isotrak not found\n",
      "    Range : 0 ... 30999 =      0.000 ...    61.998 secs\n",
      "Ready.\n",
      "Reading 0 ... 30999  =      0.000 ...    61.998 secs...\n",
      "Extracting EDF parameters from C:\\Users\\pablo\\Documents\\UNIVERSIDAD\\TFG\\eeg-during-mental-arithmetic-tasks-1.0.0\\eeg-during-mental-arithmetic-tasks-1.0.0\\pacientes_durante\\Subject17_2.edf...\n",
      "EDF file detected\n",
      "Setting channel info structure...\n",
      "Creating raw.info structure...\n",
      "Reading 0 ... 30999  =      0.000 ...    61.998 secs...\n"
     ]
    },
    {
     "name": "stderr",
     "output_type": "stream",
     "text": [
      "C:\\Users\\pablo\\AppData\\Local\\Temp\\ipykernel_18512\\2716403607.py:8: RuntimeWarning: This filename (C:\\Users\\pablo\\Documents\\UNIVERSIDAD\\TFG\\eeg-during-mental-arithmetic-tasks-1.0.0\\eeg-during-mental-arithmetic-tasks-1.0.0\\pacientes_antes\\recortados\\Subject17_1_recortado.fif) does not conform to MNE naming conventions. All raw files should end with raw.fif, raw_sss.fif, raw_tsss.fif, _meg.fif, _eeg.fif, _ieeg.fif, raw.fif.gz, raw_sss.fif.gz, raw_tsss.fif.gz, _meg.fif.gz, _eeg.fif.gz or _ieeg.fif.gz\n",
      "  raw1 = mne.io.read_raw_fif(file_path_1, preload=True)\n",
      "C:\\Users\\pablo\\anaconda3\\Lib\\site-packages\\sklearn\\metrics\\_regression.py:1187: UndefinedMetricWarning: R^2 score is not well-defined with less than two samples.\n",
      "  warnings.warn(msg, UndefinedMetricWarning)\n",
      "C:\\Users\\pablo\\anaconda3\\Lib\\site-packages\\sklearn\\metrics\\_regression.py:1187: UndefinedMetricWarning: R^2 score is not well-defined with less than two samples.\n",
      "  warnings.warn(msg, UndefinedMetricWarning)\n",
      "C:\\Users\\pablo\\anaconda3\\Lib\\site-packages\\sklearn\\metrics\\_regression.py:1187: UndefinedMetricWarning: R^2 score is not well-defined with less than two samples.\n",
      "  warnings.warn(msg, UndefinedMetricWarning)\n",
      "C:\\Users\\pablo\\anaconda3\\Lib\\site-packages\\sklearn\\metrics\\_regression.py:1187: UndefinedMetricWarning: R^2 score is not well-defined with less than two samples.\n",
      "  warnings.warn(msg, UndefinedMetricWarning)\n",
      "C:\\Users\\pablo\\anaconda3\\Lib\\site-packages\\sklearn\\metrics\\_regression.py:1187: UndefinedMetricWarning: R^2 score is not well-defined with less than two samples.\n",
      "  warnings.warn(msg, UndefinedMetricWarning)\n",
      "C:\\Users\\pablo\\anaconda3\\Lib\\site-packages\\sklearn\\metrics\\_regression.py:1187: UndefinedMetricWarning: R^2 score is not well-defined with less than two samples.\n",
      "  warnings.warn(msg, UndefinedMetricWarning)\n",
      "C:\\Users\\pablo\\anaconda3\\Lib\\site-packages\\sklearn\\metrics\\_regression.py:1187: UndefinedMetricWarning: R^2 score is not well-defined with less than two samples.\n",
      "  warnings.warn(msg, UndefinedMetricWarning)\n"
     ]
    },
    {
     "name": "stdout",
     "output_type": "stream",
     "text": [
      "Correlation dimension X: 0.06310632096520429\n",
      "Correlation dimension Y: 0.01224392215528706\n",
      "Joint correlation dimension XY: 0.032167156510707014\n",
      "Mutual dimension: 0.04318308660978434\n",
      "Processing patient: Subject18\n",
      "Opening raw data file C:\\Users\\pablo\\Documents\\UNIVERSIDAD\\TFG\\eeg-during-mental-arithmetic-tasks-1.0.0\\eeg-during-mental-arithmetic-tasks-1.0.0\\pacientes_antes\\recortados\\Subject18_1_recortado.fif...\n",
      "Isotrak not found\n",
      "    Range : 0 ... 30999 =      0.000 ...    61.998 secs\n",
      "Ready.\n",
      "Reading 0 ... 30999  =      0.000 ...    61.998 secs...\n",
      "Extracting EDF parameters from C:\\Users\\pablo\\Documents\\UNIVERSIDAD\\TFG\\eeg-during-mental-arithmetic-tasks-1.0.0\\eeg-during-mental-arithmetic-tasks-1.0.0\\pacientes_durante\\Subject18_2.edf...\n",
      "EDF file detected\n",
      "Setting channel info structure...\n",
      "Creating raw.info structure...\n",
      "Reading 0 ... 30999  =      0.000 ...    61.998 secs...\n"
     ]
    },
    {
     "name": "stderr",
     "output_type": "stream",
     "text": [
      "C:\\Users\\pablo\\AppData\\Local\\Temp\\ipykernel_18512\\2716403607.py:8: RuntimeWarning: This filename (C:\\Users\\pablo\\Documents\\UNIVERSIDAD\\TFG\\eeg-during-mental-arithmetic-tasks-1.0.0\\eeg-during-mental-arithmetic-tasks-1.0.0\\pacientes_antes\\recortados\\Subject18_1_recortado.fif) does not conform to MNE naming conventions. All raw files should end with raw.fif, raw_sss.fif, raw_tsss.fif, _meg.fif, _eeg.fif, _ieeg.fif, raw.fif.gz, raw_sss.fif.gz, raw_tsss.fif.gz, _meg.fif.gz, _eeg.fif.gz or _ieeg.fif.gz\n",
      "  raw1 = mne.io.read_raw_fif(file_path_1, preload=True)\n",
      "C:\\Users\\pablo\\anaconda3\\Lib\\site-packages\\sklearn\\metrics\\_regression.py:1187: UndefinedMetricWarning: R^2 score is not well-defined with less than two samples.\n",
      "  warnings.warn(msg, UndefinedMetricWarning)\n",
      "C:\\Users\\pablo\\anaconda3\\Lib\\site-packages\\sklearn\\metrics\\_regression.py:1187: UndefinedMetricWarning: R^2 score is not well-defined with less than two samples.\n",
      "  warnings.warn(msg, UndefinedMetricWarning)\n",
      "C:\\Users\\pablo\\anaconda3\\Lib\\site-packages\\sklearn\\metrics\\_regression.py:1187: UndefinedMetricWarning: R^2 score is not well-defined with less than two samples.\n",
      "  warnings.warn(msg, UndefinedMetricWarning)\n",
      "C:\\Users\\pablo\\anaconda3\\Lib\\site-packages\\sklearn\\metrics\\_regression.py:1187: UndefinedMetricWarning: R^2 score is not well-defined with less than two samples.\n",
      "  warnings.warn(msg, UndefinedMetricWarning)\n"
     ]
    },
    {
     "name": "stdout",
     "output_type": "stream",
     "text": [
      "Correlation dimension X: 0.023685188365115333\n",
      "Correlation dimension Y: 0.012895740732536555\n",
      "Joint correlation dimension XY: 0.018803939500452713\n",
      "Mutual dimension: 0.017776989597199172\n",
      "Processing patient: Subject19\n",
      "Opening raw data file C:\\Users\\pablo\\Documents\\UNIVERSIDAD\\TFG\\eeg-during-mental-arithmetic-tasks-1.0.0\\eeg-during-mental-arithmetic-tasks-1.0.0\\pacientes_antes\\recortados\\Subject19_1_recortado.fif...\n",
      "Isotrak not found\n",
      "    Range : 0 ... 30999 =      0.000 ...    61.998 secs\n",
      "Ready.\n",
      "Reading 0 ... 30999  =      0.000 ...    61.998 secs...\n",
      "Extracting EDF parameters from C:\\Users\\pablo\\Documents\\UNIVERSIDAD\\TFG\\eeg-during-mental-arithmetic-tasks-1.0.0\\eeg-during-mental-arithmetic-tasks-1.0.0\\pacientes_durante\\Subject19_2.edf...\n",
      "EDF file detected\n",
      "Setting channel info structure...\n",
      "Creating raw.info structure...\n",
      "Reading 0 ... 30999  =      0.000 ...    61.998 secs...\n"
     ]
    },
    {
     "name": "stderr",
     "output_type": "stream",
     "text": [
      "C:\\Users\\pablo\\AppData\\Local\\Temp\\ipykernel_18512\\2716403607.py:8: RuntimeWarning: This filename (C:\\Users\\pablo\\Documents\\UNIVERSIDAD\\TFG\\eeg-during-mental-arithmetic-tasks-1.0.0\\eeg-during-mental-arithmetic-tasks-1.0.0\\pacientes_antes\\recortados\\Subject19_1_recortado.fif) does not conform to MNE naming conventions. All raw files should end with raw.fif, raw_sss.fif, raw_tsss.fif, _meg.fif, _eeg.fif, _ieeg.fif, raw.fif.gz, raw_sss.fif.gz, raw_tsss.fif.gz, _meg.fif.gz, _eeg.fif.gz or _ieeg.fif.gz\n",
      "  raw1 = mne.io.read_raw_fif(file_path_1, preload=True)\n",
      "C:\\Users\\pablo\\anaconda3\\Lib\\site-packages\\sklearn\\metrics\\_regression.py:1187: UndefinedMetricWarning: R^2 score is not well-defined with less than two samples.\n",
      "  warnings.warn(msg, UndefinedMetricWarning)\n",
      "C:\\Users\\pablo\\anaconda3\\Lib\\site-packages\\sklearn\\metrics\\_regression.py:1187: UndefinedMetricWarning: R^2 score is not well-defined with less than two samples.\n",
      "  warnings.warn(msg, UndefinedMetricWarning)\n",
      "C:\\Users\\pablo\\anaconda3\\Lib\\site-packages\\sklearn\\metrics\\_regression.py:1187: UndefinedMetricWarning: R^2 score is not well-defined with less than two samples.\n",
      "  warnings.warn(msg, UndefinedMetricWarning)\n",
      "C:\\Users\\pablo\\anaconda3\\Lib\\site-packages\\sklearn\\metrics\\_regression.py:1187: UndefinedMetricWarning: R^2 score is not well-defined with less than two samples.\n",
      "  warnings.warn(msg, UndefinedMetricWarning)\n"
     ]
    },
    {
     "name": "stdout",
     "output_type": "stream",
     "text": [
      "Correlation dimension X: 0.021623134106141167\n",
      "Correlation dimension Y: 0.002317644943105198\n",
      "Joint correlation dimension XY: 0.010308256701799868\n",
      "Mutual dimension: 0.013632522347446498\n",
      "Processing patient: Subject20\n",
      "Opening raw data file C:\\Users\\pablo\\Documents\\UNIVERSIDAD\\TFG\\eeg-during-mental-arithmetic-tasks-1.0.0\\eeg-during-mental-arithmetic-tasks-1.0.0\\pacientes_antes\\recortados\\Subject20_1_recortado.fif...\n",
      "Isotrak not found\n",
      "    Range : 0 ... 30999 =      0.000 ...    61.998 secs\n",
      "Ready.\n",
      "Reading 0 ... 30999  =      0.000 ...    61.998 secs...\n",
      "Extracting EDF parameters from C:\\Users\\pablo\\Documents\\UNIVERSIDAD\\TFG\\eeg-during-mental-arithmetic-tasks-1.0.0\\eeg-during-mental-arithmetic-tasks-1.0.0\\pacientes_durante\\Subject20_2.edf...\n",
      "EDF file detected\n",
      "Setting channel info structure...\n",
      "Creating raw.info structure...\n",
      "Reading 0 ... 30999  =      0.000 ...    61.998 secs...\n"
     ]
    },
    {
     "name": "stderr",
     "output_type": "stream",
     "text": [
      "C:\\Users\\pablo\\AppData\\Local\\Temp\\ipykernel_18512\\2716403607.py:8: RuntimeWarning: This filename (C:\\Users\\pablo\\Documents\\UNIVERSIDAD\\TFG\\eeg-during-mental-arithmetic-tasks-1.0.0\\eeg-during-mental-arithmetic-tasks-1.0.0\\pacientes_antes\\recortados\\Subject20_1_recortado.fif) does not conform to MNE naming conventions. All raw files should end with raw.fif, raw_sss.fif, raw_tsss.fif, _meg.fif, _eeg.fif, _ieeg.fif, raw.fif.gz, raw_sss.fif.gz, raw_tsss.fif.gz, _meg.fif.gz, _eeg.fif.gz or _ieeg.fif.gz\n",
      "  raw1 = mne.io.read_raw_fif(file_path_1, preload=True)\n",
      "C:\\Users\\pablo\\anaconda3\\Lib\\site-packages\\sklearn\\metrics\\_regression.py:1187: UndefinedMetricWarning: R^2 score is not well-defined with less than two samples.\n",
      "  warnings.warn(msg, UndefinedMetricWarning)\n",
      "C:\\Users\\pablo\\anaconda3\\Lib\\site-packages\\sklearn\\metrics\\_regression.py:1187: UndefinedMetricWarning: R^2 score is not well-defined with less than two samples.\n",
      "  warnings.warn(msg, UndefinedMetricWarning)\n",
      "C:\\Users\\pablo\\anaconda3\\Lib\\site-packages\\sklearn\\metrics\\_regression.py:1187: UndefinedMetricWarning: R^2 score is not well-defined with less than two samples.\n",
      "  warnings.warn(msg, UndefinedMetricWarning)\n",
      "C:\\Users\\pablo\\anaconda3\\Lib\\site-packages\\sklearn\\metrics\\_regression.py:1187: UndefinedMetricWarning: R^2 score is not well-defined with less than two samples.\n",
      "  warnings.warn(msg, UndefinedMetricWarning)\n",
      "C:\\Users\\pablo\\anaconda3\\Lib\\site-packages\\sklearn\\metrics\\_regression.py:1187: UndefinedMetricWarning: R^2 score is not well-defined with less than two samples.\n",
      "  warnings.warn(msg, UndefinedMetricWarning)\n",
      "C:\\Users\\pablo\\anaconda3\\Lib\\site-packages\\sklearn\\metrics\\_regression.py:1187: UndefinedMetricWarning: R^2 score is not well-defined with less than two samples.\n",
      "  warnings.warn(msg, UndefinedMetricWarning)\n",
      "C:\\Users\\pablo\\anaconda3\\Lib\\site-packages\\sklearn\\metrics\\_regression.py:1187: UndefinedMetricWarning: R^2 score is not well-defined with less than two samples.\n",
      "  warnings.warn(msg, UndefinedMetricWarning)\n",
      "C:\\Users\\pablo\\anaconda3\\Lib\\site-packages\\sklearn\\metrics\\_regression.py:1187: UndefinedMetricWarning: R^2 score is not well-defined with less than two samples.\n",
      "  warnings.warn(msg, UndefinedMetricWarning)\n",
      "C:\\Users\\pablo\\anaconda3\\Lib\\site-packages\\sklearn\\metrics\\_regression.py:1187: UndefinedMetricWarning: R^2 score is not well-defined with less than two samples.\n",
      "  warnings.warn(msg, UndefinedMetricWarning)\n",
      "C:\\Users\\pablo\\anaconda3\\Lib\\site-packages\\sklearn\\metrics\\_regression.py:1187: UndefinedMetricWarning: R^2 score is not well-defined with less than two samples.\n",
      "  warnings.warn(msg, UndefinedMetricWarning)\n"
     ]
    },
    {
     "name": "stdout",
     "output_type": "stream",
     "text": [
      "Correlation dimension X: 0.04468300092844125\n",
      "Correlation dimension Y: 0.15922453851892854\n",
      "Joint correlation dimension XY: 0.1012573894505749\n",
      "Mutual dimension: 0.10265014999679488\n",
      "Processing patient: Subject21\n",
      "Opening raw data file C:\\Users\\pablo\\Documents\\UNIVERSIDAD\\TFG\\eeg-during-mental-arithmetic-tasks-1.0.0\\eeg-during-mental-arithmetic-tasks-1.0.0\\pacientes_antes\\recortados\\Subject21_1_recortado.fif...\n",
      "Isotrak not found\n",
      "    Range : 0 ... 30999 =      0.000 ...    61.998 secs\n",
      "Ready.\n",
      "Reading 0 ... 30999  =      0.000 ...    61.998 secs...\n",
      "Extracting EDF parameters from C:\\Users\\pablo\\Documents\\UNIVERSIDAD\\TFG\\eeg-during-mental-arithmetic-tasks-1.0.0\\eeg-during-mental-arithmetic-tasks-1.0.0\\pacientes_durante\\Subject21_2.edf...\n",
      "EDF file detected\n",
      "Setting channel info structure...\n",
      "Creating raw.info structure...\n",
      "Reading 0 ... 30999  =      0.000 ...    61.998 secs...\n"
     ]
    },
    {
     "name": "stderr",
     "output_type": "stream",
     "text": [
      "C:\\Users\\pablo\\AppData\\Local\\Temp\\ipykernel_18512\\2716403607.py:8: RuntimeWarning: This filename (C:\\Users\\pablo\\Documents\\UNIVERSIDAD\\TFG\\eeg-during-mental-arithmetic-tasks-1.0.0\\eeg-during-mental-arithmetic-tasks-1.0.0\\pacientes_antes\\recortados\\Subject21_1_recortado.fif) does not conform to MNE naming conventions. All raw files should end with raw.fif, raw_sss.fif, raw_tsss.fif, _meg.fif, _eeg.fif, _ieeg.fif, raw.fif.gz, raw_sss.fif.gz, raw_tsss.fif.gz, _meg.fif.gz, _eeg.fif.gz or _ieeg.fif.gz\n",
      "  raw1 = mne.io.read_raw_fif(file_path_1, preload=True)\n",
      "C:\\Users\\pablo\\anaconda3\\Lib\\site-packages\\sklearn\\metrics\\_regression.py:1187: UndefinedMetricWarning: R^2 score is not well-defined with less than two samples.\n",
      "  warnings.warn(msg, UndefinedMetricWarning)\n",
      "C:\\Users\\pablo\\anaconda3\\Lib\\site-packages\\sklearn\\metrics\\_regression.py:1187: UndefinedMetricWarning: R^2 score is not well-defined with less than two samples.\n",
      "  warnings.warn(msg, UndefinedMetricWarning)\n",
      "C:\\Users\\pablo\\anaconda3\\Lib\\site-packages\\sklearn\\metrics\\_regression.py:1187: UndefinedMetricWarning: R^2 score is not well-defined with less than two samples.\n",
      "  warnings.warn(msg, UndefinedMetricWarning)\n",
      "C:\\Users\\pablo\\anaconda3\\Lib\\site-packages\\sklearn\\metrics\\_regression.py:1187: UndefinedMetricWarning: R^2 score is not well-defined with less than two samples.\n",
      "  warnings.warn(msg, UndefinedMetricWarning)\n",
      "C:\\Users\\pablo\\anaconda3\\Lib\\site-packages\\sklearn\\metrics\\_regression.py:1187: UndefinedMetricWarning: R^2 score is not well-defined with less than two samples.\n",
      "  warnings.warn(msg, UndefinedMetricWarning)\n",
      "C:\\Users\\pablo\\anaconda3\\Lib\\site-packages\\sklearn\\metrics\\_regression.py:1187: UndefinedMetricWarning: R^2 score is not well-defined with less than two samples.\n",
      "  warnings.warn(msg, UndefinedMetricWarning)\n"
     ]
    },
    {
     "name": "stdout",
     "output_type": "stream",
     "text": [
      "Correlation dimension X: 0.023139362356950927\n",
      "Correlation dimension Y: 0.02439778524555657\n",
      "Joint correlation dimension XY: 0.023526043115462816\n",
      "Mutual dimension: 0.02401110448704468\n",
      "Processing patient: Subject22\n",
      "Opening raw data file C:\\Users\\pablo\\Documents\\UNIVERSIDAD\\TFG\\eeg-during-mental-arithmetic-tasks-1.0.0\\eeg-during-mental-arithmetic-tasks-1.0.0\\pacientes_antes\\recortados\\Subject22_1_recortado.fif...\n",
      "Isotrak not found\n",
      "    Range : 0 ... 30999 =      0.000 ...    61.998 secs\n",
      "Ready.\n",
      "Reading 0 ... 30999  =      0.000 ...    61.998 secs...\n",
      "Extracting EDF parameters from C:\\Users\\pablo\\Documents\\UNIVERSIDAD\\TFG\\eeg-during-mental-arithmetic-tasks-1.0.0\\eeg-during-mental-arithmetic-tasks-1.0.0\\pacientes_durante\\Subject22_2.edf...\n",
      "EDF file detected\n",
      "Setting channel info structure...\n",
      "Creating raw.info structure...\n",
      "Reading 0 ... 30999  =      0.000 ...    61.998 secs...\n"
     ]
    },
    {
     "name": "stderr",
     "output_type": "stream",
     "text": [
      "C:\\Users\\pablo\\AppData\\Local\\Temp\\ipykernel_18512\\2716403607.py:8: RuntimeWarning: This filename (C:\\Users\\pablo\\Documents\\UNIVERSIDAD\\TFG\\eeg-during-mental-arithmetic-tasks-1.0.0\\eeg-during-mental-arithmetic-tasks-1.0.0\\pacientes_antes\\recortados\\Subject22_1_recortado.fif) does not conform to MNE naming conventions. All raw files should end with raw.fif, raw_sss.fif, raw_tsss.fif, _meg.fif, _eeg.fif, _ieeg.fif, raw.fif.gz, raw_sss.fif.gz, raw_tsss.fif.gz, _meg.fif.gz, _eeg.fif.gz or _ieeg.fif.gz\n",
      "  raw1 = mne.io.read_raw_fif(file_path_1, preload=True)\n",
      "C:\\Users\\pablo\\anaconda3\\Lib\\site-packages\\sklearn\\metrics\\_regression.py:1187: UndefinedMetricWarning: R^2 score is not well-defined with less than two samples.\n",
      "  warnings.warn(msg, UndefinedMetricWarning)\n",
      "C:\\Users\\pablo\\anaconda3\\Lib\\site-packages\\sklearn\\metrics\\_regression.py:1187: UndefinedMetricWarning: R^2 score is not well-defined with less than two samples.\n",
      "  warnings.warn(msg, UndefinedMetricWarning)\n",
      "C:\\Users\\pablo\\anaconda3\\Lib\\site-packages\\sklearn\\metrics\\_regression.py:1187: UndefinedMetricWarning: R^2 score is not well-defined with less than two samples.\n",
      "  warnings.warn(msg, UndefinedMetricWarning)\n",
      "C:\\Users\\pablo\\anaconda3\\Lib\\site-packages\\sklearn\\metrics\\_regression.py:1187: UndefinedMetricWarning: R^2 score is not well-defined with less than two samples.\n",
      "  warnings.warn(msg, UndefinedMetricWarning)\n",
      "C:\\Users\\pablo\\anaconda3\\Lib\\site-packages\\sklearn\\metrics\\_regression.py:1187: UndefinedMetricWarning: R^2 score is not well-defined with less than two samples.\n",
      "  warnings.warn(msg, UndefinedMetricWarning)\n",
      "C:\\Users\\pablo\\anaconda3\\Lib\\site-packages\\sklearn\\metrics\\_regression.py:1187: UndefinedMetricWarning: R^2 score is not well-defined with less than two samples.\n",
      "  warnings.warn(msg, UndefinedMetricWarning)\n",
      "C:\\Users\\pablo\\anaconda3\\Lib\\site-packages\\sklearn\\metrics\\_regression.py:1187: UndefinedMetricWarning: R^2 score is not well-defined with less than two samples.\n",
      "  warnings.warn(msg, UndefinedMetricWarning)\n"
     ]
    },
    {
     "name": "stdout",
     "output_type": "stream",
     "text": [
      "Correlation dimension X: 0.08260622857500564\n",
      "Correlation dimension Y: 0.0856435404765075\n",
      "Joint correlation dimension XY: 0.07148942569272387\n",
      "Mutual dimension: 0.09676034335878927\n",
      "Processing patient: Subject23\n",
      "Opening raw data file C:\\Users\\pablo\\Documents\\UNIVERSIDAD\\TFG\\eeg-during-mental-arithmetic-tasks-1.0.0\\eeg-during-mental-arithmetic-tasks-1.0.0\\pacientes_antes\\recortados\\Subject23_1_recortado.fif...\n",
      "Isotrak not found\n",
      "    Range : 0 ... 30999 =      0.000 ...    61.998 secs\n",
      "Ready.\n",
      "Reading 0 ... 30999  =      0.000 ...    61.998 secs...\n",
      "Extracting EDF parameters from C:\\Users\\pablo\\Documents\\UNIVERSIDAD\\TFG\\eeg-during-mental-arithmetic-tasks-1.0.0\\eeg-during-mental-arithmetic-tasks-1.0.0\\pacientes_durante\\Subject23_2.edf...\n",
      "EDF file detected\n",
      "Setting channel info structure...\n",
      "Creating raw.info structure...\n",
      "Reading 0 ... 30999  =      0.000 ...    61.998 secs...\n"
     ]
    },
    {
     "name": "stderr",
     "output_type": "stream",
     "text": [
      "C:\\Users\\pablo\\AppData\\Local\\Temp\\ipykernel_18512\\2716403607.py:8: RuntimeWarning: This filename (C:\\Users\\pablo\\Documents\\UNIVERSIDAD\\TFG\\eeg-during-mental-arithmetic-tasks-1.0.0\\eeg-during-mental-arithmetic-tasks-1.0.0\\pacientes_antes\\recortados\\Subject23_1_recortado.fif) does not conform to MNE naming conventions. All raw files should end with raw.fif, raw_sss.fif, raw_tsss.fif, _meg.fif, _eeg.fif, _ieeg.fif, raw.fif.gz, raw_sss.fif.gz, raw_tsss.fif.gz, _meg.fif.gz, _eeg.fif.gz or _ieeg.fif.gz\n",
      "  raw1 = mne.io.read_raw_fif(file_path_1, preload=True)\n",
      "C:\\Users\\pablo\\anaconda3\\Lib\\site-packages\\sklearn\\metrics\\_regression.py:1187: UndefinedMetricWarning: R^2 score is not well-defined with less than two samples.\n",
      "  warnings.warn(msg, UndefinedMetricWarning)\n",
      "C:\\Users\\pablo\\anaconda3\\Lib\\site-packages\\sklearn\\metrics\\_regression.py:1187: UndefinedMetricWarning: R^2 score is not well-defined with less than two samples.\n",
      "  warnings.warn(msg, UndefinedMetricWarning)\n"
     ]
    },
    {
     "name": "stdout",
     "output_type": "stream",
     "text": [
      "Correlation dimension X: 0.06361686654548161\n",
      "Correlation dimension Y: 0.10703540173863224\n",
      "Joint correlation dimension XY: 0.08590009661843205\n",
      "Mutual dimension: 0.08475217166568179\n",
      "Processing patient: Subject24\n",
      "Opening raw data file C:\\Users\\pablo\\Documents\\UNIVERSIDAD\\TFG\\eeg-during-mental-arithmetic-tasks-1.0.0\\eeg-during-mental-arithmetic-tasks-1.0.0\\pacientes_antes\\recortados\\Subject24_1_recortado.fif...\n",
      "Isotrak not found\n",
      "    Range : 0 ... 30999 =      0.000 ...    61.998 secs\n",
      "Ready.\n",
      "Reading 0 ... 30999  =      0.000 ...    61.998 secs...\n",
      "Extracting EDF parameters from C:\\Users\\pablo\\Documents\\UNIVERSIDAD\\TFG\\eeg-during-mental-arithmetic-tasks-1.0.0\\eeg-during-mental-arithmetic-tasks-1.0.0\\pacientes_durante\\Subject24_2.edf...\n",
      "EDF file detected\n",
      "Setting channel info structure...\n",
      "Creating raw.info structure...\n",
      "Reading 0 ... 30999  =      0.000 ...    61.998 secs...\n"
     ]
    },
    {
     "name": "stderr",
     "output_type": "stream",
     "text": [
      "C:\\Users\\pablo\\AppData\\Local\\Temp\\ipykernel_18512\\2716403607.py:8: RuntimeWarning: This filename (C:\\Users\\pablo\\Documents\\UNIVERSIDAD\\TFG\\eeg-during-mental-arithmetic-tasks-1.0.0\\eeg-during-mental-arithmetic-tasks-1.0.0\\pacientes_antes\\recortados\\Subject24_1_recortado.fif) does not conform to MNE naming conventions. All raw files should end with raw.fif, raw_sss.fif, raw_tsss.fif, _meg.fif, _eeg.fif, _ieeg.fif, raw.fif.gz, raw_sss.fif.gz, raw_tsss.fif.gz, _meg.fif.gz, _eeg.fif.gz or _ieeg.fif.gz\n",
      "  raw1 = mne.io.read_raw_fif(file_path_1, preload=True)\n",
      "C:\\Users\\pablo\\anaconda3\\Lib\\site-packages\\sklearn\\metrics\\_regression.py:1187: UndefinedMetricWarning: R^2 score is not well-defined with less than two samples.\n",
      "  warnings.warn(msg, UndefinedMetricWarning)\n",
      "C:\\Users\\pablo\\anaconda3\\Lib\\site-packages\\sklearn\\metrics\\_regression.py:1187: UndefinedMetricWarning: R^2 score is not well-defined with less than two samples.\n",
      "  warnings.warn(msg, UndefinedMetricWarning)\n",
      "C:\\Users\\pablo\\anaconda3\\Lib\\site-packages\\sklearn\\metrics\\_regression.py:1187: UndefinedMetricWarning: R^2 score is not well-defined with less than two samples.\n",
      "  warnings.warn(msg, UndefinedMetricWarning)\n",
      "C:\\Users\\pablo\\anaconda3\\Lib\\site-packages\\sklearn\\metrics\\_regression.py:1187: UndefinedMetricWarning: R^2 score is not well-defined with less than two samples.\n",
      "  warnings.warn(msg, UndefinedMetricWarning)\n",
      "C:\\Users\\pablo\\anaconda3\\Lib\\site-packages\\sklearn\\metrics\\_regression.py:1187: UndefinedMetricWarning: R^2 score is not well-defined with less than two samples.\n",
      "  warnings.warn(msg, UndefinedMetricWarning)\n",
      "C:\\Users\\pablo\\anaconda3\\Lib\\site-packages\\sklearn\\metrics\\_regression.py:1187: UndefinedMetricWarning: R^2 score is not well-defined with less than two samples.\n",
      "  warnings.warn(msg, UndefinedMetricWarning)\n"
     ]
    },
    {
     "name": "stdout",
     "output_type": "stream",
     "text": [
      "Correlation dimension X: 0.03321794918077908\n",
      "Correlation dimension Y: 0.010278260139732093\n",
      "Joint correlation dimension XY: 0.02911673280844169\n",
      "Mutual dimension: 0.014379476512069483\n",
      "Processing patient: Subject25\n",
      "Opening raw data file C:\\Users\\pablo\\Documents\\UNIVERSIDAD\\TFG\\eeg-during-mental-arithmetic-tasks-1.0.0\\eeg-during-mental-arithmetic-tasks-1.0.0\\pacientes_antes\\recortados\\Subject25_1_recortado.fif...\n",
      "Isotrak not found\n",
      "    Range : 0 ... 30999 =      0.000 ...    61.998 secs\n",
      "Ready.\n",
      "Reading 0 ... 30999  =      0.000 ...    61.998 secs...\n",
      "Extracting EDF parameters from C:\\Users\\pablo\\Documents\\UNIVERSIDAD\\TFG\\eeg-during-mental-arithmetic-tasks-1.0.0\\eeg-during-mental-arithmetic-tasks-1.0.0\\pacientes_durante\\Subject25_2.edf...\n",
      "EDF file detected\n",
      "Setting channel info structure...\n",
      "Creating raw.info structure...\n",
      "Reading 0 ... 30999  =      0.000 ...    61.998 secs...\n"
     ]
    },
    {
     "name": "stderr",
     "output_type": "stream",
     "text": [
      "C:\\Users\\pablo\\AppData\\Local\\Temp\\ipykernel_18512\\2716403607.py:8: RuntimeWarning: This filename (C:\\Users\\pablo\\Documents\\UNIVERSIDAD\\TFG\\eeg-during-mental-arithmetic-tasks-1.0.0\\eeg-during-mental-arithmetic-tasks-1.0.0\\pacientes_antes\\recortados\\Subject25_1_recortado.fif) does not conform to MNE naming conventions. All raw files should end with raw.fif, raw_sss.fif, raw_tsss.fif, _meg.fif, _eeg.fif, _ieeg.fif, raw.fif.gz, raw_sss.fif.gz, raw_tsss.fif.gz, _meg.fif.gz, _eeg.fif.gz or _ieeg.fif.gz\n",
      "  raw1 = mne.io.read_raw_fif(file_path_1, preload=True)\n",
      "C:\\Users\\pablo\\anaconda3\\Lib\\site-packages\\sklearn\\metrics\\_regression.py:1187: UndefinedMetricWarning: R^2 score is not well-defined with less than two samples.\n",
      "  warnings.warn(msg, UndefinedMetricWarning)\n",
      "C:\\Users\\pablo\\anaconda3\\Lib\\site-packages\\sklearn\\metrics\\_regression.py:1187: UndefinedMetricWarning: R^2 score is not well-defined with less than two samples.\n",
      "  warnings.warn(msg, UndefinedMetricWarning)\n",
      "C:\\Users\\pablo\\anaconda3\\Lib\\site-packages\\sklearn\\metrics\\_regression.py:1187: UndefinedMetricWarning: R^2 score is not well-defined with less than two samples.\n",
      "  warnings.warn(msg, UndefinedMetricWarning)\n",
      "C:\\Users\\pablo\\anaconda3\\Lib\\site-packages\\sklearn\\metrics\\_regression.py:1187: UndefinedMetricWarning: R^2 score is not well-defined with less than two samples.\n",
      "  warnings.warn(msg, UndefinedMetricWarning)\n",
      "C:\\Users\\pablo\\anaconda3\\Lib\\site-packages\\sklearn\\metrics\\_regression.py:1187: UndefinedMetricWarning: R^2 score is not well-defined with less than two samples.\n",
      "  warnings.warn(msg, UndefinedMetricWarning)\n"
     ]
    },
    {
     "name": "stdout",
     "output_type": "stream",
     "text": [
      "Correlation dimension X: 0.021749834870182547\n",
      "Correlation dimension Y: 0.06103865162696357\n",
      "Joint correlation dimension XY: 0.041143301823030505\n",
      "Mutual dimension: 0.04164518467411562\n",
      "Processing patient: Subject26\n",
      "Opening raw data file C:\\Users\\pablo\\Documents\\UNIVERSIDAD\\TFG\\eeg-during-mental-arithmetic-tasks-1.0.0\\eeg-during-mental-arithmetic-tasks-1.0.0\\pacientes_antes\\recortados\\Subject26_1_recortado.fif...\n",
      "Isotrak not found\n",
      "    Range : 0 ... 30999 =      0.000 ...    61.998 secs\n",
      "Ready.\n",
      "Reading 0 ... 30999  =      0.000 ...    61.998 secs...\n",
      "Extracting EDF parameters from C:\\Users\\pablo\\Documents\\UNIVERSIDAD\\TFG\\eeg-during-mental-arithmetic-tasks-1.0.0\\eeg-during-mental-arithmetic-tasks-1.0.0\\pacientes_durante\\Subject26_2.edf...\n",
      "EDF file detected\n",
      "Setting channel info structure...\n",
      "Creating raw.info structure...\n",
      "Reading 0 ... 30999  =      0.000 ...    61.998 secs...\n"
     ]
    },
    {
     "name": "stderr",
     "output_type": "stream",
     "text": [
      "C:\\Users\\pablo\\AppData\\Local\\Temp\\ipykernel_18512\\2716403607.py:8: RuntimeWarning: This filename (C:\\Users\\pablo\\Documents\\UNIVERSIDAD\\TFG\\eeg-during-mental-arithmetic-tasks-1.0.0\\eeg-during-mental-arithmetic-tasks-1.0.0\\pacientes_antes\\recortados\\Subject26_1_recortado.fif) does not conform to MNE naming conventions. All raw files should end with raw.fif, raw_sss.fif, raw_tsss.fif, _meg.fif, _eeg.fif, _ieeg.fif, raw.fif.gz, raw_sss.fif.gz, raw_tsss.fif.gz, _meg.fif.gz, _eeg.fif.gz or _ieeg.fif.gz\n",
      "  raw1 = mne.io.read_raw_fif(file_path_1, preload=True)\n",
      "C:\\Users\\pablo\\anaconda3\\Lib\\site-packages\\sklearn\\metrics\\_regression.py:1187: UndefinedMetricWarning: R^2 score is not well-defined with less than two samples.\n",
      "  warnings.warn(msg, UndefinedMetricWarning)\n",
      "C:\\Users\\pablo\\anaconda3\\Lib\\site-packages\\sklearn\\metrics\\_regression.py:1187: UndefinedMetricWarning: R^2 score is not well-defined with less than two samples.\n",
      "  warnings.warn(msg, UndefinedMetricWarning)\n",
      "C:\\Users\\pablo\\anaconda3\\Lib\\site-packages\\sklearn\\metrics\\_regression.py:1187: UndefinedMetricWarning: R^2 score is not well-defined with less than two samples.\n",
      "  warnings.warn(msg, UndefinedMetricWarning)\n",
      "C:\\Users\\pablo\\anaconda3\\Lib\\site-packages\\sklearn\\metrics\\_regression.py:1187: UndefinedMetricWarning: R^2 score is not well-defined with less than two samples.\n",
      "  warnings.warn(msg, UndefinedMetricWarning)\n"
     ]
    },
    {
     "name": "stdout",
     "output_type": "stream",
     "text": [
      "Correlation dimension X: 0.08173816168528512\n",
      "Correlation dimension Y: 0.06495922485145329\n",
      "Joint correlation dimension XY: 0.08204115831712404\n",
      "Mutual dimension: 0.06465622821961438\n",
      "Processing patient: Subject27\n",
      "Opening raw data file C:\\Users\\pablo\\Documents\\UNIVERSIDAD\\TFG\\eeg-during-mental-arithmetic-tasks-1.0.0\\eeg-during-mental-arithmetic-tasks-1.0.0\\pacientes_antes\\recortados\\Subject27_1_recortado.fif...\n",
      "Isotrak not found\n",
      "    Range : 0 ... 30999 =      0.000 ...    61.998 secs\n",
      "Ready.\n",
      "Reading 0 ... 30999  =      0.000 ...    61.998 secs...\n",
      "Extracting EDF parameters from C:\\Users\\pablo\\Documents\\UNIVERSIDAD\\TFG\\eeg-during-mental-arithmetic-tasks-1.0.0\\eeg-during-mental-arithmetic-tasks-1.0.0\\pacientes_durante\\Subject27_2.edf...\n",
      "EDF file detected\n",
      "Setting channel info structure...\n",
      "Creating raw.info structure...\n",
      "Reading 0 ... 30999  =      0.000 ...    61.998 secs...\n"
     ]
    },
    {
     "name": "stderr",
     "output_type": "stream",
     "text": [
      "C:\\Users\\pablo\\AppData\\Local\\Temp\\ipykernel_18512\\2716403607.py:8: RuntimeWarning: This filename (C:\\Users\\pablo\\Documents\\UNIVERSIDAD\\TFG\\eeg-during-mental-arithmetic-tasks-1.0.0\\eeg-during-mental-arithmetic-tasks-1.0.0\\pacientes_antes\\recortados\\Subject27_1_recortado.fif) does not conform to MNE naming conventions. All raw files should end with raw.fif, raw_sss.fif, raw_tsss.fif, _meg.fif, _eeg.fif, _ieeg.fif, raw.fif.gz, raw_sss.fif.gz, raw_tsss.fif.gz, _meg.fif.gz, _eeg.fif.gz or _ieeg.fif.gz\n",
      "  raw1 = mne.io.read_raw_fif(file_path_1, preload=True)\n",
      "C:\\Users\\pablo\\anaconda3\\Lib\\site-packages\\sklearn\\metrics\\_regression.py:1187: UndefinedMetricWarning: R^2 score is not well-defined with less than two samples.\n",
      "  warnings.warn(msg, UndefinedMetricWarning)\n",
      "C:\\Users\\pablo\\anaconda3\\Lib\\site-packages\\sklearn\\metrics\\_regression.py:1187: UndefinedMetricWarning: R^2 score is not well-defined with less than two samples.\n",
      "  warnings.warn(msg, UndefinedMetricWarning)\n",
      "C:\\Users\\pablo\\anaconda3\\Lib\\site-packages\\sklearn\\metrics\\_regression.py:1187: UndefinedMetricWarning: R^2 score is not well-defined with less than two samples.\n",
      "  warnings.warn(msg, UndefinedMetricWarning)\n",
      "C:\\Users\\pablo\\anaconda3\\Lib\\site-packages\\sklearn\\metrics\\_regression.py:1187: UndefinedMetricWarning: R^2 score is not well-defined with less than two samples.\n",
      "  warnings.warn(msg, UndefinedMetricWarning)\n",
      "C:\\Users\\pablo\\anaconda3\\Lib\\site-packages\\sklearn\\metrics\\_regression.py:1187: UndefinedMetricWarning: R^2 score is not well-defined with less than two samples.\n",
      "  warnings.warn(msg, UndefinedMetricWarning)\n"
     ]
    },
    {
     "name": "stdout",
     "output_type": "stream",
     "text": [
      "Correlation dimension X: 0.020506568256200328\n",
      "Correlation dimension Y: 0.0215524061029152\n",
      "Joint correlation dimension XY: 0.019886442947731706\n",
      "Mutual dimension: 0.02217253141138382\n",
      "Processing patient: Subject28\n",
      "Opening raw data file C:\\Users\\pablo\\Documents\\UNIVERSIDAD\\TFG\\eeg-during-mental-arithmetic-tasks-1.0.0\\eeg-during-mental-arithmetic-tasks-1.0.0\\pacientes_antes\\recortados\\Subject28_1_recortado.fif...\n",
      "Isotrak not found\n",
      "    Range : 0 ... 30999 =      0.000 ...    61.998 secs\n",
      "Ready.\n",
      "Reading 0 ... 30999  =      0.000 ...    61.998 secs...\n",
      "Extracting EDF parameters from C:\\Users\\pablo\\Documents\\UNIVERSIDAD\\TFG\\eeg-during-mental-arithmetic-tasks-1.0.0\\eeg-during-mental-arithmetic-tasks-1.0.0\\pacientes_durante\\Subject28_2.edf...\n",
      "EDF file detected\n",
      "Setting channel info structure...\n",
      "Creating raw.info structure...\n",
      "Reading 0 ... 30999  =      0.000 ...    61.998 secs...\n"
     ]
    },
    {
     "name": "stderr",
     "output_type": "stream",
     "text": [
      "C:\\Users\\pablo\\anaconda3\\Lib\\site-packages\\sklearn\\metrics\\_regression.py:1187: UndefinedMetricWarning: R^2 score is not well-defined with less than two samples.\n",
      "  warnings.warn(msg, UndefinedMetricWarning)\n",
      "C:\\Users\\pablo\\AppData\\Local\\Temp\\ipykernel_18512\\2716403607.py:8: RuntimeWarning: This filename (C:\\Users\\pablo\\Documents\\UNIVERSIDAD\\TFG\\eeg-during-mental-arithmetic-tasks-1.0.0\\eeg-during-mental-arithmetic-tasks-1.0.0\\pacientes_antes\\recortados\\Subject28_1_recortado.fif) does not conform to MNE naming conventions. All raw files should end with raw.fif, raw_sss.fif, raw_tsss.fif, _meg.fif, _eeg.fif, _ieeg.fif, raw.fif.gz, raw_sss.fif.gz, raw_tsss.fif.gz, _meg.fif.gz, _eeg.fif.gz or _ieeg.fif.gz\n",
      "  raw1 = mne.io.read_raw_fif(file_path_1, preload=True)\n",
      "C:\\Users\\pablo\\anaconda3\\Lib\\site-packages\\sklearn\\metrics\\_regression.py:1187: UndefinedMetricWarning: R^2 score is not well-defined with less than two samples.\n",
      "  warnings.warn(msg, UndefinedMetricWarning)\n",
      "C:\\Users\\pablo\\anaconda3\\Lib\\site-packages\\sklearn\\metrics\\_regression.py:1187: UndefinedMetricWarning: R^2 score is not well-defined with less than two samples.\n",
      "  warnings.warn(msg, UndefinedMetricWarning)\n",
      "C:\\Users\\pablo\\anaconda3\\Lib\\site-packages\\sklearn\\metrics\\_regression.py:1187: UndefinedMetricWarning: R^2 score is not well-defined with less than two samples.\n",
      "  warnings.warn(msg, UndefinedMetricWarning)\n",
      "C:\\Users\\pablo\\anaconda3\\Lib\\site-packages\\sklearn\\metrics\\_regression.py:1187: UndefinedMetricWarning: R^2 score is not well-defined with less than two samples.\n",
      "  warnings.warn(msg, UndefinedMetricWarning)\n",
      "C:\\Users\\pablo\\anaconda3\\Lib\\site-packages\\sklearn\\metrics\\_regression.py:1187: UndefinedMetricWarning: R^2 score is not well-defined with less than two samples.\n",
      "  warnings.warn(msg, UndefinedMetricWarning)\n"
     ]
    },
    {
     "name": "stdout",
     "output_type": "stream",
     "text": [
      "Correlation dimension X: 0.056688229965131315\n",
      "Correlation dimension Y: 0.012010534921938367\n",
      "Joint correlation dimension XY: 0.026778685006798614\n",
      "Mutual dimension: 0.04192007988027106\n",
      "Processing patient: Subject29\n",
      "Opening raw data file C:\\Users\\pablo\\Documents\\UNIVERSIDAD\\TFG\\eeg-during-mental-arithmetic-tasks-1.0.0\\eeg-during-mental-arithmetic-tasks-1.0.0\\pacientes_antes\\recortados\\Subject29_1_recortado.fif...\n",
      "Isotrak not found\n",
      "    Range : 0 ... 30999 =      0.000 ...    61.998 secs\n",
      "Ready.\n",
      "Reading 0 ... 30999  =      0.000 ...    61.998 secs...\n",
      "Extracting EDF parameters from C:\\Users\\pablo\\Documents\\UNIVERSIDAD\\TFG\\eeg-during-mental-arithmetic-tasks-1.0.0\\eeg-during-mental-arithmetic-tasks-1.0.0\\pacientes_durante\\Subject29_2.edf...\n",
      "EDF file detected\n",
      "Setting channel info structure...\n",
      "Creating raw.info structure...\n",
      "Reading 0 ... 30999  =      0.000 ...    61.998 secs...\n"
     ]
    },
    {
     "name": "stderr",
     "output_type": "stream",
     "text": [
      "C:\\Users\\pablo\\AppData\\Local\\Temp\\ipykernel_18512\\2716403607.py:8: RuntimeWarning: This filename (C:\\Users\\pablo\\Documents\\UNIVERSIDAD\\TFG\\eeg-during-mental-arithmetic-tasks-1.0.0\\eeg-during-mental-arithmetic-tasks-1.0.0\\pacientes_antes\\recortados\\Subject29_1_recortado.fif) does not conform to MNE naming conventions. All raw files should end with raw.fif, raw_sss.fif, raw_tsss.fif, _meg.fif, _eeg.fif, _ieeg.fif, raw.fif.gz, raw_sss.fif.gz, raw_tsss.fif.gz, _meg.fif.gz, _eeg.fif.gz or _ieeg.fif.gz\n",
      "  raw1 = mne.io.read_raw_fif(file_path_1, preload=True)\n",
      "C:\\Users\\pablo\\anaconda3\\Lib\\site-packages\\sklearn\\metrics\\_regression.py:1187: UndefinedMetricWarning: R^2 score is not well-defined with less than two samples.\n",
      "  warnings.warn(msg, UndefinedMetricWarning)\n",
      "C:\\Users\\pablo\\anaconda3\\Lib\\site-packages\\sklearn\\metrics\\_regression.py:1187: UndefinedMetricWarning: R^2 score is not well-defined with less than two samples.\n",
      "  warnings.warn(msg, UndefinedMetricWarning)\n",
      "C:\\Users\\pablo\\anaconda3\\Lib\\site-packages\\sklearn\\metrics\\_regression.py:1187: UndefinedMetricWarning: R^2 score is not well-defined with less than two samples.\n",
      "  warnings.warn(msg, UndefinedMetricWarning)\n",
      "C:\\Users\\pablo\\anaconda3\\Lib\\site-packages\\sklearn\\metrics\\_regression.py:1187: UndefinedMetricWarning: R^2 score is not well-defined with less than two samples.\n",
      "  warnings.warn(msg, UndefinedMetricWarning)\n",
      "C:\\Users\\pablo\\anaconda3\\Lib\\site-packages\\sklearn\\metrics\\_regression.py:1187: UndefinedMetricWarning: R^2 score is not well-defined with less than two samples.\n",
      "  warnings.warn(msg, UndefinedMetricWarning)\n",
      "C:\\Users\\pablo\\anaconda3\\Lib\\site-packages\\sklearn\\metrics\\_regression.py:1187: UndefinedMetricWarning: R^2 score is not well-defined with less than two samples.\n",
      "  warnings.warn(msg, UndefinedMetricWarning)\n",
      "C:\\Users\\pablo\\anaconda3\\Lib\\site-packages\\sklearn\\metrics\\_regression.py:1187: UndefinedMetricWarning: R^2 score is not well-defined with less than two samples.\n",
      "  warnings.warn(msg, UndefinedMetricWarning)\n",
      "C:\\Users\\pablo\\anaconda3\\Lib\\site-packages\\sklearn\\metrics\\_regression.py:1187: UndefinedMetricWarning: R^2 score is not well-defined with less than two samples.\n",
      "  warnings.warn(msg, UndefinedMetricWarning)\n",
      "C:\\Users\\pablo\\anaconda3\\Lib\\site-packages\\sklearn\\metrics\\_regression.py:1187: UndefinedMetricWarning: R^2 score is not well-defined with less than two samples.\n",
      "  warnings.warn(msg, UndefinedMetricWarning)\n",
      "C:\\Users\\pablo\\anaconda3\\Lib\\site-packages\\sklearn\\metrics\\_regression.py:1187: UndefinedMetricWarning: R^2 score is not well-defined with less than two samples.\n",
      "  warnings.warn(msg, UndefinedMetricWarning)\n"
     ]
    },
    {
     "name": "stdout",
     "output_type": "stream",
     "text": [
      "Correlation dimension X: 0.008443556989688189\n",
      "Correlation dimension Y: 0.005140165954290339\n",
      "Joint correlation dimension XY: 0.007235356677614037\n",
      "Mutual dimension: 0.00634836626636449\n",
      "Processing patient: Subject30\n",
      "Opening raw data file C:\\Users\\pablo\\Documents\\UNIVERSIDAD\\TFG\\eeg-during-mental-arithmetic-tasks-1.0.0\\eeg-during-mental-arithmetic-tasks-1.0.0\\pacientes_antes\\recortados\\Subject30_1_recortado.fif...\n",
      "Isotrak not found\n",
      "    Range : 0 ... 30999 =      0.000 ...    61.998 secs\n",
      "Ready.\n",
      "Reading 0 ... 30999  =      0.000 ...    61.998 secs...\n",
      "Extracting EDF parameters from C:\\Users\\pablo\\Documents\\UNIVERSIDAD\\TFG\\eeg-during-mental-arithmetic-tasks-1.0.0\\eeg-during-mental-arithmetic-tasks-1.0.0\\pacientes_durante\\Subject30_2.edf...\n",
      "EDF file detected\n",
      "Setting channel info structure...\n",
      "Creating raw.info structure...\n",
      "Reading 0 ... 30999  =      0.000 ...    61.998 secs...\n"
     ]
    },
    {
     "name": "stderr",
     "output_type": "stream",
     "text": [
      "C:\\Users\\pablo\\AppData\\Local\\Temp\\ipykernel_18512\\2716403607.py:8: RuntimeWarning: This filename (C:\\Users\\pablo\\Documents\\UNIVERSIDAD\\TFG\\eeg-during-mental-arithmetic-tasks-1.0.0\\eeg-during-mental-arithmetic-tasks-1.0.0\\pacientes_antes\\recortados\\Subject30_1_recortado.fif) does not conform to MNE naming conventions. All raw files should end with raw.fif, raw_sss.fif, raw_tsss.fif, _meg.fif, _eeg.fif, _ieeg.fif, raw.fif.gz, raw_sss.fif.gz, raw_tsss.fif.gz, _meg.fif.gz, _eeg.fif.gz or _ieeg.fif.gz\n",
      "  raw1 = mne.io.read_raw_fif(file_path_1, preload=True)\n",
      "C:\\Users\\pablo\\anaconda3\\Lib\\site-packages\\sklearn\\metrics\\_regression.py:1187: UndefinedMetricWarning: R^2 score is not well-defined with less than two samples.\n",
      "  warnings.warn(msg, UndefinedMetricWarning)\n",
      "C:\\Users\\pablo\\anaconda3\\Lib\\site-packages\\sklearn\\metrics\\_regression.py:1187: UndefinedMetricWarning: R^2 score is not well-defined with less than two samples.\n",
      "  warnings.warn(msg, UndefinedMetricWarning)\n",
      "C:\\Users\\pablo\\anaconda3\\Lib\\site-packages\\sklearn\\metrics\\_regression.py:1187: UndefinedMetricWarning: R^2 score is not well-defined with less than two samples.\n",
      "  warnings.warn(msg, UndefinedMetricWarning)\n",
      "C:\\Users\\pablo\\anaconda3\\Lib\\site-packages\\sklearn\\metrics\\_regression.py:1187: UndefinedMetricWarning: R^2 score is not well-defined with less than two samples.\n",
      "  warnings.warn(msg, UndefinedMetricWarning)\n",
      "C:\\Users\\pablo\\anaconda3\\Lib\\site-packages\\sklearn\\metrics\\_regression.py:1187: UndefinedMetricWarning: R^2 score is not well-defined with less than two samples.\n",
      "  warnings.warn(msg, UndefinedMetricWarning)\n",
      "C:\\Users\\pablo\\anaconda3\\Lib\\site-packages\\sklearn\\metrics\\_regression.py:1187: UndefinedMetricWarning: R^2 score is not well-defined with less than two samples.\n",
      "  warnings.warn(msg, UndefinedMetricWarning)\n",
      "C:\\Users\\pablo\\anaconda3\\Lib\\site-packages\\sklearn\\metrics\\_regression.py:1187: UndefinedMetricWarning: R^2 score is not well-defined with less than two samples.\n",
      "  warnings.warn(msg, UndefinedMetricWarning)\n",
      "C:\\Users\\pablo\\anaconda3\\Lib\\site-packages\\sklearn\\metrics\\_regression.py:1187: UndefinedMetricWarning: R^2 score is not well-defined with less than two samples.\n",
      "  warnings.warn(msg, UndefinedMetricWarning)\n",
      "C:\\Users\\pablo\\anaconda3\\Lib\\site-packages\\sklearn\\metrics\\_regression.py:1187: UndefinedMetricWarning: R^2 score is not well-defined with less than two samples.\n",
      "  warnings.warn(msg, UndefinedMetricWarning)\n",
      "C:\\Users\\pablo\\anaconda3\\Lib\\site-packages\\sklearn\\metrics\\_regression.py:1187: UndefinedMetricWarning: R^2 score is not well-defined with less than two samples.\n",
      "  warnings.warn(msg, UndefinedMetricWarning)\n",
      "C:\\Users\\pablo\\anaconda3\\Lib\\site-packages\\sklearn\\metrics\\_regression.py:1187: UndefinedMetricWarning: R^2 score is not well-defined with less than two samples.\n",
      "  warnings.warn(msg, UndefinedMetricWarning)\n"
     ]
    },
    {
     "name": "stdout",
     "output_type": "stream",
     "text": [
      "Correlation dimension X: 0.034770144078399755\n",
      "Correlation dimension Y: 0.024318835795792356\n",
      "Joint correlation dimension XY: 0.028682236909463633\n",
      "Mutual dimension: 0.030406742964728475\n",
      "Processing patient: Subject31\n",
      "Opening raw data file C:\\Users\\pablo\\Documents\\UNIVERSIDAD\\TFG\\eeg-during-mental-arithmetic-tasks-1.0.0\\eeg-during-mental-arithmetic-tasks-1.0.0\\pacientes_antes\\recortados\\Subject31_1_recortado.fif...\n",
      "Isotrak not found\n",
      "    Range : 0 ... 30999 =      0.000 ...    61.998 secs\n",
      "Ready.\n",
      "Reading 0 ... 30999  =      0.000 ...    61.998 secs...\n",
      "Extracting EDF parameters from C:\\Users\\pablo\\Documents\\UNIVERSIDAD\\TFG\\eeg-during-mental-arithmetic-tasks-1.0.0\\eeg-during-mental-arithmetic-tasks-1.0.0\\pacientes_durante\\Subject31_2.edf...\n",
      "EDF file detected\n",
      "Setting channel info structure...\n",
      "Creating raw.info structure...\n",
      "Reading 0 ... 30999  =      0.000 ...    61.998 secs...\n"
     ]
    },
    {
     "name": "stderr",
     "output_type": "stream",
     "text": [
      "C:\\Users\\pablo\\AppData\\Local\\Temp\\ipykernel_18512\\2716403607.py:8: RuntimeWarning: This filename (C:\\Users\\pablo\\Documents\\UNIVERSIDAD\\TFG\\eeg-during-mental-arithmetic-tasks-1.0.0\\eeg-during-mental-arithmetic-tasks-1.0.0\\pacientes_antes\\recortados\\Subject31_1_recortado.fif) does not conform to MNE naming conventions. All raw files should end with raw.fif, raw_sss.fif, raw_tsss.fif, _meg.fif, _eeg.fif, _ieeg.fif, raw.fif.gz, raw_sss.fif.gz, raw_tsss.fif.gz, _meg.fif.gz, _eeg.fif.gz or _ieeg.fif.gz\n",
      "  raw1 = mne.io.read_raw_fif(file_path_1, preload=True)\n",
      "C:\\Users\\pablo\\anaconda3\\Lib\\site-packages\\sklearn\\metrics\\_regression.py:1187: UndefinedMetricWarning: R^2 score is not well-defined with less than two samples.\n",
      "  warnings.warn(msg, UndefinedMetricWarning)\n",
      "C:\\Users\\pablo\\anaconda3\\Lib\\site-packages\\sklearn\\metrics\\_regression.py:1187: UndefinedMetricWarning: R^2 score is not well-defined with less than two samples.\n",
      "  warnings.warn(msg, UndefinedMetricWarning)\n",
      "C:\\Users\\pablo\\anaconda3\\Lib\\site-packages\\sklearn\\metrics\\_regression.py:1187: UndefinedMetricWarning: R^2 score is not well-defined with less than two samples.\n",
      "  warnings.warn(msg, UndefinedMetricWarning)\n",
      "C:\\Users\\pablo\\anaconda3\\Lib\\site-packages\\sklearn\\metrics\\_regression.py:1187: UndefinedMetricWarning: R^2 score is not well-defined with less than two samples.\n",
      "  warnings.warn(msg, UndefinedMetricWarning)\n",
      "C:\\Users\\pablo\\anaconda3\\Lib\\site-packages\\sklearn\\metrics\\_regression.py:1187: UndefinedMetricWarning: R^2 score is not well-defined with less than two samples.\n",
      "  warnings.warn(msg, UndefinedMetricWarning)\n",
      "C:\\Users\\pablo\\anaconda3\\Lib\\site-packages\\sklearn\\metrics\\_regression.py:1187: UndefinedMetricWarning: R^2 score is not well-defined with less than two samples.\n",
      "  warnings.warn(msg, UndefinedMetricWarning)\n",
      "C:\\Users\\pablo\\anaconda3\\Lib\\site-packages\\sklearn\\metrics\\_regression.py:1187: UndefinedMetricWarning: R^2 score is not well-defined with less than two samples.\n",
      "  warnings.warn(msg, UndefinedMetricWarning)\n",
      "C:\\Users\\pablo\\anaconda3\\Lib\\site-packages\\sklearn\\metrics\\_regression.py:1187: UndefinedMetricWarning: R^2 score is not well-defined with less than two samples.\n",
      "  warnings.warn(msg, UndefinedMetricWarning)\n",
      "C:\\Users\\pablo\\anaconda3\\Lib\\site-packages\\sklearn\\metrics\\_regression.py:1187: UndefinedMetricWarning: R^2 score is not well-defined with less than two samples.\n",
      "  warnings.warn(msg, UndefinedMetricWarning)\n",
      "C:\\Users\\pablo\\anaconda3\\Lib\\site-packages\\sklearn\\metrics\\_regression.py:1187: UndefinedMetricWarning: R^2 score is not well-defined with less than two samples.\n",
      "  warnings.warn(msg, UndefinedMetricWarning)\n"
     ]
    },
    {
     "name": "stdout",
     "output_type": "stream",
     "text": [
      "Correlation dimension X: 0.027083445147701984\n",
      "Correlation dimension Y: 0.0098976581662856\n",
      "Joint correlation dimension XY: 0.024945784371213614\n",
      "Mutual dimension: 0.012035318942773973\n",
      "Processing patient: Subject32\n",
      "Opening raw data file C:\\Users\\pablo\\Documents\\UNIVERSIDAD\\TFG\\eeg-during-mental-arithmetic-tasks-1.0.0\\eeg-during-mental-arithmetic-tasks-1.0.0\\pacientes_antes\\recortados\\Subject32_1_recortado.fif...\n",
      "Isotrak not found\n",
      "    Range : 0 ... 30999 =      0.000 ...    61.998 secs\n",
      "Ready.\n",
      "Reading 0 ... 30999  =      0.000 ...    61.998 secs...\n",
      "Extracting EDF parameters from C:\\Users\\pablo\\Documents\\UNIVERSIDAD\\TFG\\eeg-during-mental-arithmetic-tasks-1.0.0\\eeg-during-mental-arithmetic-tasks-1.0.0\\pacientes_durante\\Subject32_2.edf...\n",
      "EDF file detected\n",
      "Setting channel info structure...\n",
      "Creating raw.info structure...\n",
      "Reading 0 ... 30999  =      0.000 ...    61.998 secs...\n"
     ]
    },
    {
     "name": "stderr",
     "output_type": "stream",
     "text": [
      "C:\\Users\\pablo\\AppData\\Local\\Temp\\ipykernel_18512\\2716403607.py:8: RuntimeWarning: This filename (C:\\Users\\pablo\\Documents\\UNIVERSIDAD\\TFG\\eeg-during-mental-arithmetic-tasks-1.0.0\\eeg-during-mental-arithmetic-tasks-1.0.0\\pacientes_antes\\recortados\\Subject32_1_recortado.fif) does not conform to MNE naming conventions. All raw files should end with raw.fif, raw_sss.fif, raw_tsss.fif, _meg.fif, _eeg.fif, _ieeg.fif, raw.fif.gz, raw_sss.fif.gz, raw_tsss.fif.gz, _meg.fif.gz, _eeg.fif.gz or _ieeg.fif.gz\n",
      "  raw1 = mne.io.read_raw_fif(file_path_1, preload=True)\n",
      "C:\\Users\\pablo\\anaconda3\\Lib\\site-packages\\sklearn\\metrics\\_regression.py:1187: UndefinedMetricWarning: R^2 score is not well-defined with less than two samples.\n",
      "  warnings.warn(msg, UndefinedMetricWarning)\n",
      "C:\\Users\\pablo\\anaconda3\\Lib\\site-packages\\sklearn\\metrics\\_regression.py:1187: UndefinedMetricWarning: R^2 score is not well-defined with less than two samples.\n",
      "  warnings.warn(msg, UndefinedMetricWarning)\n"
     ]
    },
    {
     "name": "stdout",
     "output_type": "stream",
     "text": [
      "Correlation dimension X: 0.001581674146928051\n",
      "Correlation dimension Y: 5.015889304167665e-16\n",
      "Joint correlation dimension XY: 0.0007908370734645444\n",
      "Mutual dimension: 0.0007908370734640082\n",
      "Processing patient: Subject33\n",
      "Opening raw data file C:\\Users\\pablo\\Documents\\UNIVERSIDAD\\TFG\\eeg-during-mental-arithmetic-tasks-1.0.0\\eeg-during-mental-arithmetic-tasks-1.0.0\\pacientes_antes\\recortados\\Subject33_1_recortado.fif...\n",
      "Isotrak not found\n",
      "    Range : 0 ... 30999 =      0.000 ...    61.998 secs\n",
      "Ready.\n",
      "Reading 0 ... 30999  =      0.000 ...    61.998 secs...\n",
      "Extracting EDF parameters from C:\\Users\\pablo\\Documents\\UNIVERSIDAD\\TFG\\eeg-during-mental-arithmetic-tasks-1.0.0\\eeg-during-mental-arithmetic-tasks-1.0.0\\pacientes_durante\\Subject33_2.edf...\n",
      "EDF file detected\n",
      "Setting channel info structure...\n",
      "Creating raw.info structure...\n",
      "Reading 0 ... 30999  =      0.000 ...    61.998 secs...\n"
     ]
    },
    {
     "name": "stderr",
     "output_type": "stream",
     "text": [
      "C:\\Users\\pablo\\AppData\\Local\\Temp\\ipykernel_18512\\2716403607.py:8: RuntimeWarning: This filename (C:\\Users\\pablo\\Documents\\UNIVERSIDAD\\TFG\\eeg-during-mental-arithmetic-tasks-1.0.0\\eeg-during-mental-arithmetic-tasks-1.0.0\\pacientes_antes\\recortados\\Subject33_1_recortado.fif) does not conform to MNE naming conventions. All raw files should end with raw.fif, raw_sss.fif, raw_tsss.fif, _meg.fif, _eeg.fif, _ieeg.fif, raw.fif.gz, raw_sss.fif.gz, raw_tsss.fif.gz, _meg.fif.gz, _eeg.fif.gz or _ieeg.fif.gz\n",
      "  raw1 = mne.io.read_raw_fif(file_path_1, preload=True)\n",
      "C:\\Users\\pablo\\anaconda3\\Lib\\site-packages\\sklearn\\metrics\\_regression.py:1187: UndefinedMetricWarning: R^2 score is not well-defined with less than two samples.\n",
      "  warnings.warn(msg, UndefinedMetricWarning)\n",
      "C:\\Users\\pablo\\anaconda3\\Lib\\site-packages\\sklearn\\metrics\\_regression.py:1187: UndefinedMetricWarning: R^2 score is not well-defined with less than two samples.\n",
      "  warnings.warn(msg, UndefinedMetricWarning)\n",
      "C:\\Users\\pablo\\anaconda3\\Lib\\site-packages\\sklearn\\metrics\\_regression.py:1187: UndefinedMetricWarning: R^2 score is not well-defined with less than two samples.\n",
      "  warnings.warn(msg, UndefinedMetricWarning)\n"
     ]
    },
    {
     "name": "stdout",
     "output_type": "stream",
     "text": [
      "Correlation dimension X: 0.0490570155514349\n",
      "Correlation dimension Y: 0.008949775796861494\n",
      "Joint correlation dimension XY: 0.03043459683789021\n",
      "Mutual dimension: 0.027572194510406184\n",
      "Processing patient: Subject34\n",
      "Opening raw data file C:\\Users\\pablo\\Documents\\UNIVERSIDAD\\TFG\\eeg-during-mental-arithmetic-tasks-1.0.0\\eeg-during-mental-arithmetic-tasks-1.0.0\\pacientes_antes\\recortados\\Subject34_1_recortado.fif...\n",
      "Isotrak not found\n",
      "    Range : 0 ... 30999 =      0.000 ...    61.998 secs\n",
      "Ready.\n",
      "Reading 0 ... 30999  =      0.000 ...    61.998 secs...\n",
      "Extracting EDF parameters from C:\\Users\\pablo\\Documents\\UNIVERSIDAD\\TFG\\eeg-during-mental-arithmetic-tasks-1.0.0\\eeg-during-mental-arithmetic-tasks-1.0.0\\pacientes_durante\\Subject34_2.edf...\n",
      "EDF file detected\n",
      "Setting channel info structure...\n",
      "Creating raw.info structure...\n",
      "Reading 0 ... 30999  =      0.000 ...    61.998 secs...\n"
     ]
    },
    {
     "name": "stderr",
     "output_type": "stream",
     "text": [
      "C:\\Users\\pablo\\AppData\\Local\\Temp\\ipykernel_18512\\2716403607.py:8: RuntimeWarning: This filename (C:\\Users\\pablo\\Documents\\UNIVERSIDAD\\TFG\\eeg-during-mental-arithmetic-tasks-1.0.0\\eeg-during-mental-arithmetic-tasks-1.0.0\\pacientes_antes\\recortados\\Subject34_1_recortado.fif) does not conform to MNE naming conventions. All raw files should end with raw.fif, raw_sss.fif, raw_tsss.fif, _meg.fif, _eeg.fif, _ieeg.fif, raw.fif.gz, raw_sss.fif.gz, raw_tsss.fif.gz, _meg.fif.gz, _eeg.fif.gz or _ieeg.fif.gz\n",
      "  raw1 = mne.io.read_raw_fif(file_path_1, preload=True)\n",
      "C:\\Users\\pablo\\anaconda3\\Lib\\site-packages\\sklearn\\metrics\\_regression.py:1187: UndefinedMetricWarning: R^2 score is not well-defined with less than two samples.\n",
      "  warnings.warn(msg, UndefinedMetricWarning)\n"
     ]
    },
    {
     "name": "stdout",
     "output_type": "stream",
     "text": [
      "Correlation dimension X: 0.0005480642011471896\n",
      "Correlation dimension Y: 0.0005421247783531038\n",
      "Joint correlation dimension XY: 0.0006304986050224738\n",
      "Mutual dimension: 0.00045969037447781975\n",
      "Processing patient: Subject35\n",
      "Opening raw data file C:\\Users\\pablo\\Documents\\UNIVERSIDAD\\TFG\\eeg-during-mental-arithmetic-tasks-1.0.0\\eeg-during-mental-arithmetic-tasks-1.0.0\\pacientes_antes\\recortados\\Subject35_1_recortado.fif...\n",
      "Isotrak not found\n",
      "    Range : 0 ... 30999 =      0.000 ...    61.998 secs\n",
      "Ready.\n",
      "Reading 0 ... 30999  =      0.000 ...    61.998 secs...\n",
      "Extracting EDF parameters from C:\\Users\\pablo\\Documents\\UNIVERSIDAD\\TFG\\eeg-during-mental-arithmetic-tasks-1.0.0\\eeg-during-mental-arithmetic-tasks-1.0.0\\pacientes_durante\\Subject35_2.edf...\n",
      "EDF file detected\n",
      "Setting channel info structure...\n",
      "Creating raw.info structure...\n",
      "Reading 0 ... 30999  =      0.000 ...    61.998 secs...\n"
     ]
    },
    {
     "name": "stderr",
     "output_type": "stream",
     "text": [
      "C:\\Users\\pablo\\AppData\\Local\\Temp\\ipykernel_18512\\2716403607.py:8: RuntimeWarning: This filename (C:\\Users\\pablo\\Documents\\UNIVERSIDAD\\TFG\\eeg-during-mental-arithmetic-tasks-1.0.0\\eeg-during-mental-arithmetic-tasks-1.0.0\\pacientes_antes\\recortados\\Subject35_1_recortado.fif) does not conform to MNE naming conventions. All raw files should end with raw.fif, raw_sss.fif, raw_tsss.fif, _meg.fif, _eeg.fif, _ieeg.fif, raw.fif.gz, raw_sss.fif.gz, raw_tsss.fif.gz, _meg.fif.gz, _eeg.fif.gz or _ieeg.fif.gz\n",
      "  raw1 = mne.io.read_raw_fif(file_path_1, preload=True)\n",
      "C:\\Users\\pablo\\anaconda3\\Lib\\site-packages\\sklearn\\metrics\\_regression.py:1187: UndefinedMetricWarning: R^2 score is not well-defined with less than two samples.\n",
      "  warnings.warn(msg, UndefinedMetricWarning)\n",
      "C:\\Users\\pablo\\anaconda3\\Lib\\site-packages\\sklearn\\metrics\\_regression.py:1187: UndefinedMetricWarning: R^2 score is not well-defined with less than two samples.\n",
      "  warnings.warn(msg, UndefinedMetricWarning)\n",
      "C:\\Users\\pablo\\anaconda3\\Lib\\site-packages\\sklearn\\metrics\\_regression.py:1187: UndefinedMetricWarning: R^2 score is not well-defined with less than two samples.\n",
      "  warnings.warn(msg, UndefinedMetricWarning)\n",
      "C:\\Users\\pablo\\anaconda3\\Lib\\site-packages\\sklearn\\metrics\\_regression.py:1187: UndefinedMetricWarning: R^2 score is not well-defined with less than two samples.\n",
      "  warnings.warn(msg, UndefinedMetricWarning)\n",
      "C:\\Users\\pablo\\anaconda3\\Lib\\site-packages\\sklearn\\metrics\\_regression.py:1187: UndefinedMetricWarning: R^2 score is not well-defined with less than two samples.\n",
      "  warnings.warn(msg, UndefinedMetricWarning)\n",
      "C:\\Users\\pablo\\anaconda3\\Lib\\site-packages\\sklearn\\metrics\\_regression.py:1187: UndefinedMetricWarning: R^2 score is not well-defined with less than two samples.\n",
      "  warnings.warn(msg, UndefinedMetricWarning)\n",
      "C:\\Users\\pablo\\anaconda3\\Lib\\site-packages\\sklearn\\metrics\\_regression.py:1187: UndefinedMetricWarning: R^2 score is not well-defined with less than two samples.\n",
      "  warnings.warn(msg, UndefinedMetricWarning)\n",
      "C:\\Users\\pablo\\anaconda3\\Lib\\site-packages\\sklearn\\metrics\\_regression.py:1187: UndefinedMetricWarning: R^2 score is not well-defined with less than two samples.\n",
      "  warnings.warn(msg, UndefinedMetricWarning)\n"
     ]
    },
    {
     "name": "stdout",
     "output_type": "stream",
     "text": [
      "Correlation dimension X: 0.05803156996034107\n",
      "Correlation dimension Y: 0.00119404084855063\n",
      "Joint correlation dimension XY: 0.042695730243708006\n",
      "Mutual dimension: 0.016529880565183695\n"
     ]
    }
   ],
   "source": [
    "import os\n",
    "\n",
    "path_before = \"subjects_before/cropped\"\n",
    "path_during = \"subjects_during\"\n",
    "\n",
    "# Function to find the corresponding 'during' file\n",
    "def find_during_file(file_before, path_during):\n",
    "    patient_id = file_before.split(\"_\")[0]  # Extract patient ID\n",
    "    possible_files = [f for f in os.listdir(path_during) if patient_id in f]\n",
    "    \n",
    "    return os.path.join(path_during, possible_files[0]) if possible_files else None\n",
    "\n",
    "# Dictionary to store results\n",
    "results = {}\n",
    "\n",
    "for file_before in os.listdir(path_before):\n",
    "    file_path_before = os.path.join(path_before, file_before)\n",
    "    file_path_during = find_during_file(file_before, path_during)\n",
    "\n",
    "    if file_path_during:\n",
    "        patient_id = file_before.split(\"_\")[0]\n",
    "        print(f\"Processing patient: {patient_id}\")\n",
    "        mutual_dim = mutual_dimension(file_path_before, file_path_during)\n",
    "        results[file_before] = mutual_dim\n",
    "    else:\n",
    "        print(f\"Missing 'during' file for patient {file_before}\")\n",
    "        results[file_before] = \"Missing 'during' file\"\n",
    "\n",
    "# Save results\n",
    "with open(\"mutual_dimension_results.txt\", \"w\") as f:\n",
    "    for patient, dim in results.items():\n",
    "        f.write(f\"{patient}: {dim}\\n\")\n"
   ]
  },
  {
   "cell_type": "code",
   "execution_count": 82,
   "id": "9c912fc9-91ea-4220-a243-72b127c729db",
   "metadata": {},
   "outputs": [
    {
     "data": {
      "image/png": "[encoded data removed]",
      "text/plain": [
       "<Figure size 1400x600 with 1 Axes>"
      ]
     },
     "metadata": {},
     "output_type": "display_data"
    }
   ],
   "source": [
    "import matplotlib.pyplot as plt\n",
    "\n",
    "with open(\"dim_mutua_results.txt\", \"r\") as f:\n",
    "    lines = f.readlines()\n",
    "\n",
    "# Extract data\n",
    "subjects = []\n",
    "values = []\n",
    "for line in lines:\n",
    "    if \"File missing\" in line:\n",
    "        continue  \n",
    "    subject, value = line.strip().split(\":\")\n",
    "    subjects.append(subject.split(\"_\")[0])  \n",
    "    values.append(float(value))\n",
    "\n",
    "\n",
    "plt.figure(figsize=(14, 6))\n",
    "plt.bar(subjects, values, color='skyblue', edgecolor='black')\n",
    "plt.xticks(rotation=90)\n",
    "plt.xlabel(\"Subject\")\n",
    "plt.ylabel(\"Mutual dimension\")\n",
    "plt.title(\"Mutual dimension in each Subject\")\n",
    "plt.tight_layout()\n",
    "plt.grid(axis='y', linestyle='--', alpha=0.7)\n",
    "plt.savefig(\"mutual_results.png\", dpi=300)  # Save figure\n",
    "plt.show()"
   ]
  }
 ],
 "metadata": {
  "kernelspec": {
   "display_name": "Python 3 (ipykernel)",
   "language": "python",
   "name": "python3"
  },
  "language_info": {
   "codemirror_mode": {
    "name": "ipython",
    "version": 3
   },
   "file_extension": ".py",
   "mimetype": "text/x-python",
   "name": "python",
   "nbconvert_exporter": "python",
   "pygments_lexer": "ipython3",
   "version": "3.12.4"
  }
 },
 "nbformat": 4,
 "nbformat_minor": 5
}
